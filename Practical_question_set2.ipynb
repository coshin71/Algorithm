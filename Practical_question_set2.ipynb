{
  "nbformat": 4,
  "nbformat_minor": 0,
  "metadata": {
    "colab": {
      "name": "Practical_question_set2.ipynb",
      "provenance": [],
      "collapsed_sections": [],
      "authorship_tag": "ABX9TyNYUacjT/4WmvC3W4oy51qg",
      "include_colab_link": true
    },
    "kernelspec": {
      "name": "python3",
      "display_name": "Python 3"
    },
    "language_info": {
      "name": "python"
    }
  },
  "cells": [
    {
      "cell_type": "markdown",
      "metadata": {
        "id": "view-in-github",
        "colab_type": "text"
      },
      "source": [
        "<a href=\"https://colab.research.google.com/github/coshin71/Algorithm/blob/main/Practical_question_set2.ipynb\" target=\"_parent\"><img src=\"https://colab.research.google.com/assets/colab-badge.svg\" alt=\"Open In Colab\"/></a>"
      ]
    },
    {
      "cell_type": "markdown",
      "source": [
        "#**어두운 길**"
      ],
      "metadata": {
        "id": "O3EjMvFCZfo1"
      }
    },
    {
      "cell_type": "code",
      "execution_count": 8,
      "metadata": {
        "colab": {
          "base_uri": "https://localhost:8080/"
        },
        "id": "RRvg3n_MZJMq",
        "outputId": "4c6ba287-3971-4d2c-a369-444663d1c13c"
      },
      "outputs": [
        {
          "output_type": "stream",
          "name": "stdout",
          "text": [
            "7 11\n",
            "0 1 7\n",
            "0 3 5\n",
            "1 2 8\n",
            "1 3 9\n",
            "1 4 7\n",
            "2 4 5\n",
            "3 4 15\n",
            "3 5 6\n",
            "4 5 8\n",
            "4 6 9\n",
            "5 6 11\n",
            "51\n"
          ]
        }
      ],
      "source": [
        "def find_parent(parent, x):\n",
        "    if parent[x] != x:\n",
        "        parent[x] = find_parent(parent, parent[x])\n",
        "    return parent[x]\n",
        "\n",
        "def union_parent(parent, a, b):\n",
        "    a = find_parent(parent, a)\n",
        "    b = find_parent(parent, b)\n",
        "    if a < b:\n",
        "        parent[b] = a\n",
        "    else:\n",
        "        parent[a] = b\n",
        "\n",
        "n, m = map(int, input().split())\n",
        "\n",
        "parent = [0] * (n + 1)\n",
        "for i in range(1, n + 1):\n",
        "    parent[i] = i\n",
        "\n",
        "edges = []\n",
        "for _ in range(m):\n",
        "    a, b, cost = map(int, input().split())\n",
        "    edges.append((cost, a, b))\n",
        "edges.sort()\n",
        "\n",
        "result = 0\n",
        "total = 0\n",
        "for edge in edges:\n",
        "    cost, a, b = edge\n",
        "    total += cost\n",
        "    if find_parent(parent, a) != find_parent(parent, b):\n",
        "        union_parent(parent, a, b)\n",
        "        result += cost\n",
        "\n",
        "print(total - result)"
      ]
    },
    {
      "cell_type": "markdown",
      "source": [
        "#**행성 터널**"
      ],
      "metadata": {
        "id": "bwk2QrI8lWHw"
      }
    },
    {
      "cell_type": "code",
      "source": [
        "def find_parent(parent, x):\n",
        "    if parent[x] != x:\n",
        "        parent[x] = find_parent(parent, parent[x])\n",
        "    return parent[x]\n",
        "\n",
        "def union_parent(parent, a, b):\n",
        "    a = find_parent(parent, a)\n",
        "    b = find_parent(parent, b)\n",
        "    if a < b:\n",
        "        parent[b] = a\n",
        "    else:\n",
        "        parent[a] = b\n",
        "\n",
        "n = int(input())\n",
        "\n",
        "parent = [0] * (n + 1)\n",
        "for i in range(1, n + 1):\n",
        "    parent[i] = i\n",
        "\n",
        "x = []\n",
        "y = []\n",
        "z = []\n",
        "\n",
        "for i in range(1, n + 1):\n",
        "    data = list(map(int, input().split()))\n",
        "    x.append((data[0], i))\n",
        "    y.append((data[1], i))\n",
        "    z.append((data[2], i))\n",
        "\n",
        "x.sort()\n",
        "y.sort()\n",
        "z.sort()\n",
        "\n",
        "edges = []\n",
        "for i in range(n - 1):\n",
        "    edges.append((x[i + 1][0] - x[i][0], x[i][1], x[i + 1][1]))\n",
        "    edges.append((y[i + 1][0] - y[i][0], y[i][1], y[i + 1][1]))\n",
        "    edges.append((z[i + 1][0] - z[i][0], z[i][1], z[i + 1][1]))\n",
        "\n",
        "edges.sort()\n",
        "\n",
        "result = 0\n",
        "for edge in edges:\n",
        "    cost, a, b = edge\n",
        "    if find_parent(parent, a) != find_parent(parent, b):\n",
        "        union_parent(parent, a, b)\n",
        "        result += cost\n",
        "\n",
        "print(result)"
      ],
      "metadata": {
        "id": "nxHhEhYbiuVG",
        "colab": {
          "base_uri": "https://localhost:8080/"
        },
        "outputId": "ba09175f-dd5d-4170-b4fd-61394c7d4539"
      },
      "execution_count": 3,
      "outputs": [
        {
          "output_type": "stream",
          "name": "stdout",
          "text": [
            "5\n",
            "11 -15 -15\n",
            "14 -5 -15\n",
            "-1 -1 -5\n",
            "10 -4 -1\n",
            "19 -4 19\n",
            "4\n"
          ]
        }
      ]
    },
    {
      "cell_type": "markdown",
      "source": [
        "#**최종 순위**"
      ],
      "metadata": {
        "id": "KmO9EwSNOR7f"
      }
    },
    {
      "cell_type": "code",
      "source": [
        "from collections import deque\n",
        "\n",
        "for _ in range(int(input())):\n",
        "    n = int(input())\n",
        "    indegree = [0] * (n + 1)\n",
        "    graph = [[False] * (n + 1) for _ in range(n + 1)]\n",
        "    data = list(map(int, input().split()))\n",
        "    for i in range(n):\n",
        "        for j in range(i + 1, n):\n",
        "            graph[data[i]][data[j]] = True\n",
        "            indegree[data[j]] += 1\n",
        "    \n",
        "    m = int(input())\n",
        "    for _ in range(m):\n",
        "        a, b = map(int, input().split())\n",
        "        if graph[a][b]:\n",
        "            graph[a][b] = False\n",
        "            graph[b][a] = True\n",
        "            indegree[a] += 1\n",
        "            indegree[b] -= 1\n",
        "        else:\n",
        "            graph[a][b] = True\n",
        "            graph[b][a] = False\n",
        "            indegree[a] -= 1\n",
        "            indegree[b] += 1\n",
        "    \n",
        "    result = []\n",
        "    q = deque()\n",
        "\n",
        "    for i in range(1, n + 1):\n",
        "        if indegree[i] == 0:\n",
        "            q.append(i)\n",
        "    \n",
        "    certain = True\n",
        "    cycle = False\n",
        "\n",
        "    for i in range(n):\n",
        "        if len(q) == 0:\n",
        "            cycle = True\n",
        "            break\n",
        "        if len(q) >= 2:\n",
        "            certain = False\n",
        "            break\n",
        "        now = q.popleft()\n",
        "        result.append(now)\n",
        "        for j in range(1, n + 1):\n",
        "            if graph[now][j]:\n",
        "                indegree[j] -= 1\n",
        "                if indegree[j] == 0:\n",
        "                    q.append(j)\n",
        "    \n",
        "    if cycle:\n",
        "        print(\"IMPOSSIBLE\")\n",
        "    elif not certain:\n",
        "        print(\"?\")\n",
        "    else:\n",
        "        for i in result:\n",
        "            print(i, end=' ')\n",
        "        print()"
      ],
      "metadata": {
        "id": "XeLOX7z3OTJq",
        "colab": {
          "base_uri": "https://localhost:8080/"
        },
        "outputId": "1f2cd929-b616-4e77-b1b3-0623f42b0456"
      },
      "execution_count": 4,
      "outputs": [
        {
          "output_type": "stream",
          "name": "stdout",
          "text": [
            "3\n",
            "5\n",
            "5 4 3 2 1\n",
            "2\n",
            "2 4\n",
            "3 4\n",
            "5 3 2 4 1 \n",
            "3\n",
            "2 3 1\n",
            "0\n",
            "2 3 1 \n",
            "4\n",
            "1 2 3 4\n",
            "3\n",
            "1 2\n",
            "3 4\n",
            "2 3\n",
            "IMPOSSIBLE\n"
          ]
        }
      ]
    }
  ]
}