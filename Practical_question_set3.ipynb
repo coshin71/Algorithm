{
  "nbformat": 4,
  "nbformat_minor": 0,
  "metadata": {
    "colab": {
      "name": "Practical_question_set3.ipynb",
      "provenance": [],
      "authorship_tag": "ABX9TyNvfOAG96Uygmh6VVJh+4Kz",
      "include_colab_link": true
    },
    "kernelspec": {
      "name": "python3",
      "display_name": "Python 3"
    },
    "language_info": {
      "name": "python"
    }
  },
  "cells": [
    {
      "cell_type": "markdown",
      "metadata": {
        "id": "view-in-github",
        "colab_type": "text"
      },
      "source": [
        "<a href=\"https://colab.research.google.com/github/coshin71/Algorithm/blob/main/Practical_question_set3.ipynb\" target=\"_parent\"><img src=\"https://colab.research.google.com/assets/colab-badge.svg\" alt=\"Open In Colab\"/></a>"
      ]
    },
    {
      "cell_type": "markdown",
      "source": [
        "#**못생긴 수**"
      ],
      "metadata": {
        "id": "VN2kXdcE9jqp"
      }
    },
    {
      "cell_type": "code",
      "source": [
        "n = int(input())\n",
        "\n",
        "d = [0] * n\n",
        "d[0] = 1\n",
        "\n",
        "next2, next3, next5 = 2, 3, 5\n",
        "index2, index3, index5 = 0, 0, 0\n",
        "\n",
        "for i in range(1, n):\n",
        "    d[i] = min(next2, next3, next5)\n",
        "    if d[i] == next2:\n",
        "        index2 += 1\n",
        "        next2 = d[index2] * 2\n",
        "    if d[i] == next3:\n",
        "        index3 += 1\n",
        "        next3 = d[index3] * 3\n",
        "    if d[i] == next5:\n",
        "        index5 += 1\n",
        "        next5 = d[index5] * 5\n",
        "\n",
        "print(d[n - 1])"
      ],
      "metadata": {
        "colab": {
          "base_uri": "https://localhost:8080/"
        },
        "id": "-funrvpQ9k_7",
        "outputId": "2c96efdc-6d4d-4dcb-fdc8-c9e9b8d37dc7"
      },
      "execution_count": 12,
      "outputs": [
        {
          "output_type": "stream",
          "name": "stdout",
          "text": [
            "10\n",
            "12\n"
          ]
        }
      ]
    },
    {
      "cell_type": "markdown",
      "source": [
        "#**편집 거리**"
      ],
      "metadata": {
        "id": "sZaH-sHtJltx"
      }
    },
    {
      "cell_type": "code",
      "execution_count": 14,
      "metadata": {
        "colab": {
          "base_uri": "https://localhost:8080/"
        },
        "id": "BFf8hoWf9gTf",
        "outputId": "b41d9c7e-f599-4ff5-b823-b57f03bb8bf1"
      },
      "outputs": [
        {
          "output_type": "stream",
          "name": "stdout",
          "text": [
            "saturday\n",
            "sunday\n",
            "3\n"
          ]
        }
      ],
      "source": [
        "def edit_dist(str1, str2):\n",
        "    n = len(str1)\n",
        "    m = len(str2)\n",
        "\n",
        "    dp = [[0] * (m + 1) for _ in range(n + 1)]\n",
        "\n",
        "    for i in range(1, n + 1):\n",
        "        dp[i][0] = i\n",
        "    for j in range(1, m + 1):\n",
        "        dp[0][j] = j\n",
        "    \n",
        "    for i in range(1, n + 1):\n",
        "        for j in range(1, m + 1):\n",
        "            if str1[i - 1] == str2[j - 1]:\n",
        "                dp[i][j] = dp[i - 1][j - 1]\n",
        "            else:\n",
        "                dp[i][j] = 1 + min(dp[i - 1][j - 1], dp[i - 1][j])\n",
        "\n",
        "    return dp[n][m]\n",
        "\n",
        "str1 = input()\n",
        "str2 = input()\n",
        "\n",
        "print(edit_dist(str1, str2))"
      ]
    }
  ]
}