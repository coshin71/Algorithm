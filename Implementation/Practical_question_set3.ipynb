{
  "nbformat": 4,
  "nbformat_minor": 0,
  "metadata": {
    "colab": {
      "name": "Practical_question_set3.ipynb",
      "provenance": [],
      "collapsed_sections": [],
      "authorship_tag": "ABX9TyMaYEF+RMI4dtf2wM4uzi0X",
      "include_colab_link": true
    },
    "kernelspec": {
      "name": "python3",
      "display_name": "Python 3"
    },
    "language_info": {
      "name": "python"
    }
  },
  "cells": [
    {
      "cell_type": "markdown",
      "metadata": {
        "id": "view-in-github",
        "colab_type": "text"
      },
      "source": [
        "<a href=\"https://colab.research.google.com/github/coshin71/Algorithm/blob/main/Practical_question_set3.ipynb\" target=\"_parent\"><img src=\"https://colab.research.google.com/assets/colab-badge.svg\" alt=\"Open In Colab\"/></a>"
      ]
    },
    {
      "cell_type": "markdown",
      "source": [
        "#**뱀**"
      ],
      "metadata": {
        "id": "pHjIMfovUWXb"
      }
    },
    {
      "cell_type": "code",
      "source": [
        "n = int(input())\n",
        "k = int(input())\n",
        "\n",
        "apples = []\n",
        "for _ in range(k):\n",
        "    apples.append(list(map(int, input().split())))\n",
        "\n",
        "l = int(input())\n",
        "directions = []\n",
        "for i in range(l):\n",
        "    directions.append(list(input().split()))\n",
        "    directions[i][0] = int(directions[i][0])\n",
        "\n",
        "direction = 0\n",
        "dx = [0, 1, 0, -1]\n",
        "dy = [1, 0, -1, 0]\n",
        "\n",
        "def change_direction(d):\n",
        "    global direction\n",
        "    if d == \"L\":\n",
        "        direction -= 1\n",
        "        if direction == -1:\n",
        "            direction = 3\n",
        "    if d == \"D\":\n",
        "        direction += 1\n",
        "        if direction == 4:\n",
        "            direction = 0\n",
        "\n",
        "maps = [[0] * (n + 1) for _ in range(n + 1)]\n",
        "for i in range(k):\n",
        "    x = apples[i][0]\n",
        "    y = apples[i][1]\n",
        "    maps[x][y] = 1\n",
        "\n",
        "x, y = 1, 1\n",
        "maps[x][y] = -1\n",
        "time = 0\n",
        "queue = []\n",
        "while True:\n",
        "    queue.append((x, y))\n",
        "    time += 1\n",
        "    nx = x + dx[direction]\n",
        "    ny = y + dy[direction]\n",
        "    if nx < 1 or ny < 1 or nx > n or ny > n or maps[nx][ny] == -1:\n",
        "        break\n",
        "    if maps[nx][ny] == 0:\n",
        "        i, j = queue.pop(0)\n",
        "        maps[i][j] = 0\n",
        "    maps[nx][ny] = -1\n",
        "    x, y = nx, ny\n",
        "    if len(directions) > 0:\n",
        "        if time == directions[0][0]:\n",
        "            change_direction(directions[0][1])\n",
        "            directions.pop(0)\n",
        "\n",
        "print(time)"
      ],
      "metadata": {
        "id": "M0a18jmgUXI7",
        "colab": {
          "base_uri": "https://localhost:8080/"
        },
        "outputId": "4a2f6255-6339-4b1d-a0ee-e00acccc3716"
      },
      "execution_count": 27,
      "outputs": [
        {
          "output_type": "stream",
          "name": "stdout",
          "text": [
            "10\n",
            "4\n",
            "1 2\n",
            "1 3\n",
            "1 4\n",
            "1 5\n",
            "4\n",
            "8 D\n",
            "10 D\n",
            "11 D\n",
            "13 L\n",
            "21\n"
          ]
        }
      ]
    },
    {
      "cell_type": "code",
      "source": [
        "n = int(input())\n",
        "k = int(input())\n",
        "data = [[0] * (n + 1) for _ in range(n + 1)]\n",
        "info = []\n",
        "\n",
        "for _ in range(k):\n",
        "    a, b =map(int, input().split())\n",
        "    data[a][b] = 1\n",
        "\n",
        "l = int(input())\n",
        "for _ in range(l):\n",
        "    x, c = input().split()\n",
        "    info.append((int(x), c))\n",
        "\n",
        "dx = [0, 1, 0, -1]\n",
        "dy = [1, 0, -1, 0]\n",
        "\n",
        "def turn(direction, C):\n",
        "    if C == 'L':\n",
        "        direction = (direction - 1) % 4\n",
        "    else:\n",
        "        direction = (direction + 1) % 4 \n",
        "    return direction\n",
        "\n",
        "def simulate():\n",
        "    x, y = 1, 1\n",
        "    data[x][y] = 2\n",
        "    direction = 0\n",
        "    time = 0\n",
        "    index = 0\n",
        "    q = [(x, y)]\n",
        "    while True:\n",
        "        nx = x + dx[direction]\n",
        "        ny = y + dy[direction]\n",
        "        if 1 <= nx and nx <= n and 1 <= ny and ny <= n and data[nx][ny] != 2:\n",
        "            if data[nx][ny] == 0:\n",
        "                data[nx][ny] = 2\n",
        "                q.append((nx, ny))\n",
        "                px, py = q.pop(0)\n",
        "                data[px][py] = 0\n",
        "            if data[nx][ny] == 1:\n",
        "                data[nx][ny] = 2\n",
        "                q.append((nx, ny))\n",
        "        else:\n",
        "            time += 1\n",
        "            break\n",
        "        x, y = nx, ny\n",
        "        time += 1\n",
        "        if index < l and time == info[index][0]:\n",
        "            direction = turn(direction, info[index][1])\n",
        "            index += 1\n",
        "    return time\n",
        "\n",
        "print(simulate())"
      ],
      "metadata": {
        "colab": {
          "base_uri": "https://localhost:8080/"
        },
        "id": "pt4yaC26l2it",
        "outputId": "453947c8-fecb-4feb-b4f2-b3a1f5837c17"
      },
      "execution_count": 29,
      "outputs": [
        {
          "output_type": "stream",
          "name": "stdout",
          "text": [
            "10\n",
            "4\n",
            "1 2\n",
            "1 3\n",
            "1 4\n",
            "1 5\n",
            "4\n",
            "8 D\n",
            "10 D\n",
            "11 D\n",
            "13 L\n",
            "21\n"
          ]
        }
      ]
    }
  ]
}
