{
  "nbformat": 4,
  "nbformat_minor": 0,
  "metadata": {
    "colab": {
      "name": "Practical_question_set2.ipynb",
      "provenance": [],
      "authorship_tag": "ABX9TyMuKH20bIqx1mnfrucg7B2O",
      "include_colab_link": true
    },
    "kernelspec": {
      "name": "python3",
      "display_name": "Python 3"
    },
    "language_info": {
      "name": "python"
    }
  },
  "cells": [
    {
      "cell_type": "markdown",
      "metadata": {
        "id": "view-in-github",
        "colab_type": "text"
      },
      "source": [
        "<a href=\"https://colab.research.google.com/github/coshin71/Algorithm/blob/main/Practical_question_set2.ipynb\" target=\"_parent\"><img src=\"https://colab.research.google.com/assets/colab-badge.svg\" alt=\"Open In Colab\"/></a>"
      ]
    },
    {
      "cell_type": "markdown",
      "source": [
        "#**경쟁적 전염**"
      ],
      "metadata": {
        "id": "-z0vf7gsw3kw"
      }
    },
    {
      "cell_type": "code",
      "source": [
        "n, k = map(int, input().split())\n",
        "\n",
        "empty = []\n",
        "lab = []\n",
        "for i in range(n):\n",
        "    data = list(map(int, input().split()))\n",
        "    lab.append(data)\n",
        "    for j in range(n):\n",
        "        if data[j] == 0:\n",
        "            empty.append((i, j))\n",
        "\n",
        "s, x, y = map(int, input().split())\n",
        "def check_empty(x, y):\n",
        "    virus = 10000\n",
        "    if x - 1 >= 0 and lab[x - 1][y] != 0 and (x - 1, y) not in empty:\n",
        "        virus = min(virus, lab[x - 1][y])\n",
        "    if x + 1 < n and lab[x + 1][y] != 0 and (x + 1, y) not in empty:\n",
        "        virus = min(virus, lab[x + 1][y])\n",
        "    if y - 1 >= 0 and lab[x][y - 1] != 0 and (x, y - 1) not in empty:\n",
        "        virus = min(virus, lab[x][y - 1])\n",
        "    if y + 1 < n and lab[x][y + 1] != 0 and (x, y + 1) not in empty:\n",
        "        virus = min(virus, lab[x][y + 1])\n",
        "    if virus != 10000:\n",
        "        lab[x][y] = virus\n",
        "        changed_empty.append((x, y))\n",
        "\n",
        "for _ in range(s):\n",
        "    changed_empty = []\n",
        "    for e in empty:\n",
        "        check_empty(e[0], e[1])\n",
        "    for c in changed_empty:\n",
        "        empty.remove(c)\n",
        "\n",
        "print(lab[x - 1][y - 1])"
      ],
      "metadata": {
        "colab": {
          "base_uri": "https://localhost:8080/"
        },
        "id": "JbU1OE3syBKE",
        "outputId": "0e4bd5ab-9f70-4ddd-e5db-19e78a1eeeaa"
      },
      "execution_count": 8,
      "outputs": [
        {
          "output_type": "stream",
          "name": "stdout",
          "text": [
            "3 3\n",
            "1 0 2\n",
            "0 0 0\n",
            "3 0 0\n",
            "2 3 2\n",
            "3\n"
          ]
        }
      ]
    }
  ]
}