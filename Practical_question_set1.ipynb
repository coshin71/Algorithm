{
  "nbformat": 4,
  "nbformat_minor": 0,
  "metadata": {
    "colab": {
      "name": "Practical_question_set1.ipynb",
      "provenance": [],
      "authorship_tag": "ABX9TyN5vUvVNOqsGdbgSL3DxV17",
      "include_colab_link": true
    },
    "kernelspec": {
      "name": "python3",
      "display_name": "Python 3"
    },
    "language_info": {
      "name": "python"
    }
  },
  "cells": [
    {
      "cell_type": "markdown",
      "metadata": {
        "id": "view-in-github",
        "colab_type": "text"
      },
      "source": [
        "<a href=\"https://colab.research.google.com/github/coshin71/Algorithm/blob/main/Practical_question_set1.ipynb\" target=\"_parent\"><img src=\"https://colab.research.google.com/assets/colab-badge.svg\" alt=\"Open In Colab\"/></a>"
      ]
    },
    {
      "cell_type": "markdown",
      "source": [
        "#**플로이드**"
      ],
      "metadata": {
        "id": "r4F1ZxZ6FedH"
      }
    },
    {
      "cell_type": "code",
      "execution_count": 4,
      "metadata": {
        "id": "bghMnl7KFXlB",
        "colab": {
          "base_uri": "https://localhost:8080/"
        },
        "outputId": "0e682193-adb6-442e-e2f5-dda5a681cfa9"
      },
      "outputs": [
        {
          "output_type": "stream",
          "name": "stdout",
          "text": [
            "5\n",
            "14\n",
            "1 2 2\n",
            "1 3 3\n",
            "1 4 1\n",
            "1 5 10\n",
            "2 4 2\n",
            "3 4 1\n",
            "3 5 1\n",
            "4 5 3\n",
            "3 5 10\n",
            "3 1 8\n",
            "1 4 2\n",
            "5 1 7\n",
            "3 4 2\n",
            "5 2 4\n",
            "0 2 3 1 4 \n",
            "12 0 15 2 5 \n",
            "8 5 0 1 1 \n",
            "10 7 13 0 3 \n",
            "7 4 10 6 0 \n"
          ]
        }
      ],
      "source": [
        "INF = int(1e9)\n",
        "\n",
        "n = int(input())\n",
        "m = int(input())\n",
        "\n",
        "graph = [[INF] * (n + 1) for _ in range(n + 1)]\n",
        "for i in range(1, n + 1):\n",
        "    for j in range(1, n + 1):\n",
        "        if i == j:\n",
        "            graph[i][j] = 0\n",
        "\n",
        "for _ in range(m):\n",
        "    a, b, c = map(int, input().split())\n",
        "    if graph[a][b] > c:\n",
        "        graph[a][b] = c\n",
        "\n",
        "for k in range(1, n + 1):\n",
        "    for i in range(1, n + 1):\n",
        "        for j in range(1, n + 1):\n",
        "            graph[i][j] = min(graph[i][j], graph[i][k] + graph[k][j])\n",
        "\n",
        "for i in range(1, n + 1):\n",
        "    for j in range(1, n + 1):\n",
        "        if graph[i][j] == INF:\n",
        "            print(0, end=' ')\n",
        "        else:\n",
        "            print(graph[i][j], end=' ')\n",
        "    print()"
      ]
    }
  ]
}