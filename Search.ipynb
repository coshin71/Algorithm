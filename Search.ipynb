{
  "nbformat": 4,
  "nbformat_minor": 0,
  "metadata": {
    "colab": {
      "name": "Search.ipynb",
      "provenance": [],
      "authorship_tag": "ABX9TyOzVowrKUl5pMu+i4qciBdC",
      "include_colab_link": true
    },
    "kernelspec": {
      "name": "python3",
      "display_name": "Python 3"
    },
    "language_info": {
      "name": "python"
    }
  },
  "cells": [
    {
      "cell_type": "markdown",
      "metadata": {
        "id": "view-in-github",
        "colab_type": "text"
      },
      "source": [
        "<a href=\"https://colab.research.google.com/github/coshin71/Algorithm/blob/main/Search.ipynb\" target=\"_parent\"><img src=\"https://colab.research.google.com/assets/colab-badge.svg\" alt=\"Open In Colab\"/></a>"
      ]
    },
    {
      "cell_type": "markdown",
      "source": [
        "#**Sequential Search**"
      ],
      "metadata": {
        "id": "NGJLaTkSxW6s"
      }
    },
    {
      "cell_type": "code",
      "execution_count": 13,
      "metadata": {
        "colab": {
          "base_uri": "https://localhost:8080/"
        },
        "id": "4l22Cb2pxWJe",
        "outputId": "6377917f-f9a7-43df-fbb8-cd04514d741d"
      },
      "outputs": [
        {
          "output_type": "stream",
          "name": "stdout",
          "text": [
            "생성할 원소 개수를 입력해주세요.\n",
            "5\n",
            "찾을 문자열을 입력해주세요.\n",
            "Dongbin\n",
            "원소 개수만큼 문자열을 입력해주세요. 띄어쓰기 한 칸으로 구분합니다.\n",
            "Hanul Jonggu Dongbin Taeil Sangwook\n",
            "3\n"
          ]
        }
      ],
      "source": [
        "def sequential_search(n, target, array):\n",
        "    for i in range(n):\n",
        "        if array[i] == target:\n",
        "            return i\n",
        "\n",
        "print(\"생성할 원소 개수를 입력해주세요.\")\n",
        "n = int(input())\n",
        "\n",
        "print(\"찾을 문자열을 입력해주세요.\")\n",
        "target = input()\n",
        "\n",
        "print(\"원소 개수만큼 문자열을 입력해주세요. 띄어쓰기 한 칸으로 구분합니다.\")\n",
        "array = input().split()\n",
        "\n",
        "result = sequential_search(n, target, array)\n",
        "print(result + 1)"
      ]
    },
    {
      "cell_type": "markdown",
      "source": [
        "#**Binary Search**"
      ],
      "metadata": {
        "id": "yPVODaFqxcLX"
      }
    },
    {
      "cell_type": "markdown",
      "source": [
        "재귀함수"
      ],
      "metadata": {
        "id": "ReTZhVrd4bDP"
      }
    },
    {
      "cell_type": "code",
      "source": [
        "def binary_search(array, target, start, end):\n",
        "    if start > end:\n",
        "        return None\n",
        "    mid = (start + end) // 2\n",
        "    if array[mid] == target:\n",
        "        return mid\n",
        "    elif array[mid] > target:\n",
        "        return binary_search(array, target, start, mid - 1)\n",
        "    else:\n",
        "        return binary_search(array, target, mid + 1, end)\n",
        "\n",
        "n, target = map(int, input().split())\n",
        "array = list(map(int, input().split()))\n",
        "\n",
        "result = binary_search(array, target, 0, n - 1)\n",
        "if result == None:\n",
        "    print(\"원소가 존재하지 않습니다.\")\n",
        "else:\n",
        "    print(result + 1)"
      ],
      "metadata": {
        "colab": {
          "base_uri": "https://localhost:8080/"
        },
        "id": "gHTsX9fcxfNd",
        "outputId": "50b31bd5-6aa4-4638-e1c5-720e1bf344a9"
      },
      "execution_count": 14,
      "outputs": [
        {
          "output_type": "stream",
          "name": "stdout",
          "text": [
            "10 7 \n",
            "1 3 5 7 9 11 13 15 17 19\n",
            "4\n"
          ]
        }
      ]
    },
    {
      "cell_type": "markdown",
      "source": [
        "반복문"
      ],
      "metadata": {
        "id": "hYm4Dk_a4fM1"
      }
    },
    {
      "cell_type": "code",
      "source": [
        "def binary_search(array, target, start, end):\n",
        "    while start <= end:\n",
        "        mid = (start + end) // 2\n",
        "        if array[mid] == target:\n",
        "            return mid\n",
        "        elif array[mid] > target:\n",
        "            end = mid - 1\n",
        "        else:\n",
        "            start = mid + 1\n",
        "    return None\n",
        "\n",
        "n, target = map(int, input().split())\n",
        "array = list(map(int, input().split()))\n",
        "\n",
        "result = binary_search(array, target, 0, n - 1)\n",
        "if result == None:\n",
        "    print(\"원소가 존재하지 않습니다.\")\n",
        "else:\n",
        "    print(result + 1)"
      ],
      "metadata": {
        "colab": {
          "base_uri": "https://localhost:8080/"
        },
        "id": "xSUg-xuw690L",
        "outputId": "de0f02bf-1ca2-4647-82f5-f594e8b00be9"
      },
      "execution_count": 15,
      "outputs": [
        {
          "output_type": "stream",
          "name": "stdout",
          "text": [
            "10 11\n",
            "1 3 5 7 9 11 13 15 17 19\n",
            "6\n"
          ]
        }
      ]
    }
  ]
}