{
  "nbformat": 4,
  "nbformat_minor": 0,
  "metadata": {
    "colab": {
      "name": "Practical_question_set5.ipynb",
      "provenance": [],
      "collapsed_sections": [],
      "authorship_tag": "ABX9TyMFC5XHUR3B2Wil4Ci492I8",
      "include_colab_link": true
    },
    "kernelspec": {
      "name": "python3",
      "display_name": "Python 3"
    },
    "language_info": {
      "name": "python"
    }
  },
  "cells": [
    {
      "cell_type": "markdown",
      "metadata": {
        "id": "view-in-github",
        "colab_type": "text"
      },
      "source": [
        "<a href=\"https://colab.research.google.com/github/coshin71/Algorithm/blob/main/Practical_question_set5.ipynb\" target=\"_parent\"><img src=\"https://colab.research.google.com/assets/colab-badge.svg\" alt=\"Open In Colab\"/></a>"
      ]
    },
    {
      "cell_type": "markdown",
      "source": [
        "#**치킨 배달**"
      ],
      "metadata": {
        "id": "ujBJXAF6Ucff"
      }
    },
    {
      "cell_type": "code",
      "source": [
        "from itertools import combinations\n",
        "\n",
        "n, m = map(int, input().split())\n",
        "\n",
        "city = []\n",
        "home = []\n",
        "store = []\n",
        "for i in range(n):\n",
        "    city.append(list(map(int, input().split())))\n",
        "    for j in range(n):\n",
        "        if city[i][j] == 1:\n",
        "            home.append((i, j))\n",
        "        elif city[i][j] == 2:\n",
        "            store.append((i, j))\n",
        "\n",
        "all_cand = list(combinations(store, m))\n",
        "\n",
        "result = 100000000\n",
        "for cands in all_cand:\n",
        "    total_distance = 0\n",
        "    for h in home:\n",
        "        distance = 100000000\n",
        "        for cand in cands:\n",
        "            distance = min(distance, abs(h[0] - cand[0]) + abs(h[1] - cand[1]))\n",
        "        total_distance += distance\n",
        "    result = min(result, total_distance)\n",
        "\n",
        "print(result)"
      ],
      "metadata": {
        "id": "w9GvY58NUdu8",
        "colab": {
          "base_uri": "https://localhost:8080/"
        },
        "outputId": "12740d8b-8e68-4aec-e1f8-7031f08fb5b0"
      },
      "execution_count": 19,
      "outputs": [
        {
          "output_type": "stream",
          "name": "stdout",
          "text": [
            "5 2 \n",
            "0 2 0 1 0\n",
            "1 0 1 0 0\n",
            "0 0 0 0 0\n",
            "2 0 0 1 1\n",
            "2 2 0 1 2\n",
            "10\n"
          ]
        }
      ]
    },
    {
      "cell_type": "code",
      "source": [
        "from itertools import combinations\n",
        "\n",
        "n, m = map(int, input().split())\n",
        "chicken, house = [], []\n",
        "\n",
        "for r in range(n):\n",
        "    data = list(map(int, input().split()))\n",
        "    for c in range(n):\n",
        "        if data[c] == 1:\n",
        "            house.append((r, c))\n",
        "        elif data[c] == 2:\n",
        "            chicken.append((r, c))\n",
        "\n",
        "candidates = list(combinations(chicken, m))\n",
        "\n",
        "def get_sum(candidate):\n",
        "    result = 0\n",
        "    for hx, hy in house:\n",
        "        temp = 1e9\n",
        "        for cx, cy in candidate:\n",
        "            temp = min(temp, abs(hx - cx) + abs(hy - cy))\n",
        "        result += temp\n",
        "    return result\n",
        "\n",
        "result = 1e9\n",
        "for candidate in candidates:\n",
        "    result = min(result, get_sum(candidate))\n",
        "\n",
        "print(result)"
      ],
      "metadata": {
        "colab": {
          "base_uri": "https://localhost:8080/"
        },
        "id": "679v5eSQsesd",
        "outputId": "1ce60a5e-56a1-4d59-ffd2-2925138ae665"
      },
      "execution_count": 18,
      "outputs": [
        {
          "output_type": "stream",
          "name": "stdout",
          "text": [
            "5 2\n",
            "0 2 0 1 0\n",
            "1 0 1 0 0\n",
            "0 0 0 0 0\n",
            "2 0 0 1 1\n",
            "2 2 0 1 2\n",
            "10\n"
          ]
        }
      ]
    }
  ]
}