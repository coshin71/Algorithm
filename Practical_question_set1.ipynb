{
  "nbformat": 4,
  "nbformat_minor": 0,
  "metadata": {
    "colab": {
      "name": "Practical_question_set1.ipynb",
      "provenance": [],
      "authorship_tag": "ABX9TyP/9RTfGOqxRKrLkjWrq2m5",
      "include_colab_link": true
    },
    "kernelspec": {
      "name": "python3",
      "display_name": "Python 3"
    },
    "language_info": {
      "name": "python"
    }
  },
  "cells": [
    {
      "cell_type": "markdown",
      "metadata": {
        "id": "view-in-github",
        "colab_type": "text"
      },
      "source": [
        "<a href=\"https://colab.research.google.com/github/coshin71/Algorithm/blob/main/Practical_question_set1.ipynb\" target=\"_parent\"><img src=\"https://colab.research.google.com/assets/colab-badge.svg\" alt=\"Open In Colab\"/></a>"
      ]
    },
    {
      "cell_type": "markdown",
      "source": [
        "#**금광**"
      ],
      "metadata": {
        "id": "VN2kXdcE9jqp"
      }
    },
    {
      "cell_type": "code",
      "source": [
        "t = int(input())\n",
        "\n",
        "for _ in range(t):\n",
        "    n, m = map(int, input().split())\n",
        "    data = list(map(int, input().split()))\n",
        "    golds = [[0] * m for _ in range(n)]\n",
        "    result = [[0] * m for _ in range(n)]\n",
        "    for i in range(n):\n",
        "        for j in range(m):\n",
        "            golds[i][j] = data[i * m + j]\n",
        "            result[i][j] = data[i * m + j]\n",
        "    for i in range(1, m):\n",
        "        for j in range(n):\n",
        "            result[j][i] = max(result[j][i], result[j][i - 1] + golds[j][i])\n",
        "            if 0 <= j - 1: \n",
        "                result[j][i] = max(result[j][i], result[j - 1][i - 1] + golds[j][i])\n",
        "            if j + 1 < n:\n",
        "                result[j][i] = max(result[j][i], result[j + 1][i - 1] + golds[j][i])\n",
        "    answer = 0\n",
        "    for i in range(n):\n",
        "        answer = max(answer, result[i][m - 1])\n",
        "    print(answer)"
      ],
      "metadata": {
        "colab": {
          "base_uri": "https://localhost:8080/"
        },
        "id": "-funrvpQ9k_7",
        "outputId": "c3a53253-89d6-4e73-d365-ff192e7a72d7"
      },
      "execution_count": 8,
      "outputs": [
        {
          "output_type": "stream",
          "name": "stdout",
          "text": [
            "2\n",
            "3 4\n",
            "1 3 3 2 2 1 4 1 0 6 4 7\n",
            "19\n",
            "4 4\n",
            "1 3 1 5 2 2 4 1 5 0 2 3 0 6 1 2\n",
            "16\n"
          ]
        }
      ]
    },
    {
      "cell_type": "markdown",
      "source": [
        "#**정수 삼각형**"
      ],
      "metadata": {
        "id": "sZaH-sHtJltx"
      }
    },
    {
      "cell_type": "code",
      "execution_count": 10,
      "metadata": {
        "colab": {
          "base_uri": "https://localhost:8080/"
        },
        "id": "BFf8hoWf9gTf",
        "outputId": "cf8b8a31-7c9f-46ed-d11c-1642fdd82820"
      },
      "outputs": [
        {
          "output_type": "stream",
          "name": "stdout",
          "text": [
            "5\n",
            "7\n",
            "3 8\n",
            "8 1 0\n",
            "2 7 4 4\n",
            "4 5 2 6 5\n",
            "30\n"
          ]
        }
      ],
      "source": [
        "n = int(input())\n",
        "\n",
        "triangle = []\n",
        "for _ in range(n):\n",
        "    triangle.append(list(map(int, input().split())))\n",
        "\n",
        "for i in range(1, n):\n",
        "    for j in range(i + 1):\n",
        "        if j == 0:\n",
        "            left = 0\n",
        "        else:\n",
        "            left = triangle[i - 1][j - 1]\n",
        "        if j == i:\n",
        "            right = 0\n",
        "        else:\n",
        "            right = triangle[i - 1][j]\n",
        "        triangle[i][j] += max(left, right)\n",
        "\n",
        "print(max(triangle[n - 1])) "
      ]
    }
  ]
}