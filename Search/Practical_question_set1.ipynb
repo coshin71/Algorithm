{
  "nbformat": 4,
  "nbformat_minor": 0,
  "metadata": {
    "colab": {
      "name": "Practical_question_set1.ipynb",
      "provenance": [],
      "collapsed_sections": [],
      "authorship_tag": "ABX9TyP8AZqL3Sg7mouGloBQHk3V",
      "include_colab_link": true
    },
    "kernelspec": {
      "name": "python3",
      "display_name": "Python 3"
    },
    "language_info": {
      "name": "python"
    }
  },
  "cells": [
    {
      "cell_type": "markdown",
      "metadata": {
        "id": "view-in-github",
        "colab_type": "text"
      },
      "source": [
        "<a href=\"https://colab.research.google.com/github/coshin71/Algorithm/blob/main/Practical_question_set1.ipynb\" target=\"_parent\"><img src=\"https://colab.research.google.com/assets/colab-badge.svg\" alt=\"Open In Colab\"/></a>"
      ]
    },
    {
      "cell_type": "markdown",
      "source": [
        "#**정렬된 배열에서 특정 수의 개수 구하기**"
      ],
      "metadata": {
        "id": "S5UMuyWGmgq2"
      }
    },
    {
      "cell_type": "code",
      "execution_count": 13,
      "metadata": {
        "colab": {
          "base_uri": "https://localhost:8080/"
        },
        "id": "qcEnpoPTmf7u",
        "outputId": "4c9cde14-ba1a-4fe4-b91b-547fa18aaed1"
      },
      "outputs": [
        {
          "output_type": "stream",
          "name": "stdout",
          "text": [
            "7 2\n",
            "1 1 2 2 2 2 3\n",
            "4\n"
          ]
        }
      ],
      "source": [
        "n, x = map(int, input().split())\n",
        "array = list(map(int, input().split()))\n",
        "\n",
        "first_index = int(1e10)\n",
        "last_index = -1\n",
        "def get_first_index(target, start, end):\n",
        "    global first_index\n",
        "    while start <= end:\n",
        "        mid = (start + end) // 2\n",
        "        if array[mid] == target:\n",
        "            first_index = mid\n",
        "            end = mid - 1\n",
        "        elif array[mid] > target:\n",
        "            end = mid - 1\n",
        "        elif array[mid] < target:\n",
        "            start = mid + 1\n",
        "    return first_index\n",
        "\n",
        "def get_last_index(target, start, end):\n",
        "    global last_index\n",
        "    while start <= end:\n",
        "        mid = (start + end) // 2\n",
        "        if array[mid] == target:\n",
        "            last_index = mid\n",
        "            start = mid + 1\n",
        "        elif array[mid] > target:\n",
        "            end = mid - 1\n",
        "        elif array[mid] < target:\n",
        "            start = mid + 1\n",
        "    return last_index\n",
        "\n",
        "first_index = get_first_index(x, 0, n - 1)\n",
        "last_index = get_last_index(x, 0, n - 1)\n",
        "\n",
        "if last_index == -1:\n",
        "    print(-1)\n",
        "else:\n",
        "    print(last_index - first_index + 1)"
      ]
    },
    {
      "cell_type": "markdown",
      "source": [
        "#**고정점 찾기**"
      ],
      "metadata": {
        "id": "BXauhiMXrvl0"
      }
    },
    {
      "cell_type": "code",
      "source": [
        "n = int(input())\n",
        "array = list(map(int, input().split()))\n",
        "\n",
        "def binary_search(array, start, end):\n",
        "    if start > end:\n",
        "        return None\n",
        "    mid = (start + end) // 2\n",
        "    if array[mid] == mid:\n",
        "        return mid\n",
        "    elif array[mid] > mid:\n",
        "        return binary_search(array, start, mid - 1)\n",
        "    elif array[mid] < mid:\n",
        "        return binary_search(array, mid + 1, end)\n",
        "\n",
        "result = binary_search(array, 0, n - 1)\n",
        "if result != None:\n",
        "    print(result)\n",
        "else:\n",
        "    print(-1)"
      ],
      "metadata": {
        "colab": {
          "base_uri": "https://localhost:8080/"
        },
        "id": "hPc9ZpTIrvES",
        "outputId": "0ae705ef-854d-438f-fd56-fffd4ed4cbdc"
      },
      "execution_count": 14,
      "outputs": [
        {
          "output_type": "stream",
          "name": "stdout",
          "text": [
            "5\n",
            "-15 -4 1 3 7\n",
            "3\n"
          ]
        }
      ]
    },
    {
      "cell_type": "markdown",
      "source": [
        "#**공유기 설치**"
      ],
      "metadata": {
        "id": "v8IyJl2Su7Q3"
      }
    },
    {
      "cell_type": "code",
      "source": [
        "n, c = map(int,input().split())\n",
        "\n",
        "homes = []\n",
        "for _ in range(n):\n",
        "    homes.append(int(input()))\n",
        "homes.sort()\n",
        "\n",
        "start = homes[1] - homes[0]\n",
        "end = homes[-1] - homes[0]\n",
        "result = 0\n",
        "while start <= end:\n",
        "    mid = (start + end) // 2\n",
        "    value = homes[0]\n",
        "    count = 1\n",
        "    for i in range(1, n):\n",
        "        if homes[i] >= value + mid:\n",
        "            value = homes[i]\n",
        "            count += 1\n",
        "    if count >= c:\n",
        "        start = mid + 1\n",
        "        result = mid\n",
        "    else:\n",
        "        end = mid - 1\n",
        "\n",
        "print(result)"
      ],
      "metadata": {
        "colab": {
          "base_uri": "https://localhost:8080/"
        },
        "id": "XjgbGoWdu9P7",
        "outputId": "768fe256-fd71-42a1-c4ef-2aed6f3d05ac"
      },
      "execution_count": 16,
      "outputs": [
        {
          "output_type": "stream",
          "name": "stdout",
          "text": [
            "5 3\n",
            "1\n",
            "2\n",
            "8\n",
            "4\n",
            "9\n",
            "3\n"
          ]
        }
      ]
    }
  ]
}
