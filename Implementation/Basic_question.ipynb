{
  "nbformat": 4,
  "nbformat_minor": 0,
  "metadata": {
    "colab": {
      "name": "Basic_question.ipynb",
      "provenance": [],
      "authorship_tag": "ABX9TyPrmSbWUInsdCc7C6EgUnyp",
      "include_colab_link": true
    },
    "kernelspec": {
      "name": "python3",
      "display_name": "Python 3"
    },
    "language_info": {
      "name": "python"
    }
  },
  "cells": [
    {
      "cell_type": "markdown",
      "metadata": {
        "id": "view-in-github",
        "colab_type": "text"
      },
      "source": [
        "<a href=\"https://colab.research.google.com/github/coshin71/Algorithm/blob/main/Basic_question.ipynb\" target=\"_parent\"><img src=\"https://colab.research.google.com/assets/colab-badge.svg\" alt=\"Open In Colab\"/></a>"
      ]
    },
    {
      "cell_type": "markdown",
      "source": [
        "#**상하좌우**"
      ],
      "metadata": {
        "id": "DB_zyquiAFF7"
      }
    },
    {
      "cell_type": "code",
      "source": [
        "n = int(input())\n",
        "x, y = 1, 1\n",
        "plans = input().split()\n",
        "\n",
        "dx = [0, 0, -1, 1]\n",
        "dy = [-1, 1, 0, 0]\n",
        "move_types = ['L', 'R', 'U', 'D']\n",
        "\n",
        "for plan in plans:\n",
        "    for i in range(len(move_types)):\n",
        "        if plan == move_types[i]:\n",
        "            nx = x + dx[i]\n",
        "            ny = y + dy[i]\n",
        "            break\n",
        "    if nx < 1 or ny < 1 or nx > n or ny > n:\n",
        "        continue\n",
        "    x, y = nx, ny\n",
        "\n",
        "print(x, y)"
      ],
      "metadata": {
        "colab": {
          "base_uri": "https://localhost:8080/"
        },
        "id": "rS5wTJbdALIV",
        "outputId": "ef5dbe60-3218-4176-9ad5-be28bf1fcf0e"
      },
      "execution_count": 3,
      "outputs": [
        {
          "output_type": "stream",
          "name": "stdout",
          "text": [
            "5\n",
            "R R R U D D\n",
            "3 4\n"
          ]
        }
      ]
    },
    {
      "cell_type": "markdown",
      "source": [
        "#**시각**"
      ],
      "metadata": {
        "id": "1DbQZhzDAJbV"
      }
    },
    {
      "cell_type": "code",
      "source": [
        "h = int(input())\n",
        "\n",
        "count = 0\n",
        "for i in range(h + 1):\n",
        "    for j in range(60):\n",
        "        for k in range(60):\n",
        "            if '3' in str(i) + str(j) + str(k):\n",
        "                count += 1\n",
        "\n",
        "print(count)"
      ],
      "metadata": {
        "colab": {
          "base_uri": "https://localhost:8080/"
        },
        "id": "wgJrVe5SALbb",
        "outputId": "84ce5a38-7225-4d9b-b42a-96f7b7d8c218"
      },
      "execution_count": 4,
      "outputs": [
        {
          "output_type": "stream",
          "name": "stdout",
          "text": [
            "5\n",
            "11475\n"
          ]
        }
      ]
    },
    {
      "cell_type": "markdown",
      "source": [
        "#**왕실의 나이트**"
      ],
      "metadata": {
        "id": "yLk0AHWVAJkH"
      }
    },
    {
      "cell_type": "code",
      "source": [
        "location = input()\n",
        "x = int(location[1])\n",
        "y = int(ord(location[0])) - int(ord('a')) + 1\n",
        "\n",
        "steps = [(-2, -1), (-2, 1), (-1, -2), (-1, 2), (1, -2), (1, 2), (2, -1), (2, 1)]\n",
        "\n",
        "result = 0\n",
        "for step in steps:\n",
        "    nx = x + step[0]\n",
        "    ny = y + step[1]\n",
        "    if nx >=1 and ny >= 1 and nx <= 8 and ny <= 8:\n",
        "        result += 1\n",
        "\n",
        "print(result)"
      ],
      "metadata": {
        "colab": {
          "base_uri": "https://localhost:8080/"
        },
        "id": "vEGgQdFhALsa",
        "outputId": "0f5eba13-a7d9-4e8d-d42e-c8c045e4be4f"
      },
      "execution_count": 9,
      "outputs": [
        {
          "output_type": "stream",
          "name": "stdout",
          "text": [
            "f2\n",
            "6\n"
          ]
        }
      ]
    },
    {
      "cell_type": "markdown",
      "source": [
        "#**게임 개발**"
      ],
      "metadata": {
        "id": "6e045BuiAJtn"
      }
    },
    {
      "cell_type": "code",
      "source": [
        "n, m = map(int, input().split())\n",
        "\n",
        "d = [[0] * m for _ in range(n)]\n",
        "x, y, direction = map(int, input().split())\n",
        "d[x][y] = 1\n",
        "\n",
        "map_data = []\n",
        "for i in range(n):\n",
        "    map_data.append(list(map(int, input().split())))\n",
        "\n",
        "dx = [-1, 0, 1, 0]\n",
        "dy = [0, 1, 0, -1]\n",
        "\n",
        "def turn_left():\n",
        "    global direction\n",
        "    direction -= 1\n",
        "    if direction == -1:\n",
        "        direction = 3\n",
        "    \n",
        "count = 1\n",
        "turn_time = 0\n",
        "while True:\n",
        "    turn_left()\n",
        "    nx = x + dx[direction]\n",
        "    ny = y + dy[direction]\n",
        "    if d[nx][ny] == 0 and map_data[nx][ny] == 0:\n",
        "        d[nx][ny] = 1\n",
        "        x = nx\n",
        "        y = ny\n",
        "        count += 1\n",
        "        turn_time = 0\n",
        "        continue\n",
        "    else:\n",
        "        turn_time += 1\n",
        "    if turn_time == 4:\n",
        "        nx = x - dx[direction]\n",
        "        ny = y - dy[direction]\n",
        "        if map_data[nx][ny] == 0:\n",
        "            x = nx\n",
        "            y = ny\n",
        "        else:\n",
        "            break\n",
        "        turn_time = 0\n",
        "\n",
        "print(count)"
      ],
      "metadata": {
        "colab": {
          "base_uri": "https://localhost:8080/"
        },
        "id": "6AcQX2rMANAk",
        "outputId": "8f110001-9ebe-47b5-d075-59381f3b9a2c"
      },
      "execution_count": 12,
      "outputs": [
        {
          "output_type": "stream",
          "name": "stdout",
          "text": [
            "4 4\n",
            "1 1 0\n",
            "1 1 1 1\n",
            "1 0 0 1\n",
            "1 0 0 1\n",
            "1 1 1 1\n",
            "4\n"
          ]
        }
      ]
    }
  ]
}
