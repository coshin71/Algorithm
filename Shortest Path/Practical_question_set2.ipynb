{
  "nbformat": 4,
  "nbformat_minor": 0,
  "metadata": {
    "colab": {
      "name": "Practical_question_set2.ipynb",
      "provenance": [],
      "collapsed_sections": [],
      "authorship_tag": "ABX9TyMUCxry9FgQC2NFnRK1P6HZ",
      "include_colab_link": true
    },
    "kernelspec": {
      "name": "python3",
      "display_name": "Python 3"
    },
    "language_info": {
      "name": "python"
    }
  },
  "cells": [
    {
      "cell_type": "markdown",
      "metadata": {
        "id": "view-in-github",
        "colab_type": "text"
      },
      "source": [
        "<a href=\"https://colab.research.google.com/github/coshin71/Algorithm/blob/main/Practical_question_set2.ipynb\" target=\"_parent\"><img src=\"https://colab.research.google.com/assets/colab-badge.svg\" alt=\"Open In Colab\"/></a>"
      ]
    },
    {
      "cell_type": "markdown",
      "source": [
        "#**정확한 순위**"
      ],
      "metadata": {
        "id": "2Fa8mCDQNaeI"
      }
    },
    {
      "cell_type": "code",
      "execution_count": null,
      "metadata": {
        "colab": {
          "base_uri": "https://localhost:8080/"
        },
        "id": "b01Y0pPVL02g",
        "outputId": "e487ba75-db07-4898-f427-c3818e423da7"
      },
      "outputs": [
        {
          "output_type": "stream",
          "name": "stdout",
          "text": [
            "6 6\n",
            "1 5\n",
            "3 4\n",
            "4 2\n",
            "4 6\n",
            "5 2\n",
            "5 4\n",
            "1\n"
          ]
        }
      ],
      "source": [
        "INF = int(1e9)\n",
        "\n",
        "n, m = map(int, input().split())\n",
        "graph = [[INF] * (n + 1) for _ in range(n + 1)]\n",
        "\n",
        "for a in range(1, n + 1):\n",
        "    for b in range(1, n + 1):\n",
        "        if a == b:\n",
        "            graph[a][b] = 0\n",
        "\n",
        "for _ in range(m):\n",
        "    a, b = map(int, input().split())\n",
        "    graph[a][b] = 1\n",
        "\n",
        "for k in range(1, n + 1):\n",
        "    for a in range(1, n + 1):\n",
        "        for b in range(1, n + 1):\n",
        "            graph[a][b] = min(graph[a][b], graph[a][k] + graph[k][b])\n",
        "\n",
        "result = 0\n",
        "for i in range(1, n + 1):\n",
        "    count = 0\n",
        "    for j in range(1, n + 1):\n",
        "        if graph[i][j] != INF or graph[j][i] != INF:\n",
        "            count += 1\n",
        "    if count == n:\n",
        "        result += 1\n",
        "print(result)"
      ]
    },
    {
      "cell_type": "markdown",
      "source": [
        "#**화성 탐사**"
      ],
      "metadata": {
        "id": "ii_Iyt8FQVp3"
      }
    },
    {
      "cell_type": "code",
      "source": [
        "import heapq\n",
        "INF = int(1e9)\n",
        "\n",
        "dx = [-1, 0, 1, 0]\n",
        "dy = [0, 1, 0, -1]\n",
        "\n",
        "for _ in range(int(input())):\n",
        "    n = int(input())\n",
        "    graph = []\n",
        "    for i in range(n):\n",
        "        graph.append(list(map(int, input().split())))\n",
        "\n",
        "    distance = [[INF] * n for _ in range(n)]\n",
        "\n",
        "    x, y = 0, 0\n",
        "    q = [(graph[x][y], x, y)]\n",
        "    distance[x][y] = graph[x][y]\n",
        "\n",
        "    while q:\n",
        "        dist, x, y = heapq.heappop(q)\n",
        "        if distance[x][y] < dist:\n",
        "            continue\n",
        "        for i in range(4):\n",
        "            nx = x + dx[i]\n",
        "            ny = y + dy[i]\n",
        "            if nx < 0 or nx >= n or ny < 0 or ny >= n:\n",
        "                continue\n",
        "            cost = dist + graph[nx][ny]\n",
        "            if cost < distance[nx][ny]:\n",
        "                distance[nx][ny] = cost\n",
        "                heapq.heappush(q, (cost, nx, ny))\n",
        "    \n",
        "    print(distance[n - 1][n - 1])"
      ],
      "metadata": {
        "colab": {
          "base_uri": "https://localhost:8080/"
        },
        "id": "TQ9ubQXQQW2k",
        "outputId": "24362caa-24ef-4149-f709-9d32b86ba587"
      },
      "execution_count": null,
      "outputs": [
        {
          "output_type": "stream",
          "name": "stdout",
          "text": [
            "2\n",
            "3\n",
            "5 5 4\n",
            "3 9 1\n",
            "3 2 7\n",
            "20\n",
            "5\n",
            "3 7 2 0 1\n",
            "2 8 0 9 1\n",
            "1 2 1 8 1\n",
            "9 8 9 2 0\n",
            "3 6 5 1 5\n",
            "19\n"
          ]
        }
      ]
    },
    {
      "cell_type": "markdown",
      "source": [
        "#**숨바꼭질**"
      ],
      "metadata": {
        "id": "BO1ejjx2mmVx"
      }
    },
    {
      "cell_type": "code",
      "source": [
        "import heapq \n",
        "INF = int(1e9)\n",
        "\n",
        "n, m = map(int, input().split())\n",
        "\n",
        "graph = [[] for _ in range(n + 1)]\n",
        "for _ in range(m):\n",
        "    a, b = map(int, input().split())\n",
        "    graph[a].append(b)\n",
        "    graph[b].append(a)\n",
        "\n",
        "distance = [INF] * (n + 1)\n",
        "\n",
        "def dijkstra(start):\n",
        "    q = []\n",
        "    heapq.heappush(q, (0, start))\n",
        "    distance[start] = 0\n",
        "    while q:\n",
        "        dist, now = heapq.heappop(q)\n",
        "        if distance[now] < dist:\n",
        "            continue\n",
        "        for i in graph[now]:\n",
        "            cost = dist + 1\n",
        "            if cost < distance[i]:\n",
        "                distance[i] = cost\n",
        "                heapq.heappush(q, (cost, i))\n",
        "\n",
        "dijkstra(1)\n",
        "\n",
        "max_num = 0\n",
        "max_dist = -INF\n",
        "max_cnt = 0\n",
        "for i in range(1, n + 1):\n",
        "    if distance[i] > max_dist:\n",
        "        max_num = i\n",
        "        max_dist = distance[i]\n",
        "        max_cnt = 1\n",
        "    elif distance[i] == max_dist:\n",
        "        max_cnt += 1\n",
        "\n",
        "print(max_num, max_dist, max_cnt)"
      ],
      "metadata": {
        "id": "2vlgI5kQmoS6",
        "colab": {
          "base_uri": "https://localhost:8080/"
        },
        "outputId": "ab99f707-61cd-4cd9-ff63-34f2dc4133c9"
      },
      "execution_count": 11,
      "outputs": [
        {
          "output_type": "stream",
          "name": "stdout",
          "text": [
            "6 7\n",
            "3 6\n",
            "4 3\n",
            "3 2\n",
            "1 3\n",
            "1 2\n",
            "2 4\n",
            "5 2\n",
            "4 2 3\n"
          ]
        }
      ]
    }
  ]
}
