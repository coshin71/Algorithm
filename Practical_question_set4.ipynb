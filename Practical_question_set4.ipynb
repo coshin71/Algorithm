{
  "nbformat": 4,
  "nbformat_minor": 0,
  "metadata": {
    "colab": {
      "name": "Practical_question_set4.ipynb",
      "provenance": [],
      "collapsed_sections": [],
      "authorship_tag": "ABX9TyOvr2TGAwRjnsIsPzDLRhGH",
      "include_colab_link": true
    },
    "kernelspec": {
      "name": "python3",
      "display_name": "Python 3"
    },
    "language_info": {
      "name": "python"
    }
  },
  "cells": [
    {
      "cell_type": "markdown",
      "metadata": {
        "id": "view-in-github",
        "colab_type": "text"
      },
      "source": [
        "<a href=\"https://colab.research.google.com/github/coshin71/Algorithm/blob/main/Practical_question_set4.ipynb\" target=\"_parent\"><img src=\"https://colab.research.google.com/assets/colab-badge.svg\" alt=\"Open In Colab\"/></a>"
      ]
    },
    {
      "cell_type": "markdown",
      "source": [
        "#**기둥과 보 설치**"
      ],
      "metadata": {
        "id": "GbSobBm3n4OT"
      }
    },
    {
      "cell_type": "code",
      "source": [
        "n = int(input())\n",
        "m = int(input())\n",
        "build_frame = []\n",
        "for _ in range(m):\n",
        "    build_frame.append(list(map(int, input().split())))\n",
        "\n",
        "column = 0\n",
        "beam = 1\n",
        "result = []\n",
        "\n",
        "def check_install_possible(frame):\n",
        "    x = frame[0]\n",
        "    y = frame[1]\n",
        "    type_of_frame = frame[2]\n",
        "    if type_of_frame == column:\n",
        "        if y == 0 or [x, y - 1, column] in result or [x - 1, y, beam] in result or [x, y, beam] in result:\n",
        "            return True\n",
        "    if type_of_frame == beam:\n",
        "        if [x, y - 1, column] in result or [x + 1, y - 1, column] in result or ([x - 1, y, beam] in result and [x + 1, y, beam] in result):\n",
        "            return True\n",
        "    return False\n",
        "\n",
        "def solution(n, build_frame):\n",
        "    for frame in build_frame:\n",
        "        x = frame[0]\n",
        "        y = frame[1]\n",
        "        type_of_frame = frame[2]\n",
        "        type_of_operation = frame[3]\n",
        "        if type_of_frame == column:\n",
        "            if type_of_operation == 0:\n",
        "                check = True\n",
        "                test = []\n",
        "                if [x, y + 1, column] in result:\n",
        "                    test.append([x, y + 1, column])\n",
        "                if [x, y, beam] in result:\n",
        "                    test.append([x, y, beam])\n",
        "                if [x - 1, y, beam] in result:\n",
        "                    test.append([x - 1, y, beam])     \n",
        "                index = result.index([x, y, type_of_frame])\n",
        "                result.pop(index)\n",
        "                while len(test) > 0:\n",
        "                    check = check_install_possible(test.pop(0))\n",
        "                    if check == False:\n",
        "                        break\n",
        "                if check == False:\n",
        "                    result.append([x, y, type_of_frame])\n",
        "            elif type_of_operation == 1:\n",
        "                if check_install_possible([x, y, type_of_frame]):\n",
        "                    result.append([x, y, type_of_frame])\n",
        "\n",
        "        elif type_of_frame == beam:\n",
        "            if type_of_operation == 0:\n",
        "                check = True\n",
        "                test = []\n",
        "                if [x, y, column] in result:\n",
        "                    test.append([x, y, column])\n",
        "                if [x + 1, y, column] in result:\n",
        "                    test.append([x + 1, y, column])\n",
        "                if [x - 1, y, beam] in result:\n",
        "                    test.append([x - 1, y, beam])\n",
        "                if [x + 1, y, beam] in result:\n",
        "                    test.append([x + 1, y, beam]) \n",
        "                index = result.index([x, y, type_of_frame])\n",
        "                result.pop(index)\n",
        "                while len(test) > 0:\n",
        "                    check = check_install_possible(test.pop(0))\n",
        "                    if check == False:\n",
        "                        break\n",
        "                if check == False:\n",
        "                    result.append([x, y, type_of_frame])\n",
        "            if type_of_operation == 1:\n",
        "                if check_install_possible([x, y, type_of_frame]):\n",
        "                    result.append([x, y, type_of_frame])\n",
        "    return result\n",
        "\n",
        "result = solution(n, build_frame)\n",
        "result.sort()\n",
        "print(result)"
      ],
      "metadata": {
        "id": "KG_U2oqXn7L1",
        "colab": {
          "base_uri": "https://localhost:8080/"
        },
        "outputId": "76a1d6c9-7896-4a6a-f670-f1a545b31dd2"
      },
      "execution_count": 22,
      "outputs": [
        {
          "output_type": "stream",
          "name": "stdout",
          "text": [
            "5\n",
            "10\n",
            "0 0 0 1\n",
            "2 0 0 1\n",
            "4 0 0 1\n",
            "0 1 1 1\n",
            "1 1 1 1\n",
            "2 1 1 1\n",
            "3 1 1 1\n",
            "2 0 0 0\n",
            "1 1 1 0\n",
            "2 2 0 1\n",
            "[[0, 0, 0], [0, 1, 1], [1, 1, 1], [2, 1, 1], [3, 1, 1], [4, 0, 0]]\n"
          ]
        }
      ]
    },
    {
      "cell_type": "code",
      "source": [
        "n = int(input())\n",
        "m = int(input())\n",
        "build_frame = []\n",
        "for _ in range(m):\n",
        "    build_frame.append(list(map(int, input().split())))\n",
        "\n",
        "def possible(answer):\n",
        "    for x, y, stuff in answer:\n",
        "        if stuff == 0:\n",
        "            if y == 0 or [x - 1, y, 1] in answer or [x, y, 1] in answer or [x, y - 1, 0] in answer:\n",
        "                continue\n",
        "            return False\n",
        "        elif stuff == 1:\n",
        "            if [x, y - 1, 0] in answer or [x + 1, y - 1, 0] in answer or ([x - 1, y, 1] in answer and [x + 1, y, 1] in answer):\n",
        "                continue\n",
        "            return False\n",
        "    return True\n",
        "\n",
        "def solution(n, build_frame):\n",
        "    answer = []\n",
        "    for frame in build_frame:\n",
        "        x, y, stuff, operate = frame\n",
        "        if operate == 0:\n",
        "            answer.remove([x, y, stuff])\n",
        "            if not possible(answer):\n",
        "                answer.append([x, y, stuff])\n",
        "        if operate == 1:\n",
        "            answer.append([x, y, stuff])\n",
        "            if not possible(answer):\n",
        "                answer.remove([x, y, stuff])\n",
        "    return sorted(answer)\n",
        "\n",
        "solution(n, build_frame)"
      ],
      "metadata": {
        "colab": {
          "base_uri": "https://localhost:8080/"
        },
        "id": "Zu8jKm5rNqt5",
        "outputId": "d3fe3391-fcb1-4a20-cf25-2939f551eac8"
      },
      "execution_count": 25,
      "outputs": [
        {
          "name": "stdout",
          "output_type": "stream",
          "text": [
            "5\n",
            "10\n",
            "0 0 0 1\n",
            "2 0 0 1\n",
            "4 0 0 1\n",
            "0 1 1 1\n",
            "1 1 1 1\n",
            "2 1 1 1\n",
            "3 1 1 1\n",
            "2 0 0 0\n",
            "1 1 1 0\n",
            "2 2 0 1\n"
          ]
        },
        {
          "output_type": "execute_result",
          "data": {
            "text/plain": [
              "[[0, 0, 0], [0, 1, 1], [1, 1, 1], [2, 1, 1], [3, 1, 1], [4, 0, 0]]"
            ]
          },
          "metadata": {},
          "execution_count": 25
        }
      ]
    }
  ]
}