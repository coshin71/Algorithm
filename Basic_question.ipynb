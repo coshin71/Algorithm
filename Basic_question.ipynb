{
  "nbformat": 4,
  "nbformat_minor": 0,
  "metadata": {
    "colab": {
      "name": "Basic_question.ipynb",
      "provenance": [],
      "collapsed_sections": [],
      "authorship_tag": "ABX9TyNnIhWDBSa3/YlKMTPd/gDA",
      "include_colab_link": true
    },
    "kernelspec": {
      "name": "python3",
      "display_name": "Python 3"
    },
    "language_info": {
      "name": "python"
    }
  },
  "cells": [
    {
      "cell_type": "markdown",
      "metadata": {
        "id": "view-in-github",
        "colab_type": "text"
      },
      "source": [
        "<a href=\"https://colab.research.google.com/github/coshin71/Algorithm/blob/main/Basic_question.ipynb\" target=\"_parent\"><img src=\"https://colab.research.google.com/assets/colab-badge.svg\" alt=\"Open In Colab\"/></a>"
      ]
    },
    {
      "cell_type": "markdown",
      "source": [
        "#**1로 만들기**"
      ],
      "metadata": {
        "id": "U6MviZ7zR71o"
      }
    },
    {
      "cell_type": "code",
      "execution_count": null,
      "metadata": {
        "colab": {
          "base_uri": "https://localhost:8080/"
        },
        "id": "-eMlueunRzkb",
        "outputId": "63140cff-a00e-4d8d-bb49-5f0162c82f92"
      },
      "outputs": [
        {
          "output_type": "stream",
          "name": "stdout",
          "text": [
            "28\n",
            "4\n"
          ]
        }
      ],
      "source": [
        "x = int(input())\n",
        "\n",
        "d = [0] * (x + 1)\n",
        "\n",
        "for i in range(2, x + 1):\n",
        "    d[i] = d[i - 1] + 1\n",
        "    if i % 2 == 0:\n",
        "        d[i] = min(d[i], d[i // 2] + 1)\n",
        "    if i % 3 == 0:\n",
        "        d[i] = min(d[i], d[i // 3] + 1)     \n",
        "    if i % 5 == 0:\n",
        "        d[i] = min(d[i], d[i // 5] + 1)\n",
        "\n",
        "print(d[x])"
      ]
    },
    {
      "cell_type": "markdown",
      "source": [
        "#**개미 전사**"
      ],
      "metadata": {
        "id": "CSvaCX5tR_HS"
      }
    },
    {
      "cell_type": "code",
      "source": [
        "n = int(input())\n",
        "array = list(map(int, input().split()))\n",
        "\n",
        "d = [0] * 100\n",
        "d[0] = array[0]\n",
        "d[1] = max(array[0], array[1])\n",
        "for i in range(2, n):\n",
        "    d[i] = max(d[i - 2] + array[i], d[i - 1])\n",
        "\n",
        "print(d[n - 1])"
      ],
      "metadata": {
        "colab": {
          "base_uri": "https://localhost:8080/"
        },
        "id": "tHH_UXYRSBBG",
        "outputId": "c48c76ef-a59e-46bc-b2ac-be80725bc845"
      },
      "execution_count": null,
      "outputs": [
        {
          "output_type": "stream",
          "name": "stdout",
          "text": [
            "4\n",
            "1 4 5 11\n",
            "15\n"
          ]
        }
      ]
    },
    {
      "cell_type": "markdown",
      "source": [
        "#**바닥 공사**"
      ],
      "metadata": {
        "id": "TAlSaDZJSBOE"
      }
    },
    {
      "cell_type": "code",
      "source": [
        "n = int(input())\n",
        "\n",
        "d = [0] * (n + 1)\n",
        "d[1] = 1\n",
        "d[2] = 3\n",
        "for i in range(3, n + 1):\n",
        "    d[i] = (d[i - 1] + 2 * d[i - 2]) % 796796\n",
        "\n",
        "print(d[n])"
      ],
      "metadata": {
        "id": "BdjSb3r6SCvo",
        "colab": {
          "base_uri": "https://localhost:8080/"
        },
        "outputId": "1f837e74-1674-4127-9aa3-6e73f3dbd3d0"
      },
      "execution_count": 3,
      "outputs": [
        {
          "output_type": "stream",
          "name": "stdout",
          "text": [
            "4\n",
            "11\n"
          ]
        }
      ]
    },
    {
      "cell_type": "markdown",
      "source": [
        "#**효율적인 화폐 구성**"
      ],
      "metadata": {
        "id": "CI5DuqoESC8B"
      }
    },
    {
      "cell_type": "code",
      "source": [
        "n, m = map(int, input().split())\n",
        "\n",
        "coins = []\n",
        "for i in range(n):\n",
        "    coins.append(int(input()))\n",
        "\n",
        "d = [10001] * (m + 1)\n",
        "d[0] = 0\n",
        "for coin in coins:\n",
        "    for i in range(coin, m + 1):\n",
        "        if d[i - coin] != 10001:\n",
        "            d[i] = min(d[i], d[i - coin] + 1)\n",
        "\n",
        "if d[m] == 10001:\n",
        "    print(-1)\n",
        "else:\n",
        "    print(d[m])"
      ],
      "metadata": {
        "id": "L6MywsBhSFOt",
        "colab": {
          "base_uri": "https://localhost:8080/"
        },
        "outputId": "a2ef2d7d-bc0e-4f93-ee4f-95977c4a619d"
      },
      "execution_count": 16,
      "outputs": [
        {
          "output_type": "stream",
          "name": "stdout",
          "text": [
            "3 17\n",
            "1\n",
            "5\n",
            "10\n",
            "4\n"
          ]
        }
      ]
    }
  ]
}