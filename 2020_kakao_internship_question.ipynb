{
  "nbformat": 4,
  "nbformat_minor": 0,
  "metadata": {
    "colab": {
      "name": "2020 kakao internship question.ipynb",
      "provenance": [],
      "collapsed_sections": [],
      "authorship_tag": "ABX9TyMig35YZ33+ZdqtRx2OPwVW",
      "include_colab_link": true
    },
    "kernelspec": {
      "name": "python3",
      "display_name": "Python 3"
    },
    "language_info": {
      "name": "python"
    }
  },
  "cells": [
    {
      "cell_type": "markdown",
      "metadata": {
        "id": "view-in-github",
        "colab_type": "text"
      },
      "source": [
        "<a href=\"https://colab.research.google.com/github/coshin71/Algorithm/blob/main/2020_kakao_internship_question.ipynb\" target=\"_parent\"><img src=\"https://colab.research.google.com/assets/colab-badge.svg\" alt=\"Open In Colab\"/></a>"
      ]
    },
    {
      "cell_type": "markdown",
      "source": [
        "#**키패드 누르기**"
      ],
      "metadata": {
        "id": "5bFpmKPAvcOG"
      }
    },
    {
      "cell_type": "code",
      "execution_count": null,
      "metadata": {
        "id": "sQ4CPhbavYmU"
      },
      "outputs": [],
      "source": [
        "def get_dist(num_pos, hand_pos):\n",
        "    return abs(num_pos[0] - hand_pos[0]) + abs(num_pos[1] - hand_pos[1])\n",
        "\n",
        "def solution(numbers, hand):\n",
        "    pos = [(3, 1), (0, 0), (0, 1), (0, 2), (1, 0), (1, 1), (1, 2),\n",
        "                (2, 0), (2, 1), (2, 2)]\n",
        "    left_pos, right_pos = (3, 0), (3, 2)\n",
        "    answer = \"\"\n",
        "    for num in numbers:\n",
        "        if num in [1, 4, 7]:\n",
        "            answer += 'L'\n",
        "            left_pos = pos[num]\n",
        "        elif num in [3, 6, 9]:\n",
        "            answer += 'R'\n",
        "            right_pos = pos[num]\n",
        "        else:\n",
        "            left_dist = get_dist(pos[num], left_pos)\n",
        "            right_dist = get_dist(pos[num], right_pos)\n",
        "            if left_dist < right_dist:\n",
        "                answer += 'L'\n",
        "                left_pos = pos[num]\n",
        "            elif left_dist > right_dist:\n",
        "                answer += 'R'\n",
        "                right_pos = pos[num]\n",
        "            else:\n",
        "                if hand == \"right\":\n",
        "                    answer += 'R'\n",
        "                    right_pos = pos[num]\n",
        "                else:\n",
        "                    answer += 'L'\n",
        "                    left_pos = pos[num]\n",
        "    return answer"
      ]
    },
    {
      "cell_type": "markdown",
      "source": [
        "#**수식 최대화**"
      ],
      "metadata": {
        "id": "VvH96cmV0R85"
      }
    },
    {
      "cell_type": "code",
      "source": [
        "from itertools import permutations\n",
        "import copy\n",
        "\n",
        "def solution(expression):\n",
        "    expression = list(expression)\n",
        "    nums = []\n",
        "    opers = []\n",
        "    oper_types = []\n",
        "    now = 0\n",
        "    for i in range(len(expression)):\n",
        "        if i == len(expression) - 1:\n",
        "            num = int(\"\".join(expression[now:i + 1]))\n",
        "            nums.append(num)\n",
        "        if expression[i].isdigit():\n",
        "            continue\n",
        "        else:\n",
        "            opers.append(expression[i])\n",
        "            num = int(\"\".join(expression[now:i]))\n",
        "            nums.append(num)\n",
        "            now = i + 1\n",
        "            if expression[i] not in oper_types:\n",
        "                oper_types.append(expression[i]) \n",
        "    \n",
        "    cands = list(permutations(oper_types, len(oper_types)))\n",
        "    answer = -1\n",
        "    for oper in cands:\n",
        "        temp_nums = copy.deepcopy(nums)\n",
        "        temp_opers = copy.deepcopy(opers)\n",
        "        for op in oper:\n",
        "            i = 0\n",
        "            while i < len(temp_opers):\n",
        "                if op == temp_opers[i]:\n",
        "                    if op == \"+\":\n",
        "                        temp_nums[i] = temp_nums[i] + temp_nums[i + 1]\n",
        "                        temp_nums.pop(i + 1)\n",
        "                        temp_opers.pop(i)\n",
        "                        i -= 1\n",
        "                    elif op == \"-\":\n",
        "                        temp_nums[i] = temp_nums[i] - temp_nums[i + 1]\n",
        "                        temp_nums.pop(i + 1)\n",
        "                        temp_opers.pop(i)\n",
        "                        i -= 1\n",
        "                    elif op == \"*\":\n",
        "                        temp_nums[i] = temp_nums[i] * temp_nums[i + 1]\n",
        "                        temp_nums.pop(i + 1)\n",
        "                        temp_opers.pop(i)\n",
        "                        i -= 1\n",
        "                i += 1\n",
        "        answer = max(answer, abs(temp_nums[0]))\n",
        "    return answer"
      ],
      "metadata": {
        "id": "_VCrbhxC0VYS"
      },
      "execution_count": null,
      "outputs": []
    },
    {
      "cell_type": "markdown",
      "source": [
        "#**보석 쇼핑**"
      ],
      "metadata": {
        "id": "cYrgOEbKSkOv"
      }
    },
    {
      "cell_type": "markdown",
      "source": [
        "효율성 감점"
      ],
      "metadata": {
        "id": "pYxbubceS3A-"
      }
    },
    {
      "cell_type": "code",
      "source": [
        "def binary_search(gems, start, end, gem_types):\n",
        "    answer = []\n",
        "    while start <= end:\n",
        "        mid = (start + end) // 2\n",
        "        for i in range(len(gems) - mid + 1):\n",
        "            check = False\n",
        "            cand = gems[i:i + mid]\n",
        "            for gem in gem_types:\n",
        "                if gem in cand:\n",
        "                    check = True\n",
        "                    continue\n",
        "                else:\n",
        "                    check = False\n",
        "                    break\n",
        "            if check:\n",
        "                answer = [i + 1, i + mid]\n",
        "                end = mid - 1\n",
        "                break\n",
        "        else:\n",
        "            start = mid + 1\n",
        "    return answer\n",
        "def solution(gems):\n",
        "    gem_types = []\n",
        "    for gem in gems:\n",
        "        if gem not in gem_types:\n",
        "            gem_types.append(gem)\n",
        "    start = len(gem_types)\n",
        "    end = len(gems)\n",
        "    answer = []\n",
        "    answer = binary_search(gems, start, end, gem_types)\n",
        "    return answer"
      ],
      "metadata": {
        "id": "Aoa5VIvySjd6"
      },
      "execution_count": null,
      "outputs": []
    },
    {
      "cell_type": "markdown",
      "source": [
        "#**경주로 건설**"
      ],
      "metadata": {
        "id": "IwYhTWBWSebK"
      }
    },
    {
      "cell_type": "markdown",
      "source": [
        "정확도 감점"
      ],
      "metadata": {
        "id": "_opOBTi_TdAT"
      }
    },
    {
      "cell_type": "code",
      "source": [
        "import heapq\n",
        "\n",
        "INF = int(1e9)\n",
        "\n",
        "dx = [-1, 0, 1, 0]\n",
        "dy = [0, -1 ,0, 1]\n",
        "\n",
        "def dijkstra(board, n):\n",
        "    q = []\n",
        "    distance = [[INF] * n for _ in range(n)]\n",
        "    distance[0][0] = 0\n",
        "    if board[0][1] == 0:\n",
        "        heapq.heappush(q, (100, 0, 1, \"ROW\"))\n",
        "        distance[0][1] = 100\n",
        "    if board[1][0] == 0:\n",
        "        heapq.heappush(q, (100, 1, 0, \"COL\"))\n",
        "        distance[1][0] = 100\n",
        "    while q:\n",
        "        cost, x, y, direction = heapq.heappop(q)\n",
        "        if distance[x][y] < cost:\n",
        "            continue\n",
        "        for i in range(4):\n",
        "            nx = x + dx[i]\n",
        "            ny = y + dy[i]\n",
        "            if 0 <= nx < n and 0 <= ny < n and board[nx][ny] == 0:\n",
        "                if direction == \"ROW\":\n",
        "                    if x == nx:\n",
        "                        if cost + 100 <= distance[nx][ny]:\n",
        "                            heapq.heappush(q, (cost + 100, nx, ny, \"ROW\"))\n",
        "                            distance[nx][ny] = cost + 100\n",
        "                    else:\n",
        "                        if cost + 600 <= distance[nx][ny]:\n",
        "                            heapq.heappush(q, (cost + 600, nx, ny, \"COL\"))\n",
        "                            distance[nx][ny] = cost + 600\n",
        "                elif direction == \"COL\":\n",
        "                    if y == ny:\n",
        "                        if cost + 100 <= distance[nx][ny]:\n",
        "                            heapq.heappush(q, (cost + 100, nx, ny, \"COL\"))\n",
        "                            distance[nx][ny] = cost + 100\n",
        "                    else:\n",
        "                        if cost + 600 <= distance[nx][ny]:\n",
        "                            heapq.heappush(q, (cost + 600, nx, ny, \"ROW\"))\n",
        "                            distance[nx][ny] = cost + 600\n",
        "    return distance[n - 1][n - 1]\n",
        "        \n",
        "        \n",
        "def solution(board):\n",
        "    n = len(board)\n",
        "    return dijkstra(board, n)"
      ],
      "metadata": {
        "id": "K6AgTCjaSfMY"
      },
      "execution_count": null,
      "outputs": []
    },
    {
      "cell_type": "markdown",
      "source": [
        "#**동굴 탐험**"
      ],
      "metadata": {
        "id": "8XCPNVFUSpOl"
      }
    },
    {
      "cell_type": "markdown",
      "source": [
        "오답"
      ],
      "metadata": {
        "id": "u3pwJAZXqSCp"
      }
    },
    {
      "cell_type": "code",
      "source": [
        ""
      ],
      "metadata": {
        "id": "tDclnilqSreL"
      },
      "execution_count": null,
      "outputs": []
    }
  ]
}