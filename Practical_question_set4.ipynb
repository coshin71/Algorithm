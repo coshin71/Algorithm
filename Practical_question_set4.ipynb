{
  "nbformat": 4,
  "nbformat_minor": 0,
  "metadata": {
    "colab": {
      "name": "Practical_question_set4.ipynb",
      "provenance": [],
      "collapsed_sections": [],
      "authorship_tag": "ABX9TyNZlvVb0fdoaZjGZUOqvK+h",
      "include_colab_link": true
    },
    "kernelspec": {
      "name": "python3",
      "display_name": "Python 3"
    },
    "language_info": {
      "name": "python"
    }
  },
  "cells": [
    {
      "cell_type": "markdown",
      "metadata": {
        "id": "view-in-github",
        "colab_type": "text"
      },
      "source": [
        "<a href=\"https://colab.research.google.com/github/coshin71/Algorithm/blob/main/Practical_question_set4.ipynb\" target=\"_parent\"><img src=\"https://colab.research.google.com/assets/colab-badge.svg\" alt=\"Open In Colab\"/></a>"
      ]
    },
    {
      "cell_type": "markdown",
      "source": [
        "#**연산자 끼워 넣기**"
      ],
      "metadata": {
        "id": "GbwG1Y8amvLO"
      }
    },
    {
      "cell_type": "code",
      "execution_count": 25,
      "metadata": {
        "colab": {
          "base_uri": "https://localhost:8080/"
        },
        "id": "I3KhUs9klOwR",
        "outputId": "54a68085-754a-48a3-b09f-ea19eb1c4530"
      },
      "outputs": [
        {
          "output_type": "stream",
          "name": "stdout",
          "text": [
            "6\n",
            "1 2 3 4 5 6\n",
            "2 1 1 1\n",
            "54\n",
            "-24\n"
          ]
        }
      ],
      "source": [
        "n = int(input())\n",
        "nums = list(map(int, input().split()))\n",
        "# +, -, *, /\n",
        "operations = list(map(int, input().split())) \n",
        "\n",
        "max_total = -1000000000\n",
        "min_total = 1000000000\n",
        "\n",
        "def dfs(total, cnt):\n",
        "    global max_total\n",
        "    global min_total\n",
        "    if cnt == n:\n",
        "        max_total = max(max_total, total)\n",
        "        min_total = min(min_total, total)\n",
        "        return\n",
        "    if operations[0] > 0:\n",
        "        operations[0] -= 1\n",
        "        dfs(total + nums[cnt], cnt + 1)\n",
        "        operations[0] += 1\n",
        "    if operations[1] > 0:\n",
        "        operations[1] -= 1\n",
        "        dfs(total - nums[cnt], cnt + 1)\n",
        "        operations[1] += 1\n",
        "    if operations[2] > 0:\n",
        "        operations[2] -= 1\n",
        "        dfs(total * nums[cnt], cnt + 1)\n",
        "        operations[2] += 1\n",
        "    if operations[3] > 0:\n",
        "        operations[3] -= 1\n",
        "        dfs(int(total / nums[cnt]), cnt + 1)\n",
        "        operations[3] += 1\n",
        "\n",
        "dfs(nums[0], 1)\n",
        "print(max_total)\n",
        "print(min_total)"
      ]
    },
    {
      "cell_type": "markdown",
      "source": [
        "#**감시 피하기**"
      ],
      "metadata": {
        "id": "rHl_IF7k3Kgw"
      }
    },
    {
      "cell_type": "code",
      "source": [
        "from itertools import combinations\n",
        "import copy\n",
        "\n",
        "n = int(input())\n",
        "\n",
        "hall = []\n",
        "students = []\n",
        "empty = []\n",
        "for i in range(n):\n",
        "    data = list(input().split())\n",
        "    hall.append(data)\n",
        "    for j in range(n):\n",
        "        if data[j] == 'S':\n",
        "            students.append((i, j))\n",
        "        if data[j] == 'X':\n",
        "            empty.append((i, j))\n",
        "\n",
        "def check():\n",
        "    for e1, e2, e3 in list(combinations(empty, 3)):\n",
        "        check = True\n",
        "        temp = copy.deepcopy(hall)\n",
        "        temp[e1[0]][e1[1]] = 'O'\n",
        "        temp[e2[0]][e2[1]] = 'O'\n",
        "        temp[e3[0]][e3[1]] = 'O'\n",
        "        for x, y in students:\n",
        "            if check == False:\n",
        "                break\n",
        "            nx = x\n",
        "            while nx > 0:\n",
        "                nx -= 1\n",
        "                if temp[nx][y] == 'T':\n",
        "                    check = False\n",
        "                    break\n",
        "                if temp[nx][y] == 'O':\n",
        "                    break\n",
        "            nx = x\n",
        "            while nx < n - 1:\n",
        "                nx += 1\n",
        "                if temp[nx][y] == 'T':\n",
        "                    check = False\n",
        "                    break\n",
        "                if temp[nx][y] == 'O':\n",
        "                    break  \n",
        "            ny = y\n",
        "            while ny > 0:\n",
        "                ny -= 1\n",
        "                if temp[x][ny] == 'T':\n",
        "                    check = False\n",
        "                    break\n",
        "                if temp[x][ny] == 'O':\n",
        "                    break\n",
        "            ny = y\n",
        "            while ny < n - 1:\n",
        "                ny += 1\n",
        "                if temp[x][ny] == 'T':\n",
        "                    check = False\n",
        "                    break\n",
        "                if temp[x][ny] == 'O':\n",
        "                    break\n",
        "        if check == True:\n",
        "            return True\n",
        "    return False\n",
        "\n",
        "if check():\n",
        "    print(\"YES\")\n",
        "else:\n",
        "    print(\"NO\")"
      ],
      "metadata": {
        "colab": {
          "base_uri": "https://localhost:8080/"
        },
        "id": "c6p06N1g3L8V",
        "outputId": "b6ed0a05-9080-499d-db62-e47287735cc4"
      },
      "execution_count": 36,
      "outputs": [
        {
          "output_type": "stream",
          "name": "stdout",
          "text": [
            "5\n",
            "X S X X T\n",
            "T X S X X\n",
            "X X X X X\n",
            "X T X X X\n",
            "X X T X X\n",
            "YES\n"
          ]
        }
      ]
    }
  ]
}