{
  "nbformat": 4,
  "nbformat_minor": 0,
  "metadata": {
    "colab": {
      "name": "2021 kakao internship question set.ipynb",
      "provenance": [],
      "collapsed_sections": [],
      "authorship_tag": "ABX9TyNDYc9/h+W4xdNtvgywiKfv",
      "include_colab_link": true
    },
    "kernelspec": {
      "name": "python3",
      "display_name": "Python 3"
    },
    "language_info": {
      "name": "python"
    }
  },
  "cells": [
    {
      "cell_type": "markdown",
      "metadata": {
        "id": "view-in-github",
        "colab_type": "text"
      },
      "source": [
        "<a href=\"https://colab.research.google.com/github/coshin71/Algorithm/blob/main/2021_kakao_internship_question.ipynb\" target=\"_parent\"><img src=\"https://colab.research.google.com/assets/colab-badge.svg\" alt=\"Open In Colab\"/></a>"
      ]
    },
    {
      "cell_type": "markdown",
      "source": [
        "#**숫자 문자열과 영단어**"
      ],
      "metadata": {
        "id": "ZNB18HYqZvVs"
      }
    },
    {
      "cell_type": "code",
      "execution_count": null,
      "metadata": {
        "id": "mEb8KnvEZfpj"
      },
      "outputs": [],
      "source": [
        "def solution(s):\n",
        "    answer = \"\"\n",
        "    prefix_list = [\"ze\", \"on\", \"tw\", \"th\", \"fo\", \"fi\", \"si\", \"se\", \"ei\", \"ni\"]\n",
        "    length_list = [4, 3, 3, 5, 4, 4, 3, 5, 5, 4]\n",
        "    index = 0\n",
        "    while index < len(s):\n",
        "        if 48 <= ord(s[index]) <= 57:\n",
        "            answer += s[index]\n",
        "            index += 1\n",
        "        else:\n",
        "            prefix = s[index:index + 2]\n",
        "            prefix_index = prefix_list.index(prefix)\n",
        "            answer += str(prefix_index)\n",
        "            index += length_list[prefix_list.index(prefix)]\n",
        "    answer = int(answer)\n",
        "    return answer"
      ]
    },
    {
      "cell_type": "markdown",
      "source": [
        "#**거리두기 확인하기**"
      ],
      "metadata": {
        "id": "z5Ck0FhrZ6C8"
      }
    },
    {
      "cell_type": "code",
      "source": [
        "from collections import deque\n",
        "\n",
        "dx1 = [-1, 1, 0, 0]\n",
        "dy1 = [0, 0, -1, 1]\n",
        "\n",
        "dx2 = [-2, 2, 0, 0]\n",
        "dy2 = [0, 0, -2, 2]\n",
        "\n",
        "dx3 = [-1, -1, 1, 1]\n",
        "dy3 = [-1, 1, -1, 1]\n",
        "\n",
        "def possible(place, x, y):\n",
        "    for i in range(4):\n",
        "        nx = x + dx1[i]\n",
        "        ny = y + dy1[i]\n",
        "        if 0 <= nx < 5 and 0 <= ny < 5:\n",
        "            if place[nx][ny] == \"P\":\n",
        "                return False\n",
        "            \n",
        "    for i in range(4):\n",
        "        nx = x + dx2[i]\n",
        "        ny = y + dy2[i]\n",
        "        if 0 <= nx < 5 and 0 <= ny < 5:\n",
        "            if place[nx][ny] == \"P\" and place[x + dx2[i] // 2][y + dy2[i] // 2] != \"X\":\n",
        "                return False\n",
        "            \n",
        "    for i in range(4):\n",
        "        nx = x + dx3[i]\n",
        "        ny = y + dy3[i]\n",
        "        if 0 <= nx < 5 and 0 <= ny < 5:\n",
        "            if place[nx][ny] == \"P\" and (place[nx][y] != \"X\" or place[x][ny] != \"X\"):\n",
        "                return False\n",
        "            \n",
        "def solution(places):\n",
        "    answer = []\n",
        "    for data in places:\n",
        "        place = []\n",
        "        check = True\n",
        "        for d in data:\n",
        "            place.append(list(d))\n",
        "        for i in range(5):\n",
        "            for j in range(5):\n",
        "                if place[i][j] == \"P\" and check == True:\n",
        "                    if possible(place, i, j) == False:\n",
        "                        check = False\n",
        "        if check == False:\n",
        "            answer.append(0)\n",
        "        else:\n",
        "            answer.append(1)\n",
        "    return answer"
      ],
      "metadata": {
        "id": "QA_CAzlnZ_3_"
      },
      "execution_count": null,
      "outputs": []
    },
    {
      "cell_type": "markdown",
      "source": [
        "#**표 편집**"
      ],
      "metadata": {
        "id": "h2ogX3IFaEKU"
      }
    },
    {
      "cell_type": "markdown",
      "source": [
        "오답 - 효율성 감점"
      ],
      "metadata": {
        "id": "mZnWDyAooa4U"
      }
    },
    {
      "cell_type": "code",
      "source": [
        "from collections import deque\n",
        "\n",
        "def up_index(answer, index, x):\n",
        "    cnt = 0\n",
        "    index -= 1\n",
        "    while True:\n",
        "        if answer[index] == 'O':\n",
        "            cnt += 1\n",
        "        if cnt == x: \n",
        "            break\n",
        "        index -= 1\n",
        "    return index\n",
        "    \n",
        "def down_index(answer, index, x):\n",
        "    cnt = 0\n",
        "    index += 1\n",
        "    while True:\n",
        "        if answer[index] == 'O':\n",
        "            cnt += 1\n",
        "        if cnt == x: \n",
        "            break\n",
        "        index += 1\n",
        "    return index\n",
        "\n",
        "def recover_row(answer, recycle_bin):\n",
        "    answer[recycle_bin.pop()] = 'O'\n",
        "\n",
        "def delete_row(answer, recycle_bin, index):\n",
        "    recycle_bin.append(index)\n",
        "    answer[index] = 'X'\n",
        "    temp = index\n",
        "    for i in range(index, len(answer)):\n",
        "        if answer[i] == 'O':\n",
        "            index = i\n",
        "            break\n",
        "    if index == temp:\n",
        "        for i in range(index, -1, -1):\n",
        "            if answer[i] == 'O':\n",
        "                index = i\n",
        "                break\n",
        "    return index\n",
        "    \n",
        "def solution(n, k, cmd):\n",
        "    index = k\n",
        "    recycle_bin = deque()\n",
        "    answer = ['O'] * n\n",
        "    for c in cmd:\n",
        "        if c.startswith('U'):\n",
        "            index = up_index(answer, index, int(c[2:]))\n",
        "        elif c.startswith('D'):\n",
        "            index = down_index(answer, index, int(c[2:]))\n",
        "        elif c.startswith('C'):\n",
        "            index = delete_row(answer, recycle_bin, index)\n",
        "        elif c.startswith('Z'):\n",
        "            recover_row(answer, recycle_bin)\n",
        "    answer = ''.join(answer)\n",
        "    return answer"
      ],
      "metadata": {
        "id": "NN5ljvlVaFdS"
      },
      "execution_count": null,
      "outputs": []
    },
    {
      "cell_type": "markdown",
      "source": [
        "#**미로 탈출**"
      ],
      "metadata": {
        "id": "II3G1KioaJwG"
      }
    },
    {
      "cell_type": "markdown",
      "source": [
        "오답 - 정확성 감점"
      ],
      "metadata": {
        "id": "xBBA1uckoqQ8"
      }
    },
    {
      "cell_type": "code",
      "source": [
        "import heapq\n",
        "INF = int(1e9)\n",
        "\n",
        "def dijkstra(graph, distance, n, start, end, traps):\n",
        "    q = []\n",
        "    heapq.heappush(q, (0, start))\n",
        "    distance[start] = 0\n",
        "    while q:\n",
        "        dist, now = heapq.heappop(q)\n",
        "        if dist > distance[now]:\n",
        "            continue\n",
        "        if now in traps:\n",
        "            for i in range(1, n + 1):\n",
        "                if graph[now][i] != INF or graph[i][now] != INF:\n",
        "                    graph[now][i], graph[i][now] = graph[i][now], graph[now][i]\n",
        "        for i in range(1, n + 1):\n",
        "            cost = dist + graph[now][i]\n",
        "            if cost < distance[i]:\n",
        "                heapq.heappush(q, (cost, i))\n",
        "                distance[i] = cost\n",
        "            \n",
        "def solution(n, start, end, roads, traps):\n",
        "    graph = [[INF] * (n + 1) for _ in range(n + 1)]\n",
        "    distance = [INF] * (n + 1)\n",
        "    for a, b, cost in roads:\n",
        "        graph[a][b] = cost\n",
        "    dijkstra(graph, distance, n, start, end, traps)\n",
        "    return distance[end]"
      ],
      "metadata": {
        "id": "5QaATFn9aK-0"
      },
      "execution_count": null,
      "outputs": []
    },
    {
      "cell_type": "markdown",
      "source": [
        "#**시험장 나누기**"
      ],
      "metadata": {
        "id": "eRkx6mlOnWml"
      }
    },
    {
      "cell_type": "markdown",
      "source": [
        "오답"
      ],
      "metadata": {
        "id": "RNb6m_e_ovKb"
      }
    },
    {
      "cell_type": "code",
      "source": [
        ""
      ],
      "metadata": {
        "id": "WjwAGjWLnYYq"
      },
      "execution_count": null,
      "outputs": []
    }
  ]
}