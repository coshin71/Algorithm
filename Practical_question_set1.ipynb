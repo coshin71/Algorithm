{
  "nbformat": 4,
  "nbformat_minor": 0,
  "metadata": {
    "colab": {
      "name": "Practical_question_set1.ipynb",
      "provenance": [],
      "collapsed_sections": [],
      "authorship_tag": "ABX9TyPoX2obukaGGnndfLYSCcy3",
      "include_colab_link": true
    },
    "kernelspec": {
      "name": "python3",
      "display_name": "Python 3"
    },
    "language_info": {
      "name": "python"
    }
  },
  "cells": [
    {
      "cell_type": "markdown",
      "metadata": {
        "id": "view-in-github",
        "colab_type": "text"
      },
      "source": [
        "<a href=\"https://colab.research.google.com/github/coshin71/Algorithm/blob/main/Practical_question_set1.ipynb\" target=\"_parent\"><img src=\"https://colab.research.google.com/assets/colab-badge.svg\" alt=\"Open In Colab\"/></a>"
      ]
    },
    {
      "cell_type": "markdown",
      "source": [
        "#**특정 거리의 도시 찾기**"
      ],
      "metadata": {
        "id": "twvYteRkTGTg"
      }
    },
    {
      "cell_type": "code",
      "execution_count": 7,
      "metadata": {
        "colab": {
          "base_uri": "https://localhost:8080/"
        },
        "id": "ze5f1g1_TB5d",
        "outputId": "2d4c0df2-31ec-4503-f26c-450191c2bd70"
      },
      "outputs": [
        {
          "output_type": "stream",
          "name": "stdout",
          "text": [
            "4 4 1 1\n",
            "1 2\n",
            "1 3\n",
            "2 3\n",
            "2 4\n",
            "2\n",
            "3\n"
          ]
        }
      ],
      "source": [
        "from collections import deque\n",
        "\n",
        "INF = int(1e9)\n",
        "\n",
        "n, m, k, x = map(int, input().split())\n",
        "graph = [[] for _ in range(n + 1)]\n",
        "for i in range(m):\n",
        "    a, b = map(int, input().split())\n",
        "    graph[a].append(b)\n",
        "\n",
        "visited = [False] * (n + 1)\n",
        "distance = [INF] * (n + 1)\n",
        "\n",
        "def bfs(graph, start, visited):\n",
        "    queue = deque([start])\n",
        "    visited[start] = True\n",
        "    distance[start] = 0\n",
        "    while queue:\n",
        "        v = queue.popleft()\n",
        "        for i in graph[v]:\n",
        "            if not visited[i]:\n",
        "                queue.append(i)\n",
        "                visited[i] = True\n",
        "                distance[i] = distance[v] + 1\n",
        "\n",
        "bfs(graph, x, visited)\n",
        "\n",
        "if distance.count(k) > 0:\n",
        "    for i in range(1, len(distance)):\n",
        "        if distance[i] == k:\n",
        "            print(i)\n",
        "else:\n",
        "    print(-1)"
      ]
    },
    {
      "cell_type": "markdown",
      "source": [
        "#**연구소**"
      ],
      "metadata": {
        "id": "GCnijfQjTKe9"
      }
    },
    {
      "cell_type": "code",
      "source": [
        "from itertools import combinations\n",
        "import copy\n",
        "\n",
        "n, m = map(int, input().split())\n",
        "\n",
        "empty = []\n",
        "lab = []\n",
        "for i in range(n):\n",
        "    data = list(map(int, input().split()))\n",
        "    lab.append(data)\n",
        "    for j in range(m):\n",
        "        if data[j] == 0:\n",
        "            empty.append((i, j))\n",
        "\n",
        "def dfs(x, y):\n",
        "    if x - 1 >= 0 and temp[x - 1][y] == 0:\n",
        "        temp[x - 1][y] = 2\n",
        "        dfs(x - 1, y)\n",
        "    if x + 1 < n and temp[x + 1][y] == 0:\n",
        "        temp[x + 1][y] = 2\n",
        "        dfs(x + 1, y)\n",
        "    if y - 1 >= 0 and temp[x][y - 1] == 0:\n",
        "        temp[x][y - 1] = 2\n",
        "        dfs(x, y - 1)\n",
        "    if y + 1 < m and temp[x][y + 1] == 0:\n",
        "        temp[x][y + 1] = 2\n",
        "        dfs(x, y + 1)\n",
        "\n",
        "result = 0\n",
        "for e1, e2, e3 in list(combinations(empty, 3)):\n",
        "    temp = copy.deepcopy(lab)\n",
        "    temp[e1[0]][e1[1]] = 1\n",
        "    temp[e2[0]][e2[1]] = 1\n",
        "    temp[e3[0]][e3[1]] = 1\n",
        "    for i in range(n):\n",
        "        for j in range(m):\n",
        "            if temp[i][j] == 2:\n",
        "                dfs(i, j)\n",
        "    count = 0   \n",
        "    for i in range(n):\n",
        "        for j in range(m):\n",
        "            if temp[i][j] == 0:\n",
        "                count += 1\n",
        "    result = max(result, count)\n",
        "\n",
        "print(result)"
      ],
      "metadata": {
        "colab": {
          "base_uri": "https://localhost:8080/"
        },
        "id": "ImWNG_fvTLlE",
        "outputId": "1b019810-ccd4-4e67-acac-80f7f60bda57"
      },
      "execution_count": 64,
      "outputs": [
        {
          "output_type": "stream",
          "name": "stdout",
          "text": [
            "7 7\n",
            "2 0 0 0 1 1 0\n",
            "0 0 1 0 1 2 0\n",
            "0 1 1 0 1 0 0\n",
            "0 1 0 0 0 0 0\n",
            "0 0 0 0 0 1 1\n",
            "0 1 0 0 0 0 0\n",
            "0 1 0 0 0 0 0\n",
            "27\n"
          ]
        }
      ]
    }
  ]
}