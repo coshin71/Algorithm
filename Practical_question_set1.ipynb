{
  "nbformat": 4,
  "nbformat_minor": 0,
  "metadata": {
    "colab": {
      "name": "Practical_question_set.ipynb",
      "provenance": [],
      "collapsed_sections": [],
      "authorship_tag": "ABX9TyMUlEa0d86iu/NvObUB4JMi",
      "include_colab_link": true
    },
    "kernelspec": {
      "name": "python3",
      "display_name": "Python 3"
    },
    "language_info": {
      "name": "python"
    }
  },
  "cells": [
    {
      "cell_type": "markdown",
      "metadata": {
        "id": "view-in-github",
        "colab_type": "text"
      },
      "source": [
        "<a href=\"https://colab.research.google.com/github/coshin71/Algorithm/blob/main/Practical_question_set1.ipynb\" target=\"_parent\"><img src=\"https://colab.research.google.com/assets/colab-badge.svg\" alt=\"Open In Colab\"/></a>"
      ]
    },
    {
      "cell_type": "markdown",
      "source": [
        "#**모험가 길드**"
      ],
      "metadata": {
        "id": "IK7VUTIEwd1Z"
      }
    },
    {
      "cell_type": "code",
      "execution_count": null,
      "metadata": {
        "colab": {
          "base_uri": "https://localhost:8080/"
        },
        "id": "5VYKNCp3wV9f",
        "outputId": "e86dc97b-7286-47d3-9ea2-d14e6acd36ce"
      },
      "outputs": [
        {
          "output_type": "stream",
          "name": "stdout",
          "text": [
            "5\n",
            "2 3 1 2 2\n",
            "2\n"
          ]
        }
      ],
      "source": [
        "n = int(input())\n",
        "\n",
        "array = list(map(int, input().split()))\n",
        "array.sort()\n",
        "\n",
        "count = 0\n",
        "set_count = 0\n",
        "for i in range(len(array)):\n",
        "    count += 1\n",
        "    if count == array[i]:\n",
        "        set_count += 1\n",
        "        count = 0\n",
        "\n",
        "print(set_count) "
      ]
    },
    {
      "cell_type": "markdown",
      "source": [
        "#**곱하기 혹은 더하기**"
      ],
      "metadata": {
        "id": "CqDMw73GxmZa"
      }
    },
    {
      "cell_type": "code",
      "source": [
        "s = list(map(int, input()))\n",
        "\n",
        "total = s[0]\n",
        "for i in range(1, len(s)):\n",
        "    num = s[i]\n",
        "    if total <= 1 or num <= 1:\n",
        "        total += num\n",
        "    else:\n",
        "        total *= num\n",
        "\n",
        "print(total)"
      ],
      "metadata": {
        "colab": {
          "base_uri": "https://localhost:8080/"
        },
        "id": "Jiynx7-fxoJH",
        "outputId": "7b112188-55f2-4532-8562-0e0b703e42a9"
      },
      "execution_count": 5,
      "outputs": [
        {
          "output_type": "stream",
          "name": "stdout",
          "text": [
            "012689\n",
            "1296\n"
          ]
        }
      ]
    },
    {
      "cell_type": "markdown",
      "source": [
        "#**문자열 뒤집기**"
      ],
      "metadata": {
        "id": "6G-ai9UBUloc"
      }
    },
    {
      "cell_type": "code",
      "source": [
        "s = input()\n",
        "\n",
        "count = 0\n",
        "for i in range(len(s) - 1):\n",
        "    if s[i] != s[i + 1]:\n",
        "        count += 1\n",
        "\n",
        "if count % 2 != 0:\n",
        "    print(count // 2 + 1)\n",
        "else:\n",
        "    print(count // 2)"
      ],
      "metadata": {
        "colab": {
          "base_uri": "https://localhost:8080/"
        },
        "id": "CjdrbQDjUnz5",
        "outputId": "3d173081-09e8-44a1-c4b7-5de1e02df1c9"
      },
      "execution_count": null,
      "outputs": [
        {
          "output_type": "stream",
          "name": "stdout",
          "text": [
            "0001100\n",
            "1\n"
          ]
        }
      ]
    },
    {
      "cell_type": "markdown",
      "source": [
        "#**만들 수 없는 금액**"
      ],
      "metadata": {
        "id": "AwjOVIJ3VKxu"
      }
    },
    {
      "cell_type": "code",
      "source": [
        "n = int(input())\n",
        "\n",
        "coins = list(map(int, input().split()))\n",
        "coins.sort()\n",
        "\n",
        "target = 1\n",
        "for coin in coins:\n",
        "    if target < coin:\n",
        "        break    \n",
        "    target += coin\n",
        "\n",
        "print(target)"
      ],
      "metadata": {
        "id": "OGnvoVGSVM00",
        "colab": {
          "base_uri": "https://localhost:8080/"
        },
        "outputId": "ed7aa7fc-c722-4d9c-893c-a3295adb0216"
      },
      "execution_count": 7,
      "outputs": [
        {
          "output_type": "stream",
          "name": "stdout",
          "text": [
            "4\n",
            "1 2 3 8\n",
            "7\n"
          ]
        }
      ]
    },
    {
      "cell_type": "markdown",
      "source": [
        "#**볼링공 고르기**"
      ],
      "metadata": {
        "id": "FkUur_tgVNhL"
      }
    },
    {
      "cell_type": "code",
      "source": [
        "n, m = map(int, input().split())\n",
        "k = list(map(int, input().split()))\n",
        "\n",
        "total = 0\n",
        "for i in range(n):\n",
        "    for j in range(i + 1, n):\n",
        "        if k[i] != k[j]:\n",
        "            total += 1\n",
        "\n",
        "print(total)"
      ],
      "metadata": {
        "colab": {
          "base_uri": "https://localhost:8080/"
        },
        "id": "ooD9-Vt4VPJW",
        "outputId": "7bf5f481-6690-426a-fc7f-ccc5a64410dd"
      },
      "execution_count": null,
      "outputs": [
        {
          "output_type": "stream",
          "name": "stdout",
          "text": [
            "8 5\n",
            "1 5 4 3 2 4 5 2\n",
            "25\n"
          ]
        }
      ]
    },
    {
      "cell_type": "markdown",
      "source": [
        "#**무지의 먹방 라이브**"
      ],
      "metadata": {
        "id": "jR8csIv0VPPo"
      }
    },
    {
      "cell_type": "code",
      "source": [
        "food_times = list(map(int, input().split()))\n",
        "k = int(input())\n",
        "\n",
        "index = 0\n",
        "empty = False\n",
        "for _ in range(k):\n",
        "    if empty == True:\n",
        "        break\n",
        "    count = 0\n",
        "    if food_times[index] > 0:\n",
        "        food_times[index] -= 1\n",
        "        index += 1\n",
        "        index %= len(food_times)\n",
        "    while food_times[index] == 0:\n",
        "        if count == len(food_times):\n",
        "            empty = True\n",
        "            break\n",
        "        index += 1\n",
        "        index %= len(food_times)\n",
        "        count += 1\n",
        "if empty:\n",
        "    print(-1)\n",
        "else:\n",
        "    print(index + 1)"
      ],
      "metadata": {
        "colab": {
          "base_uri": "https://localhost:8080/"
        },
        "id": "pJBKI6JLVRGn",
        "outputId": "13c7935b-7caa-45e7-eb26-b73b6fedd1e7"
      },
      "execution_count": 9,
      "outputs": [
        {
          "output_type": "stream",
          "name": "stdout",
          "text": [
            "7 3 4 6\n",
            "16\n",
            "4\n"
          ]
        }
      ]
    }
  ]
}