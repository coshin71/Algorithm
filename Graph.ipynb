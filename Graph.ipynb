{
  "nbformat": 4,
  "nbformat_minor": 0,
  "metadata": {
    "colab": {
      "name": "Graph.ipynb",
      "provenance": [],
      "authorship_tag": "ABX9TyOdKfBUNeQQO2B9699CEDgl",
      "include_colab_link": true
    },
    "kernelspec": {
      "name": "python3",
      "display_name": "Python 3"
    },
    "language_info": {
      "name": "python"
    }
  },
  "cells": [
    {
      "cell_type": "markdown",
      "metadata": {
        "id": "view-in-github",
        "colab_type": "text"
      },
      "source": [
        "<a href=\"https://colab.research.google.com/github/coshin71/Algorithm/blob/main/Graph.ipynb\" target=\"_parent\"><img src=\"https://colab.research.google.com/assets/colab-badge.svg\" alt=\"Open In Colab\"/></a>"
      ]
    },
    {
      "cell_type": "markdown",
      "source": [
        "#**Disjoint sets(서로소 집합)**"
      ],
      "metadata": {
        "id": "emI7cY5zD0QB"
      }
    },
    {
      "cell_type": "code",
      "execution_count": 14,
      "metadata": {
        "colab": {
          "base_uri": "https://localhost:8080/"
        },
        "id": "nwxEVBTI-m0W",
        "outputId": "cac10c8d-1670-4f55-8833-86830fb2ca0f"
      },
      "outputs": [
        {
          "output_type": "stream",
          "name": "stdout",
          "text": [
            "6 4\n",
            "2 3\n",
            "2 4\n",
            "1 4\n",
            "5 6\n",
            "각 원소가 속한 집합 : 1 1 1 1 5 5 \n",
            "부모 테이블: 1 1 1 1 5 5 "
          ]
        }
      ],
      "source": [
        "def find_parent(parent, x):\n",
        "    if parent[x] != x:\n",
        "        parent[x] = find_parent(parent, parent[x])\n",
        "    return parent[x]\n",
        "\n",
        "def union_parent(parent, a, b):\n",
        "    a = find_parent(parent, a)\n",
        "    b = find_parent(parent, b)\n",
        "    if a < b:\n",
        "        parent[b] = a\n",
        "    else:\n",
        "        parent[a] = b\n",
        "\n",
        "v, e = map(int, input().split())\n",
        "\n",
        "parent = [0] * (v + 1)\n",
        "for i in range(1, v + 1):\n",
        "    parent[i] = i\n",
        "\n",
        "for i in range(e):\n",
        "    a, b = map(int, input().split())\n",
        "    union_parent(parent, a, b)\n",
        "\n",
        "print(\"각 원소가 속한 집합 : \", end='')\n",
        "for i in range(1, v + 1):\n",
        "    print(find_parent(parent, i), end=' ')\n",
        "\n",
        "#각 노드에 대하여 find_parent() 함수를 수행해야 부모 테이블이 해당 노드의 루트 노드로 형성된다!\n",
        "print(\"\\n부모 테이블: \", end='')\n",
        "for i in range(1, v + 1):\n",
        "    print(parent[i], end=' ')"
      ]
    },
    {
      "cell_type": "markdown",
      "source": [
        "#**Cycle discrimination**"
      ],
      "metadata": {
        "id": "2GN7Cy0hHwOC"
      }
    },
    {
      "cell_type": "code",
      "source": [
        "def find_parent(parent, x):\n",
        "    if parent[x] != x:\n",
        "        parent[x] = find_parent(parent, parent[x])\n",
        "    return parent[x]\n",
        "\n",
        "def union_parent(parent, a, b):\n",
        "    a = find_parent(parent, a)\n",
        "    b = find_parent(parent, b)\n",
        "    if a < b:\n",
        "        parent[b] = a\n",
        "    else:\n",
        "        parent[a] = b\n",
        "\n",
        "v, e = map(int, input().split())\n",
        "\n",
        "parent = [0] * (v + 1)\n",
        "for i in range(1, v + 1):\n",
        "    parent[i] = i\n",
        "\n",
        "cycle = False\n",
        "for i in range(e):\n",
        "    a, b = map(int, input().split())\n",
        "    if find_parent(parent, a) == find_parent(parent, b):\n",
        "        cycle = True\n",
        "        break\n",
        "    else:\n",
        "        union_parent(parent, a, b)\n",
        "\n",
        "if cycle:\n",
        "    print(\"사이클이 발생했습니다!\")\n",
        "else:\n",
        "    print(\"사이클이 발생하지 않았습니다.\")"
      ],
      "metadata": {
        "colab": {
          "base_uri": "https://localhost:8080/"
        },
        "id": "1ow19kANHvjs",
        "outputId": "0b35fcd4-08d1-4934-9f6b-f6b63dc1c1a3"
      },
      "execution_count": 15,
      "outputs": [
        {
          "output_type": "stream",
          "name": "stdout",
          "text": [
            "3 3\n",
            "1 2\n",
            "1 3\n",
            "2 3\n",
            "사이클이 발생했습니다!\n"
          ]
        }
      ]
    },
    {
      "cell_type": "markdown",
      "source": [
        "#**Kruskal algorithm**"
      ],
      "metadata": {
        "id": "O2Uq7IDMKG6B"
      }
    },
    {
      "cell_type": "code",
      "source": [
        "def find_parent(parent, x):\n",
        "    if parent[x] != x:\n",
        "        parent[x] = find_parent(parent, parent[x])\n",
        "    return parent[x]\n",
        "\n",
        "def union_parent(parent, a, b):\n",
        "    a = find_parent(parent, a)\n",
        "    b = find_parent(parent, b)\n",
        "    if a < b:\n",
        "        parent[b] = a\n",
        "    else:\n",
        "        parent[a] = b\n",
        "\n",
        "v, e = map(int, input().split())\n",
        "\n",
        "parent = [0] * (v + 1)\n",
        "for i in range(1, v + 1):\n",
        "    parent[i] = i\n",
        "\n",
        "edges = []\n",
        "for _ in range(e):\n",
        "    a, b, cost = map(int, input().split())\n",
        "    edges.append((cost, a, b))\n",
        "edges.sort()\n",
        "\n",
        "result = 0\n",
        "for edge in edges:\n",
        "    cost, a, b = edge\n",
        "    if find_parent(parent, a) != find_parent(parent, b):\n",
        "        union_parent(parent, a, b)\n",
        "        result += cost\n",
        "\n",
        "print(result)"
      ],
      "metadata": {
        "colab": {
          "base_uri": "https://localhost:8080/"
        },
        "id": "rY-tXAGyKJ9_",
        "outputId": "886200e8-b39e-4465-db31-644c98800fdc"
      },
      "execution_count": 21,
      "outputs": [
        {
          "output_type": "stream",
          "name": "stdout",
          "text": [
            "7 9\n",
            "6 7 25\n",
            "4 7 13\n",
            "1 2 29\n",
            "2 3 35\n",
            "1 5 75\n",
            "5 6 53\n",
            "4 6 23\n",
            "2 6 34\n",
            "3 4 7\n",
            "159\n"
          ]
        }
      ]
    },
    {
      "cell_type": "markdown",
      "source": [
        "#**Topology sort**"
      ],
      "metadata": {
        "id": "I9Cz35etKKUf"
      }
    },
    {
      "cell_type": "code",
      "source": [
        "from collections import deque\n",
        "\n",
        "v, e = map(int, input().split())\n",
        "indegree = [0] * (v + 1)\n",
        "graph =[[] for _ in range(v + 1)]\n",
        "\n",
        "for _ in range(e):\n",
        "    a, b = map(int, input().split())\n",
        "    graph[a].append(b)\n",
        "    indegree[b] += 1\n",
        "\n",
        "def topology_sort():\n",
        "    result = []\n",
        "    q = deque()\n",
        "\n",
        "    for i in range(1, v + 1):\n",
        "        if indegree[i] == 0:\n",
        "            q.append(i)\n",
        "    \n",
        "    while q:\n",
        "        now = q.popleft()\n",
        "        result.append(now)\n",
        "        for i in graph[now]:\n",
        "            indegree[i] -= 1\n",
        "            if indegree[i] == 0:\n",
        "                q.append(i)\n",
        "\n",
        "    for i in result:\n",
        "        print(i, end=' ')\n",
        "\n",
        "topology_sort()"
      ],
      "metadata": {
        "colab": {
          "base_uri": "https://localhost:8080/"
        },
        "id": "X_nB5G4ZKEga",
        "outputId": "4b57927b-5a15-49ca-9a32-5dbef1fa303e"
      },
      "execution_count": 22,
      "outputs": [
        {
          "output_type": "stream",
          "name": "stdout",
          "text": [
            "7 8\n",
            "1 2\n",
            "2 3\n",
            "3 4\n",
            "5 6\n",
            "6 4\n",
            "4 7\n",
            "2 6\n",
            "1 5\n",
            "1 2 5 3 6 4 7 "
          ]
        }
      ]
    }
  ]
}