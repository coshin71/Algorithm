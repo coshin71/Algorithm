{
  "nbformat": 4,
  "nbformat_minor": 0,
  "metadata": {
    "colab": {
      "name": "Basic_question.ipynb",
      "provenance": [],
      "authorship_tag": "ABX9TyNZ6SEG2a7ud5lLq0vtSW86",
      "include_colab_link": true
    },
    "kernelspec": {
      "name": "python3",
      "display_name": "Python 3"
    },
    "language_info": {
      "name": "python"
    }
  },
  "cells": [
    {
      "cell_type": "markdown",
      "metadata": {
        "id": "view-in-github",
        "colab_type": "text"
      },
      "source": [
        "<a href=\"https://colab.research.google.com/github/coshin71/Algorithm/blob/main/Basic_question.ipynb\" target=\"_parent\"><img src=\"https://colab.research.google.com/assets/colab-badge.svg\" alt=\"Open In Colab\"/></a>"
      ]
    },
    {
      "cell_type": "markdown",
      "source": [
        "#**팀 결성**"
      ],
      "metadata": {
        "id": "dmPZrCWYOgR-"
      }
    },
    {
      "cell_type": "code",
      "execution_count": 3,
      "metadata": {
        "colab": {
          "base_uri": "https://localhost:8080/"
        },
        "id": "42KkaFplOfRW",
        "outputId": "3fa7f774-bd74-4c47-c250-c533f85059dd"
      },
      "outputs": [
        {
          "output_type": "stream",
          "name": "stdout",
          "text": [
            "7 8\n",
            "0 1 3\n",
            "1 1 7\n",
            "NO\n",
            "0 7 6\n",
            "1 7 1\n",
            "NO\n",
            "0 3 7\n",
            "0 4 2\n",
            "0 1 1\n",
            "1 1 1\n",
            "YES\n"
          ]
        }
      ],
      "source": [
        "def find_parent(parent, x):\n",
        "    if parent[x] != x:\n",
        "        parent[x] = find_parent(parent, parent[x])\n",
        "    return parent[x]\n",
        "\n",
        "def union_parent(parent, a, b):\n",
        "    a = find_parent(parent, a)\n",
        "    b = find_parent(parent, b)\n",
        "    if a < b:\n",
        "        parent[b] = a\n",
        "    else:\n",
        "        parent[a] = b\n",
        "\n",
        "n, m = map(int, input().split())\n",
        "\n",
        "parent = [0] * (n + 1)\n",
        "for i in range(0, n + 1):\n",
        "    parent[i] = i\n",
        "\n",
        "for i in range(m):\n",
        "    oper, a, b = map(int, input().split())\n",
        "    if oper == 0:\n",
        "        union_parent(parent, a, b)\n",
        "    elif oper == 1:\n",
        "        if find_parent(parent, a) == find_parent(parent, b):\n",
        "            print(\"YES\")\n",
        "        else:\n",
        "            print(\"NO\")"
      ]
    },
    {
      "cell_type": "markdown",
      "source": [
        "#**도시 분할 계획**"
      ],
      "metadata": {
        "id": "84aFlg99OiJh"
      }
    },
    {
      "cell_type": "code",
      "source": [
        "def find_parent(parent, x):\n",
        "    if parent[x] != x:\n",
        "        parent[x] = find_parent(parent, parent[x])\n",
        "    return parent[x]\n",
        "\n",
        "def union_parent(parent, a, b):\n",
        "    a = find_parent(parent, a)\n",
        "    b = find_parent(parent, b)\n",
        "    if a < b:\n",
        "        parent[b] = a\n",
        "    else:\n",
        "        parent[a] = b\n",
        "\n",
        "n, m = map(int, input().split())\n",
        "\n",
        "parent = [0] * (n + 1)\n",
        "for i in range(n + 1):\n",
        "    parent[i] = i\n",
        "\n",
        "edges = []\n",
        "for _ in range(m):\n",
        "    a, b, cost = map(int, input().split())\n",
        "    edges.append((cost, a, b))\n",
        "edges.sort()\n",
        "\n",
        "result = 0\n",
        "max_cost = 0\n",
        "for edge in edges:\n",
        "    cost, a, b = edge\n",
        "    if find_parent(parent, a) != find_parent(parent, b):\n",
        "        union_parent(parent, a, b)\n",
        "        result += cost\n",
        "        max_cost = cost\n",
        "\n",
        "print(result - max_cost)"
      ],
      "metadata": {
        "colab": {
          "base_uri": "https://localhost:8080/"
        },
        "id": "uahJxbGyOkEP",
        "outputId": "b146a2f1-e0e2-46ee-ce51-17f992fcfc40"
      },
      "execution_count": 6,
      "outputs": [
        {
          "output_type": "stream",
          "name": "stdout",
          "text": [
            "7 12\n",
            "1 2 3\n",
            "1 3 2\n",
            "3 2 1\n",
            "2 5 2\n",
            "3 4 4\n",
            "7 3 6\n",
            "5 1 5\n",
            "1 6 2\n",
            "6 4 1\n",
            "6 5 3\n",
            "4 5 3\n",
            "6 7 4\n",
            "8\n"
          ]
        }
      ]
    },
    {
      "cell_type": "markdown",
      "source": [
        "#**커리큘럼**"
      ],
      "metadata": {
        "id": "-TPiF4A3OkNa"
      }
    },
    {
      "cell_type": "code",
      "source": [
        "from collections import deque\n",
        "import copy\n",
        "\n",
        "n = int(input())\n",
        "indegree = [0] * (n + 1)\n",
        "graph =[[] for _ in range(n + 1)]\n",
        "time = [0] * (n + 1)\n",
        "\n",
        "for i in range(1, n + 1):\n",
        "    data = list(map(int, input().split()))\n",
        "    time[i] = data[0]\n",
        "    for x in data[1:-1]:\n",
        "        indegree[i] += 1\n",
        "        graph[x].append(i)\n",
        "\n",
        "def topology_sort():\n",
        "    result = copy.deepcopy(time)\n",
        "    q = deque()\n",
        "\n",
        "    for i in range(1, n + 1):\n",
        "        if indegree[i] == 0:\n",
        "            q.append(i)\n",
        "    \n",
        "    while q:\n",
        "        now = q.popleft()\n",
        "        for i in graph[now]:\n",
        "            result[i] = max(result[i], result[now] + time[i])\n",
        "            indegree[i] -= 1\n",
        "            if indegree[i] == 0:\n",
        "                q.append(i)\n",
        "    \n",
        "    for i in range(1, n + 1):\n",
        "        print(result[i], end=\" \")\n",
        "\n",
        "topology_sort()"
      ],
      "metadata": {
        "colab": {
          "base_uri": "https://localhost:8080/"
        },
        "id": "QJkR_cUCOlmy",
        "outputId": "6d4a47ad-f7af-4a1d-c166-89ca9b24c9b8"
      },
      "execution_count": 12,
      "outputs": [
        {
          "output_type": "stream",
          "name": "stdout",
          "text": [
            "5\n",
            "10 -1\n",
            "10 1 -1\n",
            "4 1 -1\n",
            "4 3 1 -1\n",
            "3 3 -1\n",
            "10 20 14 18 17 "
          ]
        }
      ]
    }
  ]
}
