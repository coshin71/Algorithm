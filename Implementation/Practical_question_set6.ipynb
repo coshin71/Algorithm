{
  "nbformat": 4,
  "nbformat_minor": 0,
  "metadata": {
    "colab": {
      "name": "Practical_question_set6.ipynb",
      "provenance": [],
      "collapsed_sections": [],
      "authorship_tag": "ABX9TyNZur5yPYGN03rzbNcXSOkB",
      "include_colab_link": true
    },
    "kernelspec": {
      "name": "python3",
      "display_name": "Python 3"
    },
    "language_info": {
      "name": "python"
    }
  },
  "cells": [
    {
      "cell_type": "markdown",
      "metadata": {
        "id": "view-in-github",
        "colab_type": "text"
      },
      "source": [
        "<a href=\"https://colab.research.google.com/github/coshin71/Algorithm/blob/main/Practical_question_set6.ipynb\" target=\"_parent\"><img src=\"https://colab.research.google.com/assets/colab-badge.svg\" alt=\"Open In Colab\"/></a>"
      ]
    },
    {
      "cell_type": "markdown",
      "source": [
        "#**외벽 점검**"
      ],
      "metadata": {
        "id": "fgbY6iLNUgn4"
      }
    },
    {
      "cell_type": "code",
      "source": [
        "from itertools import permutations\n",
        "\n",
        "n = int(input())\n",
        "weak = list(map(int, input().split()))\n",
        "dist = list(map(int, input().split()))\n",
        "\n",
        "def solution(n, weak, dist):\n",
        "    length = len(weak)\n",
        "    for i in range(length):\n",
        "        weak.append(weak[i] + n)\n",
        "    answer = len(dist) + 1\n",
        "    for start in range(length):\n",
        "        for friends in list(permutations(dist, len(dist))):\n",
        "            count = 1\n",
        "            position = weak[start] + friends[count - 1]\n",
        "            for index in range(start, start + length):\n",
        "                if position < weak[index]:\n",
        "                    count += 1\n",
        "                    if count > len(dist):\n",
        "                        break\n",
        "                    position = weak[index] + friends[count - 1]\n",
        "            answer = min(answer, count)\n",
        "    if answer > len(dist):\n",
        "        return -1\n",
        "    return answer\n",
        "\n",
        "solution(n, weak, dist)"
      ],
      "metadata": {
        "id": "hM19jc1UUhw0",
        "colab": {
          "base_uri": "https://localhost:8080/"
        },
        "outputId": "fbf5d7c9-fd2d-4163-cf07-1aacf346978f"
      },
      "execution_count": 2,
      "outputs": [
        {
          "name": "stdout",
          "output_type": "stream",
          "text": [
            "12\n",
            "1 3 4 9 10\n",
            "3 5 7\n"
          ]
        },
        {
          "output_type": "execute_result",
          "data": {
            "text/plain": [
              "1"
            ]
          },
          "metadata": {},
          "execution_count": 2
        }
      ]
    }
  ]
}
