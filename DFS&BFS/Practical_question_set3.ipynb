{
  "nbformat": 4,
  "nbformat_minor": 0,
  "metadata": {
    "colab": {
      "name": "Practical_question_set3.ipynb",
      "provenance": [],
      "collapsed_sections": [],
      "authorship_tag": "ABX9TyMbyHpVboMfDQhuaxE3h92S",
      "include_colab_link": true
    },
    "kernelspec": {
      "name": "python3",
      "display_name": "Python 3"
    },
    "language_info": {
      "name": "python"
    }
  },
  "cells": [
    {
      "cell_type": "markdown",
      "metadata": {
        "id": "view-in-github",
        "colab_type": "text"
      },
      "source": [
        "<a href=\"https://colab.research.google.com/github/coshin71/Algorithm/blob/main/Practical_question_set3.ipynb\" target=\"_parent\"><img src=\"https://colab.research.google.com/assets/colab-badge.svg\" alt=\"Open In Colab\"/></a>"
      ]
    },
    {
      "cell_type": "markdown",
      "source": [
        "#**괄호 변환**"
      ],
      "metadata": {
        "id": "UB48syrc-BtW"
      }
    },
    {
      "cell_type": "code",
      "execution_count": 19,
      "metadata": {
        "colab": {
          "base_uri": "https://localhost:8080/",
          "height": 54
        },
        "id": "-oZqCfhy4e9-",
        "outputId": "7736fe30-ef86-4a19-f3df-49f7bbde7a87"
      },
      "outputs": [
        {
          "name": "stdout",
          "output_type": "stream",
          "text": [
            "()))((()\n"
          ]
        },
        {
          "output_type": "execute_result",
          "data": {
            "text/plain": [
              "'()(())()'"
            ],
            "application/vnd.google.colaboratory.intrinsic+json": {
              "type": "string"
            }
          },
          "metadata": {},
          "execution_count": 19
        }
      ],
      "source": [
        "p = input()\n",
        "\n",
        "def check_right_string(u):\n",
        "    count = 0\n",
        "    for c in u:\n",
        "        if c == '(':\n",
        "            count += 1\n",
        "        elif c == ')':\n",
        "            count -= 1\n",
        "        if count < 0:\n",
        "            return False\n",
        "    return True\n",
        "\n",
        "def solution(w):\n",
        "    if w == \"\":\n",
        "        return \"\"\n",
        "\n",
        "    count = 1\n",
        "    index = 0\n",
        "    start = w[0]\n",
        "    for i in range(1, len(w)):\n",
        "        if start == w[i]:\n",
        "            count += 1\n",
        "        else:\n",
        "            count -= 1\n",
        "        if count == 0:\n",
        "            u = w[:i + 1]        \n",
        "            v = w[i + 1:]\n",
        "            break\n",
        "    \n",
        "    if check_right_string(u):\n",
        "        return u + solution(v)\n",
        "    else: \n",
        "        s = \"(\"\n",
        "        s = s + solution(v) + \")\"\n",
        "        u = u[1:-1]\n",
        "        new_u = \"\"\n",
        "        for i in range(len(u)):\n",
        "            if u[i] == '(':\n",
        "                new_u += ')'\n",
        "            else:\n",
        "                new_u += '('\n",
        "        s += new_u\n",
        "        return s\n",
        "\n",
        "solution(p)"
      ]
    }
  ]
}
