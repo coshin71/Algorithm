{
  "nbformat": 4,
  "nbformat_minor": 0,
  "metadata": {
    "colab": {
      "name": "Practical_question_set1.ipynb",
      "provenance": [],
      "authorship_tag": "ABX9TyP6BpR+96bj8TLoabCMITtp",
      "include_colab_link": true
    },
    "kernelspec": {
      "name": "python3",
      "display_name": "Python 3"
    },
    "language_info": {
      "name": "python"
    }
  },
  "cells": [
    {
      "cell_type": "markdown",
      "metadata": {
        "id": "view-in-github",
        "colab_type": "text"
      },
      "source": [
        "<a href=\"https://colab.research.google.com/github/coshin71/Algorithm/blob/main/Practical_question_set1.ipynb\" target=\"_parent\"><img src=\"https://colab.research.google.com/assets/colab-badge.svg\" alt=\"Open In Colab\"/></a>"
      ]
    },
    {
      "cell_type": "markdown",
      "source": [
        "#**여행 계획**"
      ],
      "metadata": {
        "id": "O3EjMvFCZfo1"
      }
    },
    {
      "cell_type": "code",
      "execution_count": null,
      "metadata": {
        "colab": {
          "base_uri": "https://localhost:8080/"
        },
        "id": "RRvg3n_MZJMq",
        "outputId": "a37ee2e0-f564-4d25-a90a-d92df55bf92e"
      },
      "outputs": [
        {
          "output_type": "stream",
          "name": "stdout",
          "text": [
            "5 4\n",
            "0 1 0 1 1\n",
            "1 0 1 1 0\n",
            "0 1 0 0 0\n",
            "1 1 0 0 0\n",
            "1 0 0 0 0\n",
            "2 3 4 3\n",
            "YES\n"
          ]
        }
      ],
      "source": [
        "def find_parent(parent, x):\n",
        "    if parent[x] != x:\n",
        "        parent[x] = find_parent(parent, parent[x])\n",
        "    return parent[x]\n",
        "\n",
        "def union_parent(parent, a, b):\n",
        "    a = find_parent(parent, a)\n",
        "    b = find_parent(parent, b)\n",
        "    if a < b:\n",
        "        parent[b] = a\n",
        "    else:\n",
        "        parent[a] = b\n",
        "\n",
        "n, m = map(int, input().split())\n",
        "\n",
        "parent = [0] * (n + 1)\n",
        "for i in range(1, n + 1):\n",
        "    parent[i] = i\n",
        "\n",
        "for i in range(n):\n",
        "    data = list(map(int, input().split()))\n",
        "    for j in range(n):\n",
        "        if data[j] == 1:\n",
        "            union_parent(parent, i + 1, j + 1)\n",
        "\n",
        "plan = list(map(int, input().split()))\n",
        "\n",
        "result = True\n",
        "for i in range(m - 1):\n",
        "    if find_parent(parent, plan[i]) != find_parent(parent, plan[i + 1]):\n",
        "        result = False\n",
        "\n",
        "if result:\n",
        "    print(\"YES\")\n",
        "else:\n",
        "    print(\"NO\")"
      ]
    },
    {
      "cell_type": "markdown",
      "source": [
        "#**탑승구**"
      ],
      "metadata": {
        "id": "bwk2QrI8lWHw"
      }
    },
    {
      "cell_type": "code",
      "source": [
        "def find_parent(parent, x):\n",
        "    if parent[x] != x:\n",
        "        parent[x] = find_parent(parent, parent[x])\n",
        "    return parent[x]\n",
        "\n",
        "def union_parent(parent, a, b):\n",
        "    a = find_parent(parent, a)\n",
        "    b = find_parent(parent, b)\n",
        "    if a < b:\n",
        "        parent[b] = a\n",
        "    else:\n",
        "        parent[a] = b\n",
        "\n",
        "G = int(input())\n",
        "P = int(input())\n",
        "\n",
        "parent = [0] * (G + 1)\n",
        "for i in range(1, G + 1):\n",
        "    parent[i] = i\n",
        "\n",
        "result = 0\n",
        "for _ in range(P):\n",
        "    data = find_parent(parent, int(input()))\n",
        "    if data == 0:\n",
        "        break\n",
        "    union_parent(parent, data, data - 1)\n",
        "    result += 1\n",
        "\n",
        "print(result)"
      ],
      "metadata": {
        "id": "nxHhEhYbiuVG",
        "colab": {
          "base_uri": "https://localhost:8080/"
        },
        "outputId": "fc0b7882-164d-4433-9141-e5abf4a1acb0"
      },
      "execution_count": 2,
      "outputs": [
        {
          "output_type": "stream",
          "name": "stdout",
          "text": [
            "5\n",
            "4\n",
            "1\n",
            "2\n",
            "5\n",
            "1\n",
            "3\n"
          ]
        }
      ]
    }
  ]
}