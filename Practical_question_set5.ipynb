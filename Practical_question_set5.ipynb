{
  "nbformat": 4,
  "nbformat_minor": 0,
  "metadata": {
    "colab": {
      "name": "Practical_question_set5.ipynb",
      "provenance": [],
      "authorship_tag": "ABX9TyNcnuv7PJ2Lw8zpd7QChufM",
      "include_colab_link": true
    },
    "kernelspec": {
      "name": "python3",
      "display_name": "Python 3"
    },
    "language_info": {
      "name": "python"
    }
  },
  "cells": [
    {
      "cell_type": "markdown",
      "metadata": {
        "id": "view-in-github",
        "colab_type": "text"
      },
      "source": [
        "<a href=\"https://colab.research.google.com/github/coshin71/Algorithm/blob/main/Practical_question_set5.ipynb\" target=\"_parent\"><img src=\"https://colab.research.google.com/assets/colab-badge.svg\" alt=\"Open In Colab\"/></a>"
      ]
    },
    {
      "cell_type": "markdown",
      "source": [
        "#**인구 이동**"
      ],
      "metadata": {
        "id": "ZfkQF5aImIvZ"
      }
    },
    {
      "cell_type": "code",
      "execution_count": null,
      "metadata": {
        "colab": {
          "base_uri": "https://localhost:8080/"
        },
        "id": "Bzq1cd7RmCq6",
        "outputId": "df61b1c2-81b3-44f3-aa52-5640f5c6de44"
      },
      "outputs": [
        {
          "output_type": "stream",
          "name": "stdout",
          "text": [
            "3 5 10\n",
            "10 15 20\n",
            "20 30 25\n",
            "40 22 10\n",
            "2\n"
          ]
        }
      ],
      "source": [
        "from collections import deque\n",
        "\n",
        "n, l, r = map(int, input().split())\n",
        "\n",
        "graph = []\n",
        "for _ in range(n):\n",
        "    graph.append(list(map(int, input().split())))\n",
        "\n",
        "dx = [-1, 0, 1, 0]\n",
        "dy = [0, -1, 0, 1]\n",
        "\n",
        "def process(x, y, index):\n",
        "    united = []\n",
        "    united.append((x, y))\n",
        "    q = deque()\n",
        "    q.append((x, y))\n",
        "    union[x][y] = index\n",
        "    summary = graph[x][y]\n",
        "    count = 1\n",
        "    while q:\n",
        "        x, y = q.popleft()\n",
        "        for i in range(4):\n",
        "            nx = x + dx[i]\n",
        "            ny = y + dy[i]\n",
        "            if 0 <= nx < n and 0 <= ny < n and union[nx][ny] == -1:\n",
        "                if l <= abs(graph[nx][ny] - graph[x][y]) <= r:\n",
        "                    q.append((nx, ny))\n",
        "                    union[nx][ny] = index\n",
        "                    summary += graph[nx][ny]\n",
        "                    count += 1\n",
        "                    united.append((nx, ny))\n",
        "    for i, j in united:\n",
        "        graph[i][j] = summary // count\n",
        "\n",
        "total_count = 0\n",
        "\n",
        "while True:\n",
        "    union = [[-1] * n for _ in range(n)]\n",
        "    index = 0\n",
        "    for i in range(n):\n",
        "        for j in range(n):\n",
        "            if union[i][j] == -1:\n",
        "                process(i, j, index)\n",
        "                index += 1\n",
        "    if index == n * n:\n",
        "        break\n",
        "    total_count += 1\n",
        "\n",
        "print(total_count)"
      ]
    },
    {
      "cell_type": "markdown",
      "source": [
        "#**블록 이동하기**"
      ],
      "metadata": {
        "id": "zTSi8p30zec2"
      }
    },
    {
      "cell_type": "code",
      "source": [
        "from collections import deque\n",
        "\n",
        "def get_next_pos(pos, board):\n",
        "    next_pos = []\n",
        "    pos = list(pos)\n",
        "    pos1_x, pos1_y, pos2_x, pos2_y = pos[0][0], pos[0][1], pos[1][0], pos[1][1]\n",
        "    dx = [-1, 1, 0, 0]\n",
        "    dy = [0, 0, -1, 1]\n",
        "    for i in range(4):\n",
        "        pos1_next_x, pos1_next_y, pos2_next_x, pos2_next_y = pos1_x + dx[i], pos1_y + dy[i], pos2_x + dx[i], pos2_y + dy[i]\n",
        "        if board[pos1_next_x][pos1_next_y] == 0 and board[pos2_next_x][pos2_next_y] == 0:\n",
        "            next_pos.append({(pos1_next_x, pos1_next_y), (pos2_next_x, pos2_next_y)})\n",
        "    if pos1_x == pos2_x:\n",
        "        for i in [-1, 1]:\n",
        "            if board[pos1_x + i][pos1_y] == 0 and board[pos2_x + i][pos2_y] == 0:\n",
        "                next_pos.append({(pos1_x, pos1_y), (pos1_x + i, pos1_y)})\n",
        "                next_pos.append({(pos2_x, pos2_y), (pos2_x + i, pos2_y)})\n",
        "    elif pos1_y == pos2_y:\n",
        "        for i in [-1, 1]:\n",
        "            if board[pos1_x][pos1_y + i] == 0 and board[pos2_x][pos2_y + i] == 0:\n",
        "                next_pos.append({(pos1_x, pos1_y), (pos1_x, pos1_y + i)})\n",
        "                next_pos.append({(pos2_x, pos2_y), (pos2_x, pos2_y + i)})\n",
        "    return next_pos\n",
        "\n",
        "n = int(input())\n",
        "board = []\n",
        "for _ in range(n):\n",
        "    board.append(list(map(int, input().split())))\n",
        "\n",
        "def solution(board):\n",
        "    n = len(board)\n",
        "    new_board = [[1] * (n + 2) for _ in range(n + 2)]\n",
        "    for i in range(n):\n",
        "        for j in range(n):\n",
        "            new_board[i + 1][j + 1] = board[i][j]\n",
        "    q = deque()\n",
        "    visited = []\n",
        "    pos = {(1, 1), (1, 2)}\n",
        "    q.append((pos, 0))\n",
        "    visited.append(pos)\n",
        "    while q:\n",
        "        pos, cost = q.popleft()\n",
        "        if (n, n) in pos:\n",
        "            return cost\n",
        "        for next_pos in get_next_pos(pos, new_board):\n",
        "            if next_pos not in visited:\n",
        "                q.append((next_pos, cost + 1))\n",
        "                visited.append(next_pos)\n",
        "    \n",
        "print(solution(board))"
      ],
      "metadata": {
        "id": "qqbBYEwpzfwA",
        "colab": {
          "base_uri": "https://localhost:8080/"
        },
        "outputId": "e41ddbac-192c-47d9-edce-00347dcc8456"
      },
      "execution_count": 23,
      "outputs": [
        {
          "output_type": "stream",
          "name": "stdout",
          "text": [
            "5\n",
            "0 0 0 1 1\n",
            "0 0 0 1 0\n",
            "0 1 0 1 1\n",
            "1 1 0 0 1\n",
            "0 0 0 0 0\n",
            "7\n"
          ]
        }
      ]
    }
  ]
}