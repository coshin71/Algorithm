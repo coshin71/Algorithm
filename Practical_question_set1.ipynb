{
  "nbformat": 4,
  "nbformat_minor": 0,
  "metadata": {
    "colab": {
      "name": "Practical_question_set1.ipynb",
      "provenance": [],
      "collapsed_sections": [],
      "authorship_tag": "ABX9TyNZaKqMZXhk0yPMoWq07GI6",
      "include_colab_link": true
    },
    "kernelspec": {
      "name": "python3",
      "display_name": "Python 3"
    },
    "language_info": {
      "name": "python"
    }
  },
  "cells": [
    {
      "cell_type": "markdown",
      "metadata": {
        "id": "view-in-github",
        "colab_type": "text"
      },
      "source": [
        "<a href=\"https://colab.research.google.com/github/coshin71/Algorithm/blob/main/Practical_question_set1.ipynb\" target=\"_parent\"><img src=\"https://colab.research.google.com/assets/colab-badge.svg\" alt=\"Open In Colab\"/></a>"
      ]
    },
    {
      "cell_type": "markdown",
      "source": [
        "#**럭키 스트레이트**"
      ],
      "metadata": {
        "id": "STzGADSVUKCZ"
      }
    },
    {
      "cell_type": "code",
      "execution_count": 1,
      "metadata": {
        "id": "V0ZN1ublUHHO",
        "colab": {
          "base_uri": "https://localhost:8080/"
        },
        "outputId": "895cc12d-8228-4c2b-f6f8-e801378bdcfe"
      },
      "outputs": [
        {
          "output_type": "stream",
          "name": "stdout",
          "text": [
            "7755\n",
            "READY\n"
          ]
        }
      ],
      "source": [
        "n = list(map(int, input()))\n",
        "\n",
        "total = 0\n",
        "mid = len(n) // 2\n",
        "for i in range(mid):\n",
        "    total += n[i]\n",
        "    total -= n[i + mid]\n",
        "\n",
        "if total == 0:\n",
        "    print(\"LUCKY\")\n",
        "else:\n",
        "    print(\"READY\")"
      ]
    },
    {
      "cell_type": "markdown",
      "source": [
        "#**문자열 재정렬**"
      ],
      "metadata": {
        "id": "VzX71xr0UNYS"
      }
    },
    {
      "cell_type": "code",
      "source": [
        "s = input()\n",
        "\n",
        "alpha_list = []\n",
        "total = 0\n",
        "for c in s:\n",
        "    if c.isalpha():\n",
        "        alpha_list.append(c)\n",
        "    else:\n",
        "        total += int(c)\n",
        "\n",
        "alpha_list.sort()\n",
        "result = \"\".join(alpha_list) + str(total)\n",
        "\n",
        "print(result)"
      ],
      "metadata": {
        "id": "6aoxZ34gUNnb",
        "colab": {
          "base_uri": "https://localhost:8080/"
        },
        "outputId": "b6790bb2-3bc0-4a11-9d07-efff52a45b77"
      },
      "execution_count": 9,
      "outputs": [
        {
          "output_type": "stream",
          "name": "stdout",
          "text": [
            "AJKDLSI412K4JSJ9D\n",
            "ADDIJJJKKLSS20\n"
          ]
        }
      ]
    }
  ]
}