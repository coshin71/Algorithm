{
  "nbformat": 4,
  "nbformat_minor": 0,
  "metadata": {
    "colab": {
      "name": "Practical_question_set2.ipynb",
      "provenance": [],
      "authorship_tag": "ABX9TyN50BZN/yCT2+PdNRo1MGlq",
      "include_colab_link": true
    },
    "kernelspec": {
      "name": "python3",
      "display_name": "Python 3"
    },
    "language_info": {
      "name": "python"
    }
  },
  "cells": [
    {
      "cell_type": "markdown",
      "metadata": {
        "id": "view-in-github",
        "colab_type": "text"
      },
      "source": [
        "<a href=\"https://colab.research.google.com/github/coshin71/Algorithm/blob/main/Practical_question_set2.ipynb\" target=\"_parent\"><img src=\"https://colab.research.google.com/assets/colab-badge.svg\" alt=\"Open In Colab\"/></a>"
      ]
    },
    {
      "cell_type": "markdown",
      "source": [
        "#**퇴사**"
      ],
      "metadata": {
        "id": "VN2kXdcE9jqp"
      }
    },
    {
      "cell_type": "code",
      "source": [
        "n = int(input())\n",
        "\n",
        "schedule = [[]]\n",
        "for _ in range(n):\n",
        "    schedule.append(list(map(int, input().split())))\n",
        "\n",
        "max_value = 0\n",
        "d = [0] * (n + 1)\n",
        "for i in range(n, 0, -1):\n",
        "    time = i + schedule[i][0]\n",
        "    if time <= n + 1:\n",
        "        d[i] = max(d[time] + schedule[i][1], max_value)\n",
        "        max_value = d[i]\n",
        "    else:\n",
        "        d[i] = max_value\n",
        "print(max(d))"
      ],
      "metadata": {
        "colab": {
          "base_uri": "https://localhost:8080/"
        },
        "id": "-funrvpQ9k_7",
        "outputId": "467fe842-0421-479a-c888-94fd3cf87871"
      },
      "execution_count": 16,
      "outputs": [
        {
          "output_type": "stream",
          "name": "stdout",
          "text": [
            "7\n",
            "3 10\n",
            "5 20\n",
            "1 10\n",
            "1 20\n",
            "2 15\n",
            "4 40\n",
            "2 200\n",
            "45\n"
          ]
        }
      ]
    },
    {
      "cell_type": "markdown",
      "source": [
        "#**병사 배치하기**"
      ],
      "metadata": {
        "id": "sZaH-sHtJltx"
      }
    },
    {
      "cell_type": "code",
      "execution_count": 21,
      "metadata": {
        "colab": {
          "base_uri": "https://localhost:8080/"
        },
        "id": "BFf8hoWf9gTf",
        "outputId": "f3dd980c-1d43-4856-f05e-261d30b537ce"
      },
      "outputs": [
        {
          "output_type": "stream",
          "name": "stdout",
          "text": [
            "7\n",
            "15 11 4 8 5 2 4\n",
            "2\n"
          ]
        }
      ],
      "source": [
        "n = int(input())\n",
        "array = list(map(int, input().split()))\n",
        "array.reverse()\n",
        "\n",
        "d = [1] * n\n",
        "for i in range(1, n):\n",
        "    for j in range(0, i):\n",
        "        if array[j] < array[i]:\n",
        "            d[i] = max(d[i], d[j] + 1)\n",
        "\n",
        "print(n - max(d))"
      ]
    }
  ]
}
