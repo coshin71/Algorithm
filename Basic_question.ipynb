{
  "nbformat": 4,
  "nbformat_minor": 0,
  "metadata": {
    "colab": {
      "name": "Basic_question.ipynb",
      "provenance": [],
      "authorship_tag": "ABX9TyNdRNa7vYLyROEFcoU6uv+u",
      "include_colab_link": true
    },
    "kernelspec": {
      "name": "python3",
      "display_name": "Python 3"
    },
    "language_info": {
      "name": "python"
    }
  },
  "cells": [
    {
      "cell_type": "markdown",
      "metadata": {
        "id": "view-in-github",
        "colab_type": "text"
      },
      "source": [
        "<a href=\"https://colab.research.google.com/github/coshin71/Algorithm/blob/main/Basic_question.ipynb\" target=\"_parent\"><img src=\"https://colab.research.google.com/assets/colab-badge.svg\" alt=\"Open In Colab\"/></a>"
      ]
    },
    {
      "cell_type": "markdown",
      "source": [
        "#**부품 찾기**"
      ],
      "metadata": {
        "id": "ICsKnnyUESKJ"
      }
    },
    {
      "cell_type": "code",
      "execution_count": 3,
      "metadata": {
        "id": "22szKX-qEQuu",
        "colab": {
          "base_uri": "https://localhost:8080/"
        },
        "outputId": "c0db8fc1-ae52-4a77-e3f6-36d781d70f0c"
      },
      "outputs": [
        {
          "output_type": "stream",
          "name": "stdout",
          "text": [
            "5\n",
            "8 3 7 9 2\n",
            "3\n",
            "5 7 9\n",
            "no yes yes "
          ]
        }
      ],
      "source": [
        "def binary_search(array, target, start, end):\n",
        "    while start <= end:\n",
        "        mid = (start + end) // 2\n",
        "        if array[mid] == target:\n",
        "            return mid\n",
        "        elif array[mid] > target:\n",
        "            end = mid - 1\n",
        "        else:\n",
        "            start = mid + 1\n",
        "    return None\n",
        "\n",
        "n = int(input())\n",
        "array = list(map(int, input().split()))\n",
        "\n",
        "m = int(input())\n",
        "items = list(map(int, input().split()))\n",
        "\n",
        "for item in items:\n",
        "    result = binary_search(array, item, 0, n - 1)\n",
        "    if result != None:\n",
        "        print(\"yes\", end=' ')\n",
        "    else:\n",
        "        print(\"no\", end=' ')"
      ]
    },
    {
      "cell_type": "code",
      "source": [
        "n = int(input())\n",
        "array = list(map(int, input().split()))\n",
        "\n",
        "m = int(input())\n",
        "items = list(map(int, input().split()))\n",
        "\n",
        "for item in items:\n",
        "    if item in array:\n",
        "        print(\"yes\", end=' ')\n",
        "    else:\n",
        "        print(\"no\", end=' ')"
      ],
      "metadata": {
        "colab": {
          "base_uri": "https://localhost:8080/"
        },
        "id": "9euC2jiC39_h",
        "outputId": "6624512b-c662-4242-8ca0-a0275c92cd60"
      },
      "execution_count": 4,
      "outputs": [
        {
          "output_type": "stream",
          "name": "stdout",
          "text": [
            "5\n",
            "8 3 7 9 2\n",
            "3\n",
            "5 7 9\n",
            "no yes yes "
          ]
        }
      ]
    },
    {
      "cell_type": "markdown",
      "source": [
        "#**떡볶이 떡 만들기**"
      ],
      "metadata": {
        "id": "ngjpATg0EWmS"
      }
    },
    {
      "cell_type": "code",
      "source": [
        "n, m = map(int, input().split())\n",
        "array = list(map(int, input().split()))\n",
        "\n",
        "start = 0\n",
        "end = max(array)\n",
        "\n",
        "result = 0\n",
        "while start <= end:\n",
        "    total = 0\n",
        "    mid = (start + end) // 2\n",
        "    for x in array:\n",
        "        if x > mid:\n",
        "            total += x - mid\n",
        "    if total < m:\n",
        "        end = mid - 1\n",
        "    else:\n",
        "        result = mid\n",
        "        start = mid + 1\n",
        "\n",
        "print(result)"
      ],
      "metadata": {
        "id": "eCgFtEKUEarh",
        "colab": {
          "base_uri": "https://localhost:8080/"
        },
        "outputId": "6889bacb-82d4-4b69-b9c5-b89b26faafcf"
      },
      "execution_count": 6,
      "outputs": [
        {
          "output_type": "stream",
          "name": "stdout",
          "text": [
            "4 6 \n",
            "19 15 10 17\n",
            "15\n"
          ]
        }
      ]
    }
  ]
}