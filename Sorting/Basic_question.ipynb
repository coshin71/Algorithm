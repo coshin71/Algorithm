{
  "nbformat": 4,
  "nbformat_minor": 0,
  "metadata": {
    "colab": {
      "name": "Basic_question.ipynb",
      "provenance": [],
      "collapsed_sections": [],
      "authorship_tag": "ABX9TyODNWt8nhDdtjTVyhA7hfGo",
      "include_colab_link": true
    },
    "kernelspec": {
      "name": "python3",
      "display_name": "Python 3"
    },
    "language_info": {
      "name": "python"
    }
  },
  "cells": [
    {
      "cell_type": "markdown",
      "metadata": {
        "id": "view-in-github",
        "colab_type": "text"
      },
      "source": [
        "<a href=\"https://colab.research.google.com/github/coshin71/Algorithm/blob/main/Basic_question.ipynb\" target=\"_parent\"><img src=\"https://colab.research.google.com/assets/colab-badge.svg\" alt=\"Open In Colab\"/></a>"
      ]
    },
    {
      "cell_type": "markdown",
      "source": [
        "#**위에서 아래로**"
      ],
      "metadata": {
        "id": "C1hrw4hqzZA8"
      }
    },
    {
      "cell_type": "code",
      "execution_count": 22,
      "metadata": {
        "colab": {
          "base_uri": "https://localhost:8080/"
        },
        "id": "D6OyuK9szVAl",
        "outputId": "f0f97627-39ea-44a0-c7bc-7af43265c983"
      },
      "outputs": [
        {
          "output_type": "stream",
          "name": "stdout",
          "text": [
            "3\n",
            "15\n",
            "27\n",
            "12\n",
            "27 15 12 "
          ]
        }
      ],
      "source": [
        "n = int(input())\n",
        "\n",
        "array = []\n",
        "for i in range(n):\n",
        "    array.append(int(input()))\n",
        "\n",
        "array.sort(reverse=True)\n",
        "\n",
        "for num in array:\n",
        "    print(num, end=' ')"
      ]
    },
    {
      "cell_type": "markdown",
      "source": [
        "#**성적이 낮은 순서로 학생 출력하기**"
      ],
      "metadata": {
        "id": "WRAIaXCHzb7A"
      }
    },
    {
      "cell_type": "code",
      "source": [
        "n = int(input())\n",
        "\n",
        "array = []\n",
        "for i in range(n):\n",
        "    data = input().split()\n",
        "    array.append((data[0], int(data[1])))\n",
        "\n",
        "array.sort(key=lambda x:x[1])\n",
        "\n",
        "for student in array:\n",
        "    print(student[0], end=' ')"
      ],
      "metadata": {
        "colab": {
          "base_uri": "https://localhost:8080/"
        },
        "id": "pTGwKp4bzfJl",
        "outputId": "042f722d-d1f2-45b0-bcea-d6a0da6e5b79"
      },
      "execution_count": 23,
      "outputs": [
        {
          "output_type": "stream",
          "name": "stdout",
          "text": [
            "3\n",
            "이재호 97\n",
            "최운용 98\n",
            "김지후 99\n",
            "이재호 최운용 김지후 "
          ]
        }
      ]
    },
    {
      "cell_type": "markdown",
      "source": [
        "#**두 배열의 원소 교체**"
      ],
      "metadata": {
        "id": "7LX9NiRizfUd"
      }
    },
    {
      "cell_type": "code",
      "source": [
        "n, k = map(int, input().split())\n",
        "a = list(map(int, input().split()))\n",
        "b = list(map(int, input().split()))\n",
        "\n",
        "a.sort()\n",
        "b.sort(reverse=True)\n",
        "\n",
        "for i in range(k):\n",
        "    if a[i] < b[i]:\n",
        "        a[i], b[i] = b[i], a[i]\n",
        "    else:\n",
        "        break\n",
        "\n",
        "print(sum(a))"
      ],
      "metadata": {
        "colab": {
          "base_uri": "https://localhost:8080/"
        },
        "id": "SWCPoqUHzhbB",
        "outputId": "5295760f-244d-4140-8486-53a3cc7e5f5d"
      },
      "execution_count": 24,
      "outputs": [
        {
          "output_type": "stream",
          "name": "stdout",
          "text": [
            "5 3\n",
            "1 2 5 4 3\n",
            "5 5 6 6 5\n",
            "26\n"
          ]
        }
      ]
    }
  ]
}
