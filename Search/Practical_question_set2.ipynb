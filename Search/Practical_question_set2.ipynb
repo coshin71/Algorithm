{
  "nbformat": 4,
  "nbformat_minor": 0,
  "metadata": {
    "colab": {
      "name": "Practical_question_set2.ipynb",
      "provenance": [],
      "collapsed_sections": [],
      "authorship_tag": "ABX9TyOdNnAc9W8ADobF5A85hik0",
      "include_colab_link": true
    },
    "kernelspec": {
      "name": "python3",
      "display_name": "Python 3"
    },
    "language_info": {
      "name": "python"
    }
  },
  "cells": [
    {
      "cell_type": "markdown",
      "metadata": {
        "id": "view-in-github",
        "colab_type": "text"
      },
      "source": [
        "<a href=\"https://colab.research.google.com/github/coshin71/Algorithm/blob/main/Practical_question_set2.ipynb\" target=\"_parent\"><img src=\"https://colab.research.google.com/assets/colab-badge.svg\" alt=\"Open In Colab\"/></a>"
      ]
    },
    {
      "cell_type": "markdown",
      "source": [
        "#**가사 검색**"
      ],
      "metadata": {
        "id": "hqiZQW5rteE8"
      }
    },
    {
      "cell_type": "code",
      "execution_count": 12,
      "metadata": {
        "colab": {
          "base_uri": "https://localhost:8080/"
        },
        "id": "rEN8VTeWs56G",
        "outputId": "dfc0a448-7b3a-406e-8043-09bd300d5455"
      },
      "outputs": [
        {
          "name": "stdout",
          "output_type": "stream",
          "text": [
            "frodo front frost frozen frame kakao\n",
            "fro?? ????o fr??? fro??? pro?\n"
          ]
        },
        {
          "output_type": "execute_result",
          "data": {
            "text/plain": [
              "[3, 2, 4, 1, 0]"
            ]
          },
          "metadata": {},
          "execution_count": 12
        }
      ],
      "source": [
        "words = list(input().split())\n",
        "queries = list(input().split())\n",
        "\n",
        "def solution(words, queries):\n",
        "    results = []\n",
        "    for query in queries:\n",
        "        length = len(query)\n",
        "        cnt = query.count(\"?\")\n",
        "        check = -1\n",
        "        result = 0\n",
        "        if query.startswith(\"?\"):\n",
        "            query = query[cnt:]\n",
        "            check = 0\n",
        "        else:\n",
        "            query = query[:length - cnt]\n",
        "            check = 1\n",
        "        for word in words:\n",
        "            if check == 0:\n",
        "                if len(word) == length and word.endswith(query):\n",
        "                    result += 1\n",
        "            elif check == 1:\n",
        "                if len(word) == length and word.startswith(query):\n",
        "                    result += 1\n",
        "        results.append(result)\n",
        "    return results\n",
        "\n",
        "solution(words, queries)"
      ]
    },
    {
      "cell_type": "code",
      "source": [
        "from bisect import bisect_left, bisect_right\n",
        "\n",
        "def count_by_range(a, left_value, right_value):\n",
        "    right_index = bisect_right(a, right_value)\n",
        "    left_index = bisect_left(a, left_value)\n",
        "\n",
        "    return right_index - left_index\n",
        "\n",
        "words = list(input().split())\n",
        "queries = list(input().split())\n",
        "\n",
        "array = [[] for _ in range(10001)]\n",
        "reversed_array = [[] for _ in range(10001)]\n",
        "\n",
        "def solution(words, queries):\n",
        "    answer = []\n",
        "    for word in words:\n",
        "        array[len(word)].append(word)\n",
        "        reversed_array[len(word)].append(word[::-1])\n",
        "\n",
        "    for i in range(10001):\n",
        "        array[i].sort()\n",
        "        reversed_array[i].sort()\n",
        "    \n",
        "    for q in queries:\n",
        "        if q[0] != \"?\":\n",
        "            result = count_by_range(array[len(q)], q.replace(\"?\", \"a\"), q.replace(\"?\", \"z\"))\n",
        "        else:\n",
        "            result = count_by_range(reversed_array[len(q)], q[::-1].replace(\"?\", \"a\"), q[::-1].replace(\"?\", \"z\"))\n",
        "        answer.append(result)\n",
        "    return answer\n",
        "\n",
        "solution(words, queries)"
      ],
      "metadata": {
        "colab": {
          "base_uri": "https://localhost:8080/"
        },
        "id": "sQ5FslcxuhPZ",
        "outputId": "c4d53e7d-c773-4a7f-e10a-44ccca6b77c1"
      },
      "execution_count": 15,
      "outputs": [
        {
          "name": "stdout",
          "output_type": "stream",
          "text": [
            "frodo front frost frozen frame kakao\n",
            "fro?? ????o fr??? fro??? pro?\n"
          ]
        },
        {
          "output_type": "execute_result",
          "data": {
            "text/plain": [
              "[3, 2, 4, 1, 0]"
            ]
          },
          "metadata": {},
          "execution_count": 15
        }
      ]
    }
  ]
}
