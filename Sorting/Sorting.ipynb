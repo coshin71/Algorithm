{
  "nbformat": 4,
  "nbformat_minor": 0,
  "metadata": {
    "colab": {
      "name": "Sorting.ipynb",
      "provenance": [],
      "authorship_tag": "ABX9TyN4OE+3sIRMzP3qualkftjR",
      "include_colab_link": true
    },
    "kernelspec": {
      "name": "python3",
      "display_name": "Python 3"
    },
    "language_info": {
      "name": "python"
    }
  },
  "cells": [
    {
      "cell_type": "markdown",
      "metadata": {
        "id": "view-in-github",
        "colab_type": "text"
      },
      "source": [
        "<a href=\"https://colab.research.google.com/github/coshin71/Algorithm/blob/main/Sorting.ipynb\" target=\"_parent\"><img src=\"https://colab.research.google.com/assets/colab-badge.svg\" alt=\"Open In Colab\"/></a>"
      ]
    },
    {
      "cell_type": "markdown",
      "source": [
        "#**Bubble Sort**"
      ],
      "metadata": {
        "id": "xvaxOiDNMk6k"
      }
    },
    {
      "cell_type": "code",
      "source": [
        "array = [7, 5, 9, 0, 3, 1, 6, 2, 4, 8]\n",
        "\n",
        "for i in range(len(array) - 1, 0, -1):\n",
        "    for j in range(0, i):\n",
        "        if array[j] > array[j + 1]:\n",
        "            array[j], array[j + 1] = array[j + 1], array[j]\n",
        "\n",
        "print(array)"
      ],
      "metadata": {
        "colab": {
          "base_uri": "https://localhost:8080/"
        },
        "id": "3ky916y7MoMP",
        "outputId": "54c9a86c-8e3e-4730-962d-3de2f182960d"
      },
      "execution_count": 20,
      "outputs": [
        {
          "output_type": "stream",
          "name": "stdout",
          "text": [
            "[0, 1, 2, 3, 4, 5, 6, 7, 8, 9]\n"
          ]
        }
      ]
    },
    {
      "cell_type": "markdown",
      "source": [
        "#**Selection Sort**"
      ],
      "metadata": {
        "id": "EolGK6zyGMRd"
      }
    },
    {
      "cell_type": "code",
      "execution_count": 21,
      "metadata": {
        "colab": {
          "base_uri": "https://localhost:8080/"
        },
        "id": "RghYZvRfGG5u",
        "outputId": "b4c687c0-d0e3-400a-d73b-3e8c1f903511"
      },
      "outputs": [
        {
          "output_type": "stream",
          "name": "stdout",
          "text": [
            "[0, 1, 2, 3, 4, 5, 6, 7, 8, 9]\n"
          ]
        }
      ],
      "source": [
        "array = [7, 5, 9, 0, 3, 1, 6, 2, 4, 8]\n",
        "\n",
        "for i in range(len(array)):\n",
        "    min_index = i\n",
        "    for j in range(i + 1, len(array)):\n",
        "        if array[min_index] > array[j]:\n",
        "            min_index = j\n",
        "    array[i], array[min_index] = array[min_index], array[i]\n",
        "\n",
        "print(array)"
      ]
    },
    {
      "cell_type": "markdown",
      "source": [
        "#**Insertion Sort**"
      ],
      "metadata": {
        "id": "trnAmQh1HCnf"
      }
    },
    {
      "cell_type": "code",
      "source": [
        "array = [7, 5, 9, 0, 3, 1, 6, 2, 4, 8]\n",
        "\n",
        "for i in range(1, len(array)):\n",
        "    for j in range(i, 0, -1):\n",
        "        if array[j] < array[j - 1]:\n",
        "            array[j], array[j - 1] = array[j - 1], array[j]\n",
        "        else:\n",
        "            break\n",
        "\n",
        "print(array)"
      ],
      "metadata": {
        "colab": {
          "base_uri": "https://localhost:8080/"
        },
        "id": "Zf-uEnFXHHPr",
        "outputId": "142098f4-d404-4c4c-91ec-57fd6277e550"
      },
      "execution_count": 22,
      "outputs": [
        {
          "output_type": "stream",
          "name": "stdout",
          "text": [
            "[0, 1, 2, 3, 4, 5, 6, 7, 8, 9]\n"
          ]
        }
      ]
    },
    {
      "cell_type": "markdown",
      "source": [
        "#**Quick Sort**"
      ],
      "metadata": {
        "id": "qCsrl1A6IgdK"
      }
    },
    {
      "cell_type": "code",
      "source": [
        "array = [7, 5, 9, 0, 3, 1, 6, 2, 4, 8]\n",
        "\n",
        "def quick_sort(array, start, end):\n",
        "    if start >= end:\n",
        "        return\n",
        "    pivot = start\n",
        "    left = start + 1\n",
        "    right = end\n",
        "    while left <= right:\n",
        "        while left <= end and array[left] <= array[pivot]:\n",
        "            left += 1\n",
        "        while right > start and array[right] >= array[pivot]:\n",
        "            right -= 1\n",
        "        if left > right:\n",
        "            array[right], array[pivot] = array[pivot], array[right]\n",
        "        else:\n",
        "            array[left], array[right] = array[right], array[left]\n",
        "    quick_sort(array, start, right - 1)\n",
        "    quick_sort(array, right + 1, end)\n",
        "\n",
        "quick_sort(array, 0, len(array) - 1)\n",
        "\n",
        "print(array)"
      ],
      "metadata": {
        "colab": {
          "base_uri": "https://localhost:8080/"
        },
        "id": "KFzk661hIito",
        "outputId": "adffc1e3-8ea7-43c4-b5e2-39256dc7f784"
      },
      "execution_count": 23,
      "outputs": [
        {
          "output_type": "stream",
          "name": "stdout",
          "text": [
            "[0, 1, 2, 3, 4, 5, 6, 7, 8, 9]\n"
          ]
        }
      ]
    },
    {
      "cell_type": "markdown",
      "source": [
        "#**Merge Sort**"
      ],
      "metadata": {
        "id": "yyryoo8FLxDN"
      }
    },
    {
      "cell_type": "code",
      "source": [
        "def merge_sort(array):\n",
        "    if len(array) <= 1:\n",
        "        return array\n",
        "    mid = len(array) // 2\n",
        "    left = array[:mid]\n",
        "    right = array[mid:]\n",
        "    left = merge_sort(left)\n",
        "    right = merge_sort(right)\n",
        "\n",
        "    return merge(left, right)\n",
        "\n",
        "def merge(left, right):\n",
        "    result = []\n",
        "    while len(left) > 0 and len(right) > 0:\n",
        "        if left[0] <= right[0]:\n",
        "            result.append(left.pop(0))\n",
        "        else:\n",
        "            result.append(right.pop(0))    \n",
        "    if len(left) > 0:\n",
        "        result += left    \n",
        "    elif len(right) > 0:\n",
        "        result += right\n",
        "            \n",
        "    return result\n",
        "\n",
        "merge_sort(array)\n",
        "\n",
        "print(array)"
      ],
      "metadata": {
        "colab": {
          "base_uri": "https://localhost:8080/"
        },
        "id": "ppUjPuvaLyt0",
        "outputId": "78d0a01e-b3a8-49ed-a2da-182e00359781"
      },
      "execution_count": 24,
      "outputs": [
        {
          "output_type": "stream",
          "name": "stdout",
          "text": [
            "[0, 1, 2, 3, 4, 5, 6, 7, 8, 9]\n"
          ]
        }
      ]
    },
    {
      "cell_type": "markdown",
      "source": [
        "#**Count Sort**"
      ],
      "metadata": {
        "id": "ozHcEX-KRIa3"
      }
    },
    {
      "cell_type": "code",
      "source": [
        "array = [7, 5, 9, 0, 3, 1, 6, 2, 4, 8]\n",
        "count = [0] * (max(array) + 1)\n",
        "\n",
        "for i in range(len(array)):\n",
        "    count[array[i]] += 1\n",
        "\n",
        "for i in range(len(count)):\n",
        "    for j in range(count[i]):\n",
        "        print(i, end=' ')"
      ],
      "metadata": {
        "colab": {
          "base_uri": "https://localhost:8080/"
        },
        "id": "03ThpTnLRKLt",
        "outputId": "b1c931b6-c1a4-4942-e000-cc0fcc48a21a"
      },
      "execution_count": 25,
      "outputs": [
        {
          "output_type": "stream",
          "name": "stdout",
          "text": [
            "0 1 2 3 4 5 6 7 8 9 "
          ]
        }
      ]
    }
  ]
}
