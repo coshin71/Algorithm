{
  "nbformat": 4,
  "nbformat_minor": 0,
  "metadata": {
    "colab": {
      "name": "Shortest_path.ipynb",
      "provenance": [],
      "collapsed_sections": [],
      "authorship_tag": "ABX9TyP6iiUqaDnZ8KyGMlu+ZAoz",
      "include_colab_link": true
    },
    "kernelspec": {
      "name": "python3",
      "display_name": "Python 3"
    },
    "language_info": {
      "name": "python"
    }
  },
  "cells": [
    {
      "cell_type": "markdown",
      "metadata": {
        "id": "view-in-github",
        "colab_type": "text"
      },
      "source": [
        "<a href=\"https://colab.research.google.com/github/coshin71/Algorithm/blob/main/Shortest_path.ipynb\" target=\"_parent\"><img src=\"https://colab.research.google.com/assets/colab-badge.svg\" alt=\"Open In Colab\"/></a>"
      ]
    },
    {
      "cell_type": "markdown",
      "source": [
        "#**Dijkstra algorithm**"
      ],
      "metadata": {
        "id": "sFfqRME2UqZh"
      }
    },
    {
      "cell_type": "code",
      "execution_count": 5,
      "metadata": {
        "colab": {
          "base_uri": "https://localhost:8080/"
        },
        "id": "F0I3cmvhUVg5",
        "outputId": "1fbeb798-cd25-4ebb-a938-7d24a9765362"
      },
      "outputs": [
        {
          "output_type": "stream",
          "name": "stdout",
          "text": [
            "6 11\n",
            "1\n",
            "1 2 2\n",
            "1 3 5\n",
            "1 4 1\n",
            "2 3 3\n",
            "2 4 2\n",
            "3 2 3\n",
            "3 6 5\n",
            "4 3 3\n",
            "4 5 1\n",
            "5 3 1\n",
            "5 6 2\n",
            "0 2 3 1 2 4 "
          ]
        }
      ],
      "source": [
        "import heapq\n",
        "INF = int(1e9)\n",
        "\n",
        "n, m = map(int, input().split())\n",
        "start = int(input())\n",
        "graph = [[] for _ in range(n + 1)]\n",
        "distance = [INF] * (n + 1)\n",
        "\n",
        "for _ in range(m):\n",
        "    a, b, c = map(int, input().split())\n",
        "    graph[a].append((b, c))\n",
        "\n",
        "def dijkstra(start):\n",
        "    q = []\n",
        "    heapq.heappush(q, (0, start))\n",
        "    distance[start] = 0\n",
        "    while q:\n",
        "        dist, now = heapq.heappop(q)\n",
        "        if distance[now] < dist:\n",
        "            continue\n",
        "        for i in graph[now]:\n",
        "            cost = dist + i[1]\n",
        "            if cost < distance[i[0]]:\n",
        "                distance[i[0]] = cost\n",
        "                heapq.heappush(q, (cost, i[0]))\n",
        "\n",
        "dijkstra(start)\n",
        "\n",
        "for i in range(1, n + 1):\n",
        "    if distance[i] == INF:\n",
        "        print(\"INFINITY\")\n",
        "    else:\n",
        "        print(distance[i], end=' ')"
      ]
    },
    {
      "cell_type": "markdown",
      "source": [
        "#**Floyd-Warshall algorithm**"
      ],
      "metadata": {
        "id": "CGkLBJVsaLB0"
      }
    },
    {
      "cell_type": "code",
      "source": [
        "INF = int(1e9)\n",
        "\n",
        "n = int(input())\n",
        "m = int(input())\n",
        "graph = [[INF] * (n + 1) for _ in range(n + 1)]\n",
        "\n",
        "for a in range(1, n + 1):\n",
        "    for b in range(1, n + 1):\n",
        "        if a == b:\n",
        "            graph[a][b] = 0\n",
        "\n",
        "for _ in range(m):\n",
        "    a, b, c = map(int, input().split())\n",
        "    graph[a][b] = c\n",
        "\n",
        "for k in range(1, n + 1):\n",
        "    for a in range(1, n + 1):\n",
        "        for b in range(1, n + 1):\n",
        "            graph[a][b] = min(graph[a][b], graph[a][k] + graph[k][b])\n",
        "\n",
        "for a in range(1, n + 1):\n",
        "    for b in range(1, n + 1):\n",
        "        if graph[a][b] == INF:\n",
        "            print(\"INFINITY\", end=' ')\n",
        "        else:\n",
        "            print(graph[a][b], end=' ')\n",
        "    print()"
      ],
      "metadata": {
        "id": "xp_1ZgGMaTOI",
        "colab": {
          "base_uri": "https://localhost:8080/"
        },
        "outputId": "ab34c515-d41b-4b4e-d5ca-ac4a69351b62"
      },
      "execution_count": 1,
      "outputs": [
        {
          "output_type": "stream",
          "name": "stdout",
          "text": [
            "4\n",
            "7\n",
            "1 2 4\n",
            "1 4 6\n",
            "2 1 3\n",
            "2 3 7\n",
            "3 1 5\n",
            "3 4 4\n",
            "4 3 2\n",
            "0 4 8 6 \n",
            "3 0 7 9 \n",
            "5 9 0 4 \n",
            "7 11 2 0 \n"
          ]
        }
      ]
    },
    {
      "cell_type": "markdown",
      "source": [
        "#**Bellman-Ford algorithm**"
      ],
      "metadata": {
        "id": "amp5xzqWeMg5"
      }
    },
    {
      "cell_type": "code",
      "source": [
        "INF = int(1e9)\n",
        "\n",
        "n, m = map(int, input().split())\n",
        "edges = []\n",
        "distance = [INF] * (n + 1)\n",
        "\n",
        "for _ in range(m):\n",
        "    a, b, c = map(int, input().split())\n",
        "    edges.append((a, b, c))\n",
        "\n",
        "def bf(start):\n",
        "    distance[start] = 0\n",
        "    for i in range(n):\n",
        "        for j in range(m):\n",
        "            now = edges[j][0]\n",
        "            next = edges[j][1]\n",
        "            cost = edges[j][2]\n",
        "            if distance[now] != INF and distance[next] > distance[now] + cost:\n",
        "                distance[next] = distance[now] + cost\n",
        "                if i == n - 1:\n",
        "                    return True\n",
        "    return False\n",
        "\n",
        "\n",
        "negative_cycle = bf(1)\n",
        "\n",
        "if negative_cycle:\n",
        "    print(\"NEGATIVE CYCLE\")\n",
        "else:\n",
        "    for i in range(1, n + 1):\n",
        "        if distance[i] == INF:\n",
        "            print(\"INFINITY\")\n",
        "        else:\n",
        "            print(distance[i], end=' ')"
      ],
      "metadata": {
        "colab": {
          "base_uri": "https://localhost:8080/"
        },
        "id": "Emgw-gPceW1n",
        "outputId": "7c42fa8f-156f-4a51-86b0-f4f0009dab02"
      },
      "execution_count": 4,
      "outputs": [
        {
          "output_type": "stream",
          "name": "stdout",
          "text": [
            "6 9\n",
            "1 2 6\n",
            "1 3 2\n",
            "2 4 2\n",
            "2 3 2\n",
            "3 5 1\n",
            "4 6 2\n",
            "5 2 -2\n",
            "5 4 3\n",
            "5 6 4\n",
            "0 1 2 3 3 5 "
          ]
        }
      ]
    }
  ]
}
