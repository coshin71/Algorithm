{
  "nbformat": 4,
  "nbformat_minor": 0,
  "metadata": {
    "colab": {
      "name": "DFS&BFS.ipynb",
      "provenance": [],
      "authorship_tag": "ABX9TyPVOjpzx/+kNtO/A4vp7q8c",
      "include_colab_link": true
    },
    "kernelspec": {
      "name": "python3",
      "display_name": "Python 3"
    },
    "language_info": {
      "name": "python"
    }
  },
  "cells": [
    {
      "cell_type": "markdown",
      "metadata": {
        "id": "view-in-github",
        "colab_type": "text"
      },
      "source": [
        "<a href=\"https://colab.research.google.com/github/coshin71/Algorithm/blob/main/DFS%26BFS.ipynb\" target=\"_parent\"><img src=\"https://colab.research.google.com/assets/colab-badge.svg\" alt=\"Open In Colab\"/></a>"
      ]
    },
    {
      "cell_type": "markdown",
      "source": [
        "#**DFS**"
      ],
      "metadata": {
        "id": "wshsOyZr3cxa"
      }
    },
    {
      "cell_type": "code",
      "execution_count": 1,
      "metadata": {
        "colab": {
          "base_uri": "https://localhost:8080/"
        },
        "id": "duqDD0q33Uul",
        "outputId": "b59a8cfe-94b7-4438-b7a3-f6cf8d8450b7"
      },
      "outputs": [
        {
          "output_type": "stream",
          "name": "stdout",
          "text": [
            "1 2 7 6 8 3 4 5 "
          ]
        }
      ],
      "source": [
        "def dfs(graph, visited, v):\n",
        "    visited[v] = True\n",
        "    print(v, end=' ')\n",
        "    for i in graph[v]:\n",
        "        if not visited[i]:\n",
        "            dfs(graph, visited, i)\n",
        "\n",
        "graph = [\n",
        "    [],\n",
        "    [2,3,8],\n",
        "    [1,7],\n",
        "    [1,4,5],\n",
        "    [3,5],\n",
        "    [3,4],\n",
        "    [7],\n",
        "    [2,6,8],\n",
        "    [1,7]\n",
        "]\n",
        "\n",
        "visited=[False] * 9\n",
        "\n",
        "dfs(graph, visited, 1)"
      ]
    },
    {
      "cell_type": "markdown",
      "source": [
        "#**BFS**"
      ],
      "metadata": {
        "id": "kKpIV9rQ3hss"
      }
    },
    {
      "cell_type": "code",
      "source": [
        "from collections import deque\n",
        "\n",
        "def bfs(graph, visited, start):\n",
        "    visited[start] = True\n",
        "    queue = deque([start])\n",
        "    while queue:\n",
        "        v = queue.popleft()\n",
        "        print(v, end=' ')\n",
        "        for i in graph[v]:\n",
        "            if not visited[i]:\n",
        "                visited[i] = True\n",
        "                queue.append(i)\n",
        "\n",
        "graph = [\n",
        "    [],\n",
        "    [2,3,8],\n",
        "    [1,7],\n",
        "    [1,4,5],\n",
        "    [3,5],\n",
        "    [3,4],\n",
        "    [7],\n",
        "    [2,6,8],\n",
        "    [1,7]\n",
        "]\n",
        "\n",
        "visited=[False] * 9\n",
        "\n",
        "bfs(graph, visited, 1)"
      ],
      "metadata": {
        "colab": {
          "base_uri": "https://localhost:8080/"
        },
        "id": "Md-FwUIL3jaa",
        "outputId": "0d3d66ce-482b-458c-cbe3-8a6d1bdef0dc"
      },
      "execution_count": 12,
      "outputs": [
        {
          "output_type": "stream",
          "name": "stdout",
          "text": [
            "1 2 3 8 7 4 5 6 "
          ]
        }
      ]
    }
  ]
}