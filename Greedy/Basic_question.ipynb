{
  "nbformat": 4,
  "nbformat_minor": 0,
  "metadata": {
    "colab": {
      "name": "Basic_question.ipynb",
      "provenance": [],
      "authorship_tag": "ABX9TyPN7Cc2vEnTp8a0xwioiDpx",
      "include_colab_link": true
    },
    "kernelspec": {
      "name": "python3",
      "display_name": "Python 3"
    },
    "language_info": {
      "name": "python"
    }
  },
  "cells": [
    {
      "cell_type": "markdown",
      "metadata": {
        "id": "view-in-github",
        "colab_type": "text"
      },
      "source": [
        "<a href=\"https://colab.research.google.com/github/coshin71/Algorithm/blob/main/Basic_question.ipynb\" target=\"_parent\"><img src=\"https://colab.research.google.com/assets/colab-badge.svg\" alt=\"Open In Colab\"/></a>"
      ]
    },
    {
      "cell_type": "markdown",
      "source": [
        "#**거스름돈**"
      ],
      "metadata": {
        "id": "1CDELlJ5u3V-"
      }
    },
    {
      "cell_type": "code",
      "execution_count": 1,
      "metadata": {
        "colab": {
          "base_uri": "https://localhost:8080/"
        },
        "id": "HxXkoNBvu1ik",
        "outputId": "58a27ce3-4d81-4cb9-8970-bcecabe05852"
      },
      "outputs": [
        {
          "output_type": "stream",
          "name": "stdout",
          "text": [
            "1260\n",
            "6\n"
          ]
        }
      ],
      "source": [
        "n = int(input())\n",
        "\n",
        "coin_types = [500, 100, 50, 10]\n",
        "\n",
        "count = 0 \n",
        "for coin in coin_types:\n",
        "    count += n // coin\n",
        "    n %= coin\n",
        "\n",
        "print(count)"
      ]
    },
    {
      "cell_type": "markdown",
      "source": [
        "#**큰 수의 법칙**"
      ],
      "metadata": {
        "id": "AS4eTdIAu-97"
      }
    },
    {
      "cell_type": "code",
      "source": [
        "n, m, k = map(int, input().split())\n",
        "\n",
        "data = list(map(int, input().split()))\n",
        "data.sort()\n",
        "\n",
        "first = data[n - 1]\n",
        "second = data[n - 2]\n",
        "\n",
        "result = 0\n",
        "while True:\n",
        "    for i in range(k):\n",
        "        if m == 0:\n",
        "            break\n",
        "        result += first\n",
        "        m -= 1\n",
        "    if m == 0:\n",
        "        break\n",
        "    result += second\n",
        "    m -= 1\n",
        "\n",
        "print(result)"
      ],
      "metadata": {
        "colab": {
          "base_uri": "https://localhost:8080/"
        },
        "id": "Z_2m0GJmvU6H",
        "outputId": "71e0ae4d-8012-40d2-9cf2-869e18ef3953"
      },
      "execution_count": 2,
      "outputs": [
        {
          "output_type": "stream",
          "name": "stdout",
          "text": [
            "5 8 3\n",
            "2 4 5 4 6\n",
            "46\n"
          ]
        }
      ]
    },
    {
      "cell_type": "markdown",
      "source": [
        "#**숫자 카드 게임**"
      ],
      "metadata": {
        "id": "h-copDWfv1V4"
      }
    },
    {
      "cell_type": "code",
      "source": [
        "n, m = map(int, input().split())\n",
        "\n",
        "result = 0\n",
        "for i in range(n):\n",
        "    data = list(map(int, input().split()))\n",
        "    min_value = min(data)\n",
        "    result = max(result, min_value)\n",
        "\n",
        "print(result)"
      ],
      "metadata": {
        "colab": {
          "base_uri": "https://localhost:8080/"
        },
        "id": "IzkdUXhcv3M0",
        "outputId": "20e6277f-1be2-45b7-e91f-ac979738e51f"
      },
      "execution_count": 3,
      "outputs": [
        {
          "output_type": "stream",
          "name": "stdout",
          "text": [
            "2 4\n",
            "7 3 1 8\n",
            "3 3 3 4\n",
            "3\n"
          ]
        }
      ]
    },
    {
      "cell_type": "markdown",
      "source": [
        "#**1이 될 때 까지**"
      ],
      "metadata": {
        "id": "no8D8SuIzpFY"
      }
    },
    {
      "cell_type": "code",
      "source": [
        "n, k = map(int, input().split())\n",
        "\n",
        "result = 0\n",
        "while n >= k:\n",
        "    while n % k != 0:\n",
        "        n -= 1\n",
        "        result += 1\n",
        "    n //= k \n",
        "    result += 1\n",
        "\n",
        "while n > 1:\n",
        "    n -= 1\n",
        "    result += 1\n",
        "\n",
        "print(result)"
      ],
      "metadata": {
        "colab": {
          "base_uri": "https://localhost:8080/"
        },
        "id": "QTSb7nafzq6N",
        "outputId": "dc0c4c47-43ef-49fe-d039-960b75245c62"
      },
      "execution_count": 5,
      "outputs": [
        {
          "output_type": "stream",
          "name": "stdout",
          "text": [
            "25 3\n",
            "6\n"
          ]
        }
      ]
    }
  ]
}
