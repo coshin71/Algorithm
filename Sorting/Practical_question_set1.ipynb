{
  "nbformat": 4,
  "nbformat_minor": 0,
  "metadata": {
    "colab": {
      "name": "Practical_question_set1.ipynb",
      "provenance": [],
      "collapsed_sections": [],
      "authorship_tag": "ABX9TyPCmZ9IYwEYONwDI44UW+v9",
      "include_colab_link": true
    },
    "kernelspec": {
      "name": "python3",
      "display_name": "Python 3"
    },
    "language_info": {
      "name": "python"
    }
  },
  "cells": [
    {
      "cell_type": "markdown",
      "metadata": {
        "id": "view-in-github",
        "colab_type": "text"
      },
      "source": [
        "<a href=\"https://colab.research.google.com/github/coshin71/Algorithm/blob/main/Practical_question_set1.ipynb\" target=\"_parent\"><img src=\"https://colab.research.google.com/assets/colab-badge.svg\" alt=\"Open In Colab\"/></a>"
      ]
    },
    {
      "cell_type": "markdown",
      "source": [
        "#**국영수**"
      ],
      "metadata": {
        "id": "HjrbfoLicjcj"
      }
    },
    {
      "cell_type": "code",
      "execution_count": null,
      "metadata": {
        "colab": {
          "base_uri": "https://localhost:8080/"
        },
        "id": "WeYKo8r_cWht",
        "outputId": "b939a9df-0310-4f85-9e8f-089d6ecb398d"
      },
      "outputs": [
        {
          "output_type": "stream",
          "name": "stdout",
          "text": [
            "12\n",
            "Junkyu 50 60 100\n",
            "Sangkeun 80 60 50\n",
            "Sunyoung 80 70 100\n",
            "Soong 50 60 90\n",
            "Haebin 50 60 100\n",
            "Kangsoo 60 80 100\n",
            "Donghyuk 80 60 100\n",
            "Sei 70 70 70\n",
            "Wonseob 70 70 90\n",
            "Sanghyun 70 70 80\n",
            "nsj 80 80 80\n",
            "Tawwhan 50 60 90\n",
            "Donghyuk\n",
            "Sangkeun\n",
            "Sunyoung\n",
            "nsj\n",
            "Wonseob\n",
            "Sanghyun\n",
            "Sei\n",
            "Kangsoo\n",
            "Haebin\n",
            "Junkyu\n",
            "Soong\n",
            "Tawwhan\n"
          ]
        }
      ],
      "source": [
        "n = int(input())\n",
        "\n",
        "students = []\n",
        "for _ in range(n):\n",
        "    data = list(input().split())\n",
        "    for i in range(1, 4):\n",
        "        data[i] = int(data[i])\n",
        "    students.append(data)\n",
        "\n",
        "students.sort(key=lambda x: (-x[1], x[2], -x[3], x[0]))\n",
        "\n",
        "for student in students:\n",
        "    print(student[0])"
      ]
    },
    {
      "cell_type": "markdown",
      "source": [
        "#**안테나**"
      ],
      "metadata": {
        "id": "g93F4vbkgL6W"
      }
    },
    {
      "cell_type": "code",
      "source": [
        "n = int(input())\n",
        "houses = list(map(int, input().split()))\n",
        "houses.sort()\n",
        "\n",
        "mid = len(houses) // 2 if len(houses) % 2 != 0 else len(houses) // 2 - 1\n",
        "\n",
        "print(houses[mid])"
      ],
      "metadata": {
        "id": "HywJety4gN1J",
        "colab": {
          "base_uri": "https://localhost:8080/"
        },
        "outputId": "49297e09-4aaa-4730-a0fd-4f81bd4d9762"
      },
      "execution_count": 2,
      "outputs": [
        {
          "output_type": "stream",
          "name": "stdout",
          "text": [
            "4\n",
            "5 1 7 9\n",
            "5\n"
          ]
        }
      ]
    },
    {
      "cell_type": "markdown",
      "source": [
        "#**실패율**"
      ],
      "metadata": {
        "id": "SAsJ1GFwkUOx"
      }
    },
    {
      "cell_type": "code",
      "source": [
        "n = int(input())\n",
        "stages = list(map(int, input().split()))\n",
        "stages.sort()\n",
        "\n",
        "data = []\n",
        "for i in range(1, n + 1):\n",
        "    reach_cnt = 0\n",
        "    stay_cnt = 0\n",
        "    for j in range(0, len(stages)):\n",
        "        if i <= stages[j]:\n",
        "            reach_cnt += 1\n",
        "            if i == stages[j]:\n",
        "                stay_cnt += 1\n",
        "    data.append((i, stay_cnt / reach_cnt))\n",
        "\n",
        "data.sort(key=lambda x: (-x[1], x[0]))\n",
        "result = []\n",
        "for d in data:\n",
        "    result.append(d[0])\n",
        "\n",
        "print(result)"
      ],
      "metadata": {
        "colab": {
          "base_uri": "https://localhost:8080/"
        },
        "id": "tPF2rFhpkVbk",
        "outputId": "48912348-c8e6-431f-864a-2d57b5ab2c0c"
      },
      "execution_count": 12,
      "outputs": [
        {
          "output_type": "stream",
          "name": "stdout",
          "text": [
            "5\n",
            "2 1 2 6 2 4 3 3\n",
            "[3, 4, 2, 1, 5]\n"
          ]
        }
      ]
    },
    {
      "cell_type": "markdown",
      "source": [
        "#**카드 정렬하기**"
      ],
      "metadata": {
        "id": "WPiGMYqYug4l"
      }
    },
    {
      "cell_type": "code",
      "source": [
        "import heapq\n",
        "\n",
        "n = int(input())\n",
        "\n",
        "cards = []\n",
        "for _ in range(n):\n",
        "    heapq.heappush(cards, int(input())) \n",
        "\n",
        "if len(cards) == 1:\n",
        "    print(cards[0])\n",
        "else:\n",
        "    result = 0\n",
        "    while len(cards) >= 2:\n",
        "        card1 = heapq.heappop(cards)\n",
        "        card2 = heapq.heappop(cards)\n",
        "        result += (card1 + card2)\n",
        "        heapq.heappush(cards, card1 + card2)\n",
        "    print(result)"
      ],
      "metadata": {
        "colab": {
          "base_uri": "https://localhost:8080/"
        },
        "id": "JbEsKiSRqWT2",
        "outputId": "2275cf7f-f753-4f2a-b884-ade4925c15df"
      },
      "execution_count": 19,
      "outputs": [
        {
          "output_type": "stream",
          "name": "stdout",
          "text": [
            "5\n",
            "10\n",
            "20\n",
            "40\n",
            "50\n",
            "30\n",
            "330\n"
          ]
        }
      ]
    }
  ]
}
