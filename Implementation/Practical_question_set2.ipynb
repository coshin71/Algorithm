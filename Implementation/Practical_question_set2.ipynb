{
  "nbformat": 4,
  "nbformat_minor": 0,
  "metadata": {
    "colab": {
      "name": "Practical_question_set2.ipynb",
      "provenance": [],
      "collapsed_sections": [],
      "authorship_tag": "ABX9TyMAisv+tDtrmPPeYAPBXn+K",
      "include_colab_link": true
    },
    "kernelspec": {
      "name": "python3",
      "display_name": "Python 3"
    },
    "language_info": {
      "name": "python"
    }
  },
  "cells": [
    {
      "cell_type": "markdown",
      "metadata": {
        "id": "view-in-github",
        "colab_type": "text"
      },
      "source": [
        "<a href=\"https://colab.research.google.com/github/coshin71/Algorithm/blob/main/Practical_question_set2.ipynb\" target=\"_parent\"><img src=\"https://colab.research.google.com/assets/colab-badge.svg\" alt=\"Open In Colab\"/></a>"
      ]
    },
    {
      "cell_type": "markdown",
      "source": [
        "#**문자열 압축**"
      ],
      "metadata": {
        "id": "aA4NFvQ3UNwj"
      }
    },
    {
      "cell_type": "code",
      "source": [
        "s = input()\n",
        "print()\n",
        "\n",
        "mid = len(s) // 2\n",
        "min_length = 10000000000\n",
        "for i in range(1, mid + 1):\n",
        "    cand = \"\"\n",
        "    count = 1\n",
        "    for j in range(len(s) // i - 1):\n",
        "        if s[j*i:(j+1)*i] == s[(j+1)*i:(j+2)*i]:\n",
        "            count += 1\n",
        "            if j == len(s) // i - 2:\n",
        "                cand += str(count) + s[j*i:(j+1)*i]\n",
        "            continue\n",
        "        else:\n",
        "            if count == 1:\n",
        "                cand += s[j*i:(j+1)*i]\n",
        "                if j == len(s) // i - 2:\n",
        "                    cand += s[(j+1)*i:(j+2)*i]\n",
        "            else:\n",
        "                cand += str(count) + s[j*i:(j+1)*i]\n",
        "                if j == len(s) // i - 2:\n",
        "                    cand += s[(j+1)*i:(j+2)*i]\n",
        "        count = 1\n",
        "    remain = len(s) % i\n",
        "    cand += s[len(s)-remain:]\n",
        "    print(cand)\n",
        "    min_length = min(min_length, len(cand))\n",
        "\n",
        "print()\n",
        "print(min_length)"
      ],
      "metadata": {
        "id": "pJMUH1o7UN2X",
        "colab": {
          "base_uri": "https://localhost:8080/"
        },
        "outputId": "61ea9b01-c28e-4610-f331-e06848c7981c"
      },
      "execution_count": 16,
      "outputs": [
        {
          "output_type": "stream",
          "name": "stdout",
          "text": [
            "abcabcabcabcdededededede\n",
            "\n",
            "abcabcabcabcdededededede\n",
            "abcabcabcabc6de\n",
            "4abcdededededede\n",
            "abcabcabcabc3dede\n",
            "abcabcabcabcdededededede\n",
            "2abcabc2dedede\n",
            "abcabcabcabcdededededede\n",
            "abcabcabcabcdededededede\n",
            "abcabcabcabcdededededede\n",
            "abcabcabcabcdededededede\n",
            "abcabcabcabcdededededede\n",
            "abcabcabcabcdededededede\n",
            "\n",
            "14\n"
          ]
        }
      ]
    },
    {
      "cell_type": "code",
      "source": [
        "s = input()\n",
        "\n",
        "def solution(s):\n",
        "    answer = len(s)\n",
        "    for step in range(1, len(s) // 2 + 1):\n",
        "        compressed = \"\"\n",
        "        prev = s[0:step]\n",
        "        count = 1\n",
        "        for j in range(step, len(s), step):\n",
        "            if prev == s[j:j + step]:\n",
        "                count += 1\n",
        "            else:\n",
        "                compressed += str(count) + prev if count >= 2 else prev\n",
        "                prev = s[j:j + step]\n",
        "                count = 1\n",
        "        compressed += str(count) + prev if count >= 2 else prev\n",
        "        answer = min(answer, len(compressed))\n",
        "    return answer\n",
        "\n",
        "solution(s)"
      ],
      "metadata": {
        "colab": {
          "base_uri": "https://localhost:8080/"
        },
        "id": "GQnuj3Yd5Svb",
        "outputId": "16586e9e-c7b4-4a26-acbe-e87e42f4bd51"
      },
      "execution_count": 23,
      "outputs": [
        {
          "name": "stdout",
          "output_type": "stream",
          "text": [
            "abcabcabcabcdededededede\n"
          ]
        },
        {
          "output_type": "execute_result",
          "data": {
            "text/plain": [
              "14"
            ]
          },
          "metadata": {},
          "execution_count": 23
        }
      ]
    },
    {
      "cell_type": "markdown",
      "source": [
        "#**자물쇠와 열쇠**"
      ],
      "metadata": {
        "id": "ANHIQ46VUT_d"
      }
    },
    {
      "cell_type": "code",
      "source": [
        "m = int(input())\n",
        "key = []\n",
        "for _ in range(m):\n",
        "    key.append(list(map(int, input().split())))\n",
        "\n",
        "n = int(input())\n",
        "lock = []\n",
        "for _ in range(n):\n",
        "    lock.append(list(map(int, input().split())))\n",
        "\n",
        "def rotate_matrix_by_90_degree(a):\n",
        "    n = len(a)\n",
        "    m = len(a[0])\n",
        "    result = [[0] * n for _ in range(m)]\n",
        "    for i in range(n):\n",
        "        for j in range(m):\n",
        "            result[j][n - i - 1]= a[i][j]\n",
        "    return result\n",
        "\n",
        "def check(new_lock):\n",
        "    lock_length = len(new_lock) // 3\n",
        "    for i in range(lock_length, lock_length * 2):\n",
        "        for j in range(lock_length, lock_length * 2):\n",
        "            if new_lock[i][j] != 1:\n",
        "                return False\n",
        "    return True\n",
        "\n",
        "def solution(key, lock):\n",
        "    n = len(lock)\n",
        "    m = len(key)\n",
        "    new_lock = [[0] * (n * 3) for _ in range(n * 3)]\n",
        "    for i in range(n):\n",
        "        for j in range(n):\n",
        "            new_lock[i + n][j + n] = lock[i][j]\n",
        "    \n",
        "    for _ in range(4):\n",
        "        key = rotate_matrix_by_90_degree(key)      \n",
        "        for x in range(n * 2):\n",
        "            for y in range(n * 2):\n",
        "                for i in range(m):\n",
        "                    for j in range(m):\n",
        "                        new_lock[x + i][y + j] += key[i][j]\n",
        "                if check(new_lock) == True:\n",
        "                    return True\n",
        "                for i in range(m):\n",
        "                    for j in range(m):\n",
        "                        new_lock[x + i][y + j] -= key[i][j]\n",
        "    return False\n",
        "\n",
        "solution(key, lock)"
      ],
      "metadata": {
        "id": "QMI34_pCUVUZ",
        "colab": {
          "base_uri": "https://localhost:8080/"
        },
        "outputId": "bcb88e16-c797-404f-8c32-432894da93e3"
      },
      "execution_count": 20,
      "outputs": [
        {
          "name": "stdout",
          "output_type": "stream",
          "text": [
            "3\n",
            "0 0 0\n",
            "1 0 0\n",
            "0 0 1\n",
            "3\n",
            "1 1 1\n",
            "1 1 0\n",
            "1 0 1\n"
          ]
        },
        {
          "output_type": "execute_result",
          "data": {
            "text/plain": [
              "False"
            ]
          },
          "metadata": {},
          "execution_count": 20
        }
      ]
    }
  ]
}
